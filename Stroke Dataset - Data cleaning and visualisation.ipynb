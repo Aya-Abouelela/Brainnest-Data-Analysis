{
 "cells": [
  {
   "cell_type": "code",
   "execution_count": 4,
   "metadata": {},
   "outputs": [],
   "source": [
    "import numpy as np \n",
    "import pandas as pd\n",
    "import matplotlib.pyplot as plt"
   ]
  },
  {
   "cell_type": "code",
   "execution_count": 5,
   "metadata": {},
   "outputs": [],
   "source": [
    "df = pd.read_csv('Group D. stroke_data.csv')"
   ]
  },
  {
   "cell_type": "code",
   "execution_count": 7,
   "metadata": {},
   "outputs": [],
   "source": [
    "df.loc[(df['age'] <= 17) & (df['work_type'] == 'children')];"
   ]
  },
  {
   "cell_type": "code",
   "execution_count": 12,
   "metadata": {},
   "outputs": [],
   "source": [
    "df = df.dropna()"
   ]
  },
  {
   "cell_type": "code",
   "execution_count": 10,
   "metadata": {},
   "outputs": [],
   "source": [
    "df1.to_csv(\"Stroke_data_cleaned.csv\")"
   ]
  },
  {
   "cell_type": "code",
   "execution_count": 9,
   "metadata": {},
   "outputs": [],
   "source": [
    "df1 = df.dropna()\n",
    "df2 = df1.drop((df1[df1['work_type'] == 'children'].index))\n",
    "df3 = df2.drop((df2[df2['age'] <= 17].index));"
   ]
  },
  {
   "cell_type": "code",
   "execution_count": 413,
   "metadata": {},
   "outputs": [],
   "source": [
    "df3.loc[(df3['bmi'] > 45)];"
   ]
  },
  {
   "cell_type": "code",
   "execution_count": 414,
   "metadata": {},
   "outputs": [],
   "source": [
    "df2.loc[(df2['age'] <= 17) & (df2['ever_married'] == 'Yes')];"
   ]
  },
  {
   "cell_type": "code",
   "execution_count": 415,
   "metadata": {},
   "outputs": [],
   "source": [
    "df2.loc[(df2['age'] <= 17) & (df2['stroke'] == 1.0)];"
   ]
  },
  {
   "cell_type": "code",
   "execution_count": 410,
   "metadata": {},
   "outputs": [],
   "source": [
    "x1 = df1.drop((df1[df1['bmi'] > 50].index))\n",
    "x2 = x1.drop((x1[x1['age'] < 17].index));"
   ]
  },
  {
   "cell_type": "code",
   "execution_count": 417,
   "metadata": {},
   "outputs": [],
   "source": [
    "df1['bmi'].median();"
   ]
  },
  {
   "cell_type": "code",
   "execution_count": 346,
   "metadata": {},
   "outputs": [
    {
     "data": {
      "text/plain": [
       "Text(0.5, 1.0, 'bmi')"
      ]
     },
     "execution_count": 346,
     "metadata": {},
     "output_type": "execute_result"
    },
    {
     "data": {
      "image/png": "[encoded data removed]",
      "text/plain": [
       "<Figure size 432x288 with 2 Axes>"
      ]
     },
     "metadata": {
      "needs_background": "light"
     },
     "output_type": "display_data"
    }
   ],
   "source": [
    "#df1['age'].plot(kind='box')\n",
    "fig, axs = plt.subplots(1, 2)\n",
    "\n",
    "# basic plot\n",
    "axs[0].boxplot(df3['age'])\n",
    "axs[0].set_title('age')\n",
    "\n",
    "axs[1].boxplot(df3['bmi'])\n",
    "axs[1].set_title('bmi')\n",
    "\n",
    "#axs[1, 0].boxplot(df1['avg_glucose_level'])\n",
    "\n",
    "#axs[1, 1].boxplot()"
   ]
  },
  {
   "cell_type": "code",
   "execution_count": 420,
   "metadata": {},
   "outputs": [
    {
     "data": {
      "text/plain": [
       "Text(0, 0.5, 'bmi')"
      ]
     },
     "execution_count": 420,
     "metadata": {},
     "output_type": "execute_result"
    },
    {
     "data": {
      "image/png": "[encoded data removed]",
      "text/plain": [
       "<Figure size 432x288 with 1 Axes>"
      ]
     },
     "metadata": {
      "needs_background": "light"
     },
     "output_type": "display_data"
    }
   ],
   "source": [
    "plt.boxplot(df3['bmi'])\n",
    "plt.ylabel('bmi')"
   ]
  },
  {
   "cell_type": "code",
   "execution_count": 421,
   "metadata": {},
   "outputs": [
    {
     "data": {
      "text/plain": [
       "Text(0, 0.5, 'bmi')"
      ]
     },
     "execution_count": 421,
     "metadata": {},
     "output_type": "execute_result"
    },
    {
     "data": {
      "image/png": "[encoded data removed]",
      "text/plain": [
       "<Figure size 432x288 with 1 Axes>"
      ]
     },
     "metadata": {
      "needs_background": "light"
     },
     "output_type": "display_data"
    }
   ],
   "source": [
    "#removing outliers of bmi \n",
    "Q1 = df3['bmi'].quantile(0.25)\n",
    "Q3 = df3['bmi'].quantile(0.75)\n",
    "IQR = Q3 - Q1    #IQR is interquartile range. \n",
    "\n",
    "filter = (df3['bmi'] >= Q1 - 1.5 * IQR) & (df3['bmi'] <= Q3 + 1.5 *IQR)\n",
    "df4 = df3.loc[filter]\n",
    "plt.boxplot(df4['bmi'])\n",
    "plt.ylabel('bmi')"
   ]
  },
  {
   "cell_type": "code",
   "execution_count": 372,
   "metadata": {},
   "outputs": [
    {
     "data": {
      "image/png": "[encoded data removed]",
      "text/plain": [
       "<Figure size 432x288 with 1 Axes>"
      ]
     },
     "metadata": {
      "needs_background": "light"
     },
     "output_type": "display_data"
    }
   ],
   "source": [
    "plt.boxplot(df4['avg_glucose_level']);"
   ]
  },
  {
   "cell_type": "code",
   "execution_count": 412,
   "metadata": {},
   "outputs": [],
   "source": [
    "df4.loc[df4['avg_glucose_level'] > 200];"
   ]
  },
  {
   "cell_type": "code",
   "execution_count": 374,
   "metadata": {},
   "outputs": [],
   "source": [
    "df4['bmi'].max();"
   ]
  },
  {
   "cell_type": "code",
   "execution_count": 375,
   "metadata": {},
   "outputs": [],
   "source": [
    "df4['bmi'].min();"
   ]
  },
  {
   "cell_type": "code",
   "execution_count": 376,
   "metadata": {},
   "outputs": [],
   "source": [
    "df4['avg_glucose_level'].min();"
   ]
  },
  {
   "cell_type": "code",
   "execution_count": 377,
   "metadata": {},
   "outputs": [],
   "source": [
    "df4['avg_glucose_level'].max();"
   ]
  },
  {
   "cell_type": "code",
   "execution_count": 378,
   "metadata": {},
   "outputs": [
    {
     "data": {
      "image/png": "[encoded data removed]",
      "text/plain": [
       "<Figure size 432x288 with 1 Axes>"
      ]
     },
     "metadata": {
      "needs_background": "light"
     },
     "output_type": "display_data"
    }
   ],
   "source": [
    "plt.hist(df4['bmi']);"
   ]
  },
  {
   "cell_type": "code",
   "execution_count": 367,
   "metadata": {},
   "outputs": [
    {
     "data": {
      "text/plain": [
       "Text(0, 0.5, 'heart disease')"
      ]
     },
     "execution_count": 367,
     "metadata": {},
     "output_type": "execute_result"
    },
    {
     "data": {
      "image/png": "[encoded data removed]",
      "text/plain": [
       "<Figure size 432x288 with 1 Axes>"
      ]
     },
     "metadata": {
      "needs_background": "light"
     },
     "output_type": "display_data"
    }
   ],
   "source": [
    "plt.scatter(x = df4['age'], y = df4['heart_disease'])\n",
    "plt.xlabel('age')\n",
    "plt.ylabel('heart disease')"
   ]
  },
  {
   "cell_type": "code",
   "execution_count": 368,
   "metadata": {},
   "outputs": [
    {
     "data": {
      "text/plain": [
       "Text(0, 0.5, 'hypertension')"
      ]
     },
     "execution_count": 368,
     "metadata": {},
     "output_type": "execute_result"
    },
    {
     "data": {
      "image/png": "[encoded data removed]",
      "text/plain": [
       "<Figure size 432x288 with 1 Axes>"
      ]
     },
     "metadata": {
      "needs_background": "light"
     },
     "output_type": "display_data"
    }
   ],
   "source": [
    "plt.scatter(x = df4['age'], y = df4['hypertension'])\n",
    "plt.xlabel('age')\n",
    "plt.ylabel('hypertension')"
   ]
  },
  {
   "cell_type": "code",
   "execution_count": 155,
   "metadata": {},
   "outputs": [
    {
     "data": {
      "text/plain": [
       "0"
      ]
     },
     "execution_count": 155,
     "metadata": {},
     "output_type": "execute_result"
    }
   ],
   "source": [
    "df1.duplicated().sum()\n",
    "##no duplicated data "
   ]
  },
  {
   "cell_type": "code",
   "execution_count": 381,
   "metadata": {},
   "outputs": [],
   "source": [
    "df_pos_stroke = df4.loc[df4['stroke'] == 1.0]\n",
    "#df_neg_stroke = df4.loc[df4['stroke'] == 0.0];"
   ]
  },
  {
   "cell_type": "code",
   "execution_count": 426,
   "metadata": {},
   "outputs": [
    {
     "data": {
      "text/html": [
       "<div>\n",
       "<style scoped>\n",
       "    .dataframe tbody tr th:only-of-type {\n",
       "        vertical-align: middle;\n",
       "    }\n",
       "\n",
       "    .dataframe tbody tr th {\n",
       "        vertical-align: top;\n",
       "    }\n",
       "\n",
       "    .dataframe thead th {\n",
       "        text-align: right;\n",
       "    }\n",
       "</style>\n",
       "<table border=\"1\" class=\"dataframe\">\n",
       "  <thead>\n",
       "    <tr style=\"text-align: right;\">\n",
       "      <th></th>\n",
       "      <th>gender</th>\n",
       "      <th>age</th>\n",
       "      <th>hypertension</th>\n",
       "      <th>heart_disease</th>\n",
       "      <th>ever_married</th>\n",
       "      <th>work_type</th>\n",
       "      <th>Residence_type</th>\n",
       "      <th>avg_glucose_level</th>\n",
       "      <th>bmi</th>\n",
       "      <th>smoking_status</th>\n",
       "      <th>stroke</th>\n",
       "    </tr>\n",
       "  </thead>\n",
       "  <tbody>\n",
       "    <tr>\n",
       "      <th>40</th>\n",
       "      <td>Male</td>\n",
       "      <td>67.0</td>\n",
       "      <td>0.0</td>\n",
       "      <td>1.0</td>\n",
       "      <td>Yes</td>\n",
       "      <td>Private</td>\n",
       "      <td>Urban</td>\n",
       "      <td>228.69</td>\n",
       "      <td>36.6</td>\n",
       "      <td>formerly smoked</td>\n",
       "      <td>1.0</td>\n",
       "    </tr>\n",
       "    <tr>\n",
       "      <th>97</th>\n",
       "      <td>Male</td>\n",
       "      <td>80.0</td>\n",
       "      <td>0.0</td>\n",
       "      <td>1.0</td>\n",
       "      <td>Yes</td>\n",
       "      <td>Private</td>\n",
       "      <td>Rural</td>\n",
       "      <td>105.92</td>\n",
       "      <td>32.5</td>\n",
       "      <td>never smoked</td>\n",
       "      <td>1.0</td>\n",
       "    </tr>\n",
       "    <tr>\n",
       "      <th>174</th>\n",
       "      <td>Female</td>\n",
       "      <td>49.0</td>\n",
       "      <td>0.0</td>\n",
       "      <td>0.0</td>\n",
       "      <td>Yes</td>\n",
       "      <td>Private</td>\n",
       "      <td>Urban</td>\n",
       "      <td>171.23</td>\n",
       "      <td>34.4</td>\n",
       "      <td>smokes</td>\n",
       "      <td>1.0</td>\n",
       "    </tr>\n",
       "    <tr>\n",
       "      <th>178</th>\n",
       "      <td>Female</td>\n",
       "      <td>79.0</td>\n",
       "      <td>1.0</td>\n",
       "      <td>0.0</td>\n",
       "      <td>Yes</td>\n",
       "      <td>Self-employed</td>\n",
       "      <td>Rural</td>\n",
       "      <td>174.12</td>\n",
       "      <td>24.0</td>\n",
       "      <td>never smoked</td>\n",
       "      <td>1.0</td>\n",
       "    </tr>\n",
       "    <tr>\n",
       "      <th>197</th>\n",
       "      <td>Male</td>\n",
       "      <td>81.0</td>\n",
       "      <td>0.0</td>\n",
       "      <td>0.0</td>\n",
       "      <td>Yes</td>\n",
       "      <td>Private</td>\n",
       "      <td>Urban</td>\n",
       "      <td>186.21</td>\n",
       "      <td>29.0</td>\n",
       "      <td>formerly smoked</td>\n",
       "      <td>1.0</td>\n",
       "    </tr>\n",
       "    <tr>\n",
       "      <th>...</th>\n",
       "      <td>...</td>\n",
       "      <td>...</td>\n",
       "      <td>...</td>\n",
       "      <td>...</td>\n",
       "      <td>...</td>\n",
       "      <td>...</td>\n",
       "      <td>...</td>\n",
       "      <td>...</td>\n",
       "      <td>...</td>\n",
       "      <td>...</td>\n",
       "      <td>...</td>\n",
       "    </tr>\n",
       "    <tr>\n",
       "      <th>28863</th>\n",
       "      <td>Male</td>\n",
       "      <td>79.0</td>\n",
       "      <td>0.0</td>\n",
       "      <td>1.0</td>\n",
       "      <td>Yes</td>\n",
       "      <td>Self-employed</td>\n",
       "      <td>Urban</td>\n",
       "      <td>88.29</td>\n",
       "      <td>36.0</td>\n",
       "      <td>never smoked</td>\n",
       "      <td>1.0</td>\n",
       "    </tr>\n",
       "    <tr>\n",
       "      <th>28891</th>\n",
       "      <td>Male</td>\n",
       "      <td>76.0</td>\n",
       "      <td>0.0</td>\n",
       "      <td>0.0</td>\n",
       "      <td>Yes</td>\n",
       "      <td>Self-employed</td>\n",
       "      <td>Rural</td>\n",
       "      <td>93.38</td>\n",
       "      <td>26.7</td>\n",
       "      <td>formerly smoked</td>\n",
       "      <td>1.0</td>\n",
       "    </tr>\n",
       "    <tr>\n",
       "      <th>28910</th>\n",
       "      <td>Female</td>\n",
       "      <td>56.0</td>\n",
       "      <td>0.0</td>\n",
       "      <td>0.0</td>\n",
       "      <td>Yes</td>\n",
       "      <td>Private</td>\n",
       "      <td>Rural</td>\n",
       "      <td>83.27</td>\n",
       "      <td>32.9</td>\n",
       "      <td>smokes</td>\n",
       "      <td>1.0</td>\n",
       "    </tr>\n",
       "    <tr>\n",
       "      <th>29004</th>\n",
       "      <td>Female</td>\n",
       "      <td>80.0</td>\n",
       "      <td>0.0</td>\n",
       "      <td>0.0</td>\n",
       "      <td>Yes</td>\n",
       "      <td>Self-employed</td>\n",
       "      <td>Urban</td>\n",
       "      <td>75.91</td>\n",
       "      <td>26.7</td>\n",
       "      <td>never smoked</td>\n",
       "      <td>1.0</td>\n",
       "    </tr>\n",
       "    <tr>\n",
       "      <th>29014</th>\n",
       "      <td>Male</td>\n",
       "      <td>62.0</td>\n",
       "      <td>1.0</td>\n",
       "      <td>1.0</td>\n",
       "      <td>Yes</td>\n",
       "      <td>Private</td>\n",
       "      <td>Rural</td>\n",
       "      <td>77.97</td>\n",
       "      <td>31.5</td>\n",
       "      <td>formerly smoked</td>\n",
       "      <td>1.0</td>\n",
       "    </tr>\n",
       "  </tbody>\n",
       "</table>\n",
       "<p>537 rows × 11 columns</p>\n",
       "</div>"
      ],
      "text/plain": [
       "       gender   age  hypertension  heart_disease ever_married      work_type  \\\n",
       "40       Male  67.0           0.0            1.0          Yes        Private   \n",
       "97       Male  80.0           0.0            1.0          Yes        Private   \n",
       "174    Female  49.0           0.0            0.0          Yes        Private   \n",
       "178    Female  79.0           1.0            0.0          Yes  Self-employed   \n",
       "197      Male  81.0           0.0            0.0          Yes        Private   \n",
       "...       ...   ...           ...            ...          ...            ...   \n",
       "28863    Male  79.0           0.0            1.0          Yes  Self-employed   \n",
       "28891    Male  76.0           0.0            0.0          Yes  Self-employed   \n",
       "28910  Female  56.0           0.0            0.0          Yes        Private   \n",
       "29004  Female  80.0           0.0            0.0          Yes  Self-employed   \n",
       "29014    Male  62.0           1.0            1.0          Yes        Private   \n",
       "\n",
       "      Residence_type  avg_glucose_level   bmi   smoking_status  stroke  \n",
       "40             Urban             228.69  36.6  formerly smoked     1.0  \n",
       "97             Rural             105.92  32.5     never smoked     1.0  \n",
       "174            Urban             171.23  34.4           smokes     1.0  \n",
       "178            Rural             174.12  24.0     never smoked     1.0  \n",
       "197            Urban             186.21  29.0  formerly smoked     1.0  \n",
       "...              ...                ...   ...              ...     ...  \n",
       "28863          Urban              88.29  36.0     never smoked     1.0  \n",
       "28891          Rural              93.38  26.7  formerly smoked     1.0  \n",
       "28910          Rural              83.27  32.9           smokes     1.0  \n",
       "29004          Urban              75.91  26.7     never smoked     1.0  \n",
       "29014          Rural              77.97  31.5  formerly smoked     1.0  \n",
       "\n",
       "[537 rows x 11 columns]"
      ]
     },
     "execution_count": 426,
     "metadata": {},
     "output_type": "execute_result"
    }
   ],
   "source": [
    "df_pos_stroke"
   ]
  },
  {
   "cell_type": "code",
   "execution_count": 382,
   "metadata": {},
   "outputs": [
    {
     "data": {
      "text/plain": [
       "Text(0.5, 0, 'percentage of people that have hypertension in case of stroke')"
      ]
     },
     "execution_count": 382,
     "metadata": {},
     "output_type": "execute_result"
    },
    {
     "data": {
      "image/png": "[encoded data removed]",
      "text/plain": [
       "<Figure size 432x288 with 1 Axes>"
      ]
     },
     "metadata": {},
     "output_type": "display_data"
    }
   ],
   "source": [
    "#does having hypertension increase the chances of getting a stroke?\n",
    "\n",
    "x = df_pos_stroke.hypertension.value_counts()\n",
    "mylabels = [\"no hypertension\", \"hypertension\"]\n",
    "plt.pie(x, labels = mylabels, autopct='%1.2f%%')\n",
    "plt.xlabel('percentage of people that have hypertension in case of stroke')"
   ]
  },
  {
   "cell_type": "code",
   "execution_count": 383,
   "metadata": {},
   "outputs": [
    {
     "data": {
      "text/plain": [
       "Text(0.5, 0, 'percentage of job types of people that have a stroke')"
      ]
     },
     "execution_count": 383,
     "metadata": {},
     "output_type": "execute_result"
    },
    {
     "data": {
      "image/png": "[encoded data removed]",
      "text/plain": [
       "<Figure size 432x288 with 1 Axes>"
      ]
     },
     "metadata": {},
     "output_type": "display_data"
    }
   ],
   "source": [
    "#Are job types a contributing factor to having a stroke?\n",
    "x = df_pos_stroke.work_type.value_counts()\n",
    "mylabels = [\"private\", \"self-employed\",\"Govt_job\"]\n",
    "plt.pie(x, labels = mylabels, autopct='%1.2f%%')\n",
    "plt.xlabel('percentage of job types of people that have a stroke')"
   ]
  },
  {
   "cell_type": "code",
   "execution_count": 384,
   "metadata": {},
   "outputs": [
    {
     "data": {
      "text/plain": [
       "Text(0.5, 0, 'percentage of gender for people with a stroke')"
      ]
     },
     "execution_count": 384,
     "metadata": {},
     "output_type": "execute_result"
    },
    {
     "data": {
      "image/png": "[encoded data removed]",
      "text/plain": [
       "<Figure size 432x288 with 1 Axes>"
      ]
     },
     "metadata": {},
     "output_type": "display_data"
    }
   ],
   "source": [
    "#are female more prone to having a stroke than men\n",
    "x = df_pos_stroke.gender.value_counts()\n",
    "mylabels = [\"female\", \"male\"]\n",
    "plt.pie(x, labels = mylabels, autopct='%1.2f%%')\n",
    "plt.xlabel('percentage of gender for people with a stroke')"
   ]
  },
  {
   "cell_type": "code",
   "execution_count": 385,
   "metadata": {},
   "outputs": [
    {
     "data": {
      "text/plain": [
       "Text(0.5, 0, 'bmi chart for people that suffer a stroke')"
      ]
     },
     "execution_count": 385,
     "metadata": {},
     "output_type": "execute_result"
    },
    {
     "data": {
      "image/png": "[encoded data removed]",
      "text/plain": [
       "<Figure size 432x288 with 1 Axes>"
      ]
     },
     "metadata": {},
     "output_type": "display_data"
    }
   ],
   "source": [
    "#Are overweight/obese people more prone to get a stroke?\n",
    "\n",
    "x1 = df_pos_stroke.loc[df_pos_stroke['bmi'] < 18.5] #lightweight\n",
    "x2 = df_pos_stroke.loc[(df_pos_stroke['bmi'] >= 18.5) & (df_pos_stroke['bmi'] <= 24.9)] #normal weight\n",
    "x3 = df_pos_stroke.loc[(df_pos_stroke['bmi'] >= 25) & (df_pos_stroke['bmi'] <= 29.9)] #overweight\n",
    "x4 = df_pos_stroke.loc[df_pos_stroke['bmi'] >= 30] #obese\n",
    "\n",
    "x = [x1.shape[0], x2.shape[0], x3.shape[0], x4.shape[0]]\n",
    "mylabels = [\"light weight\", \"normal weight\", \"over weight\", \"obese\"]\n",
    "plt.pie(x, labels = mylabels, autopct='%1.2f%%')\n",
    "plt.xlabel('bmi chart for people that suffer a stroke' )"
   ]
  },
  {
   "cell_type": "code",
   "execution_count": 386,
   "metadata": {},
   "outputs": [
    {
     "data": {
      "text/plain": [
       "Text(0.5, 0, 'percentage of smoking status of people with hypertension that suffer a stroke')"
      ]
     },
     "execution_count": 386,
     "metadata": {},
     "output_type": "execute_result"
    },
    {
     "data": {
      "image/png": "[encoded data removed]",
      "text/plain": [
       "<Figure size 432x288 with 1 Axes>"
      ]
     },
     "metadata": {},
     "output_type": "display_data"
    }
   ],
   "source": [
    "# Do smoking and hypertension together increase the change of a stroke?\n",
    "\n",
    "df_hypertension = df4.loc[df4['hypertension'] == 1.0]\n",
    "x1 = df_hypertension.smoking_status.value_counts()\n",
    "mylabels = [\"never smoked\", \"formally smoked\", \"smokes\"]\n",
    "plt.pie(x1, labels = mylabels, autopct='%1.2f%%')\n",
    "plt.xlabel('percentage of smoking status of people with hypertension that suffer a stroke' )"
   ]
  },
  {
   "cell_type": "code",
   "execution_count": 390,
   "metadata": {},
   "outputs": [
    {
     "data": {
      "text/plain": [
       "Text(0.5, 0, 'chart of the average glucose levels for people with a stroke')"
      ]
     },
     "execution_count": 390,
     "metadata": {},
     "output_type": "execute_result"
    },
    {
     "data": {
      "image/png": "[encoded data removed]",
      "text/plain": [
       "<Figure size 432x288 with 1 Axes>"
      ]
     },
     "metadata": {},
     "output_type": "display_data"
    }
   ],
   "source": [
    "#Does having diabetes increases the chances of getting a stroke?\n",
    "\n",
    "x1 = df_pos_stroke.loc[df_pos_stroke['avg_glucose_level'] < 117] #normal\n",
    "x2 = df_pos_stroke.loc[(df_pos_stroke['avg_glucose_level'] >= 117) & (df_pos_stroke['avg_glucose_level'] <= 137)] #prediabetic\n",
    "x3 = df_pos_stroke.loc[df_pos_stroke['avg_glucose_level'] > 137] #diabetic\n",
    "\n",
    "x = [x1.shape[0], x2.shape[0], x3.shape[0]]\n",
    "mylabels = [\"normal\", \"prediabetic\", \"diabetic\"]\n",
    "plt.pie(x, labels = mylabels, autopct='%1.2f%%')\n",
    "plt.xlabel('chart of the average glucose levels for people with a stroke' )"
   ]
  },
  {
   "cell_type": "code",
   "execution_count": 13,
   "metadata": {},
   "outputs": [
    {
     "data": {
      "text/plain": [
       "Text(0.5, 0, 'percentage of residence types in our data')"
      ]
     },
     "execution_count": 13,
     "metadata": {},
     "output_type": "execute_result"
    },
    {
     "data": {
      "image/png": "[encoded data removed]",
      "text/plain": [
       "<Figure size 432x288 with 1 Axes>"
      ]
     },
     "metadata": {},
     "output_type": "display_data"
    }
   ],
   "source": [
    "#Does living in urban or rural environment increase your chances of having a stroke? \n",
    "x1 = df.Residence_type.value_counts()\n",
    "mylabels = [\"Urban\", \"Rural\"]\n",
    "plt.pie(x1, labels = mylabels, autopct='%1.2f%%')\n",
    "plt.xlabel('percentage of residence types in our data' )"
   ]
  },
  {
   "cell_type": "code",
   "execution_count": 15,
   "metadata": {},
   "outputs": [
    {
     "data": {
      "text/plain": [
       "Urban    14520\n",
       "Rural    14396\n",
       "Name: Residence_type, dtype: int64"
      ]
     },
     "execution_count": 15,
     "metadata": {},
     "output_type": "execute_result"
    }
   ],
   "source": [
    "df.Residence_type.value_counts()"
   ]
  },
  {
   "cell_type": "code",
   "execution_count": 398,
   "metadata": {},
   "outputs": [
    {
     "data": {
      "text/plain": [
       "Text(0.5, 0, 'percentage of heart disease of people with hypertension that suffer a stroke')"
      ]
     },
     "execution_count": 398,
     "metadata": {},
     "output_type": "execute_result"
    },
    {
     "data": {
      "image/png": "[encoded data removed]",
      "text/plain": [
       "<Figure size 432x288 with 1 Axes>"
      ]
     },
     "metadata": {},
     "output_type": "display_data"
    }
   ],
   "source": [
    "#Does having hypertension + heart disease increase the probablity of having a stroke?\n",
    "df_hypertension = df_pos_stroke.loc[df_pos_stroke['hypertension'] == 1.0]\n",
    "x1 = df_hypertension.heart_disease.value_counts()\n",
    "mylabels = [\"with no heart disease\", \"with heart disease\"]\n",
    "plt.pie(x1, labels = mylabels, autopct='%1.2f%%')\n",
    "plt.xlabel('percentage of heart disease of people with hypertension that suffer a stroke' )"
   ]
  },
  {
   "cell_type": "code",
   "execution_count": 406,
   "metadata": {},
   "outputs": [
    {
     "data": {
      "image/png": "[encoded data removed]",
      "text/plain": [
       "<Figure size 432x288 with 1 Axes>"
      ]
     },
     "metadata": {},
     "output_type": "display_data"
    }
   ],
   "source": [
    "#Does having a stroke increase with age?\n",
    "x1 = df_pos_stroke.loc[(df_pos_stroke['age'] >= 18) & (df_pos_stroke['age'] <= 26) ] #young adults\n",
    "x2 = df_pos_stroke.loc[(df_pos_stroke['age'] >= 27) & (df_pos_stroke['age'] <= 45)] #middle aged adults\n",
    "x3 = df_pos_stroke.loc[(df_pos_stroke['age'] >= 46) ] #old aged adults\n",
    "\n",
    "x = [x1.shape[0], x2.shape[0], x3.shape[0]]\n",
    "mylabels = [\"Young adults (18-26)\", \"Middle aged adults (27-45)\", \"Old aged adults (>45)\"]\n",
    "plt.pie(x, labels = mylabels, autopct='%1.2f%%')\n",
    "plt.xlabel('percentage of age groups of people with a stroke' )\n",
    "plt.savefig('age_vs_stroke.png')"
   ]
  },
  {
   "cell_type": "code",
   "execution_count": null,
   "metadata": {},
   "outputs": [],
   "source": []
  }
 ],
 "metadata": {
  "kernelspec": {
   "display_name": "Python 3",
   "language": "python",
   "name": "python3"
  },
  "language_info": {
   "codemirror_mode": {
    "name": "ipython",
    "version": 3
   },
   "file_extension": ".py",
   "mimetype": "text/x-python",
   "name": "python",
   "nbconvert_exporter": "python",
   "pygments_lexer": "ipython3",
   "version": "3.7.7"
  }
 },
 "nbformat": 4,
 "nbformat_minor": 4
}
