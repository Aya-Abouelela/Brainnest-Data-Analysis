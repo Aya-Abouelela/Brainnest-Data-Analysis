{
 "cells": [
  {
   "cell_type": "code",
   "execution_count": 113,
   "metadata": {},
   "outputs": [],
   "source": [
    "import numpy as np \n",
    "import pandas as pd\n",
    "import matplotlib.pyplot as plt\n",
    "import scipy.stats as stats \n",
    "import pylab\n",
    "import seaborn as sns\n",
    "import random\n",
    "from scipy.stats import kruskal\n",
    "from scipy.stats import chi2_contingency\n",
    "from scipy.stats import levene\n",
    "import statsmodels.api as sm"
   ]
  },
  {
   "cell_type": "code",
   "execution_count": 303,
   "metadata": {
    "scrolled": false
   },
   "outputs": [
    {
     "data": {
      "text/html": [
       "<div>\n",
       "<style scoped>\n",
       "    .dataframe tbody tr th:only-of-type {\n",
       "        vertical-align: middle;\n",
       "    }\n",
       "\n",
       "    .dataframe tbody tr th {\n",
       "        vertical-align: top;\n",
       "    }\n",
       "\n",
       "    .dataframe thead th {\n",
       "        text-align: right;\n",
       "    }\n",
       "</style>\n",
       "<table border=\"1\" class=\"dataframe\">\n",
       "  <thead>\n",
       "    <tr style=\"text-align: right;\">\n",
       "      <th></th>\n",
       "      <th>Unnamed: 0</th>\n",
       "      <th>gender</th>\n",
       "      <th>age</th>\n",
       "      <th>hypertension</th>\n",
       "      <th>heart_disease</th>\n",
       "      <th>ever_married</th>\n",
       "      <th>work_type</th>\n",
       "      <th>Residence_type</th>\n",
       "      <th>avg_glucose_level</th>\n",
       "      <th>bmi</th>\n",
       "      <th>smoking_status</th>\n",
       "      <th>stroke</th>\n",
       "    </tr>\n",
       "  </thead>\n",
       "  <tbody>\n",
       "    <tr>\n",
       "      <th>0</th>\n",
       "      <td>0</td>\n",
       "      <td>Male</td>\n",
       "      <td>58.0</td>\n",
       "      <td>1.0</td>\n",
       "      <td>0.0</td>\n",
       "      <td>Yes</td>\n",
       "      <td>Private</td>\n",
       "      <td>Urban</td>\n",
       "      <td>87.96</td>\n",
       "      <td>39.2</td>\n",
       "      <td>never smoked</td>\n",
       "      <td>0.0</td>\n",
       "    </tr>\n",
       "    <tr>\n",
       "      <th>1</th>\n",
       "      <td>1</td>\n",
       "      <td>Female</td>\n",
       "      <td>70.0</td>\n",
       "      <td>0.0</td>\n",
       "      <td>0.0</td>\n",
       "      <td>Yes</td>\n",
       "      <td>Private</td>\n",
       "      <td>Rural</td>\n",
       "      <td>69.04</td>\n",
       "      <td>35.9</td>\n",
       "      <td>formerly smoked</td>\n",
       "      <td>0.0</td>\n",
       "    </tr>\n",
       "    <tr>\n",
       "      <th>2</th>\n",
       "      <td>2</td>\n",
       "      <td>Female</td>\n",
       "      <td>52.0</td>\n",
       "      <td>0.0</td>\n",
       "      <td>0.0</td>\n",
       "      <td>Yes</td>\n",
       "      <td>Private</td>\n",
       "      <td>Urban</td>\n",
       "      <td>77.59</td>\n",
       "      <td>17.7</td>\n",
       "      <td>formerly smoked</td>\n",
       "      <td>0.0</td>\n",
       "    </tr>\n",
       "    <tr>\n",
       "      <th>3</th>\n",
       "      <td>3</td>\n",
       "      <td>Female</td>\n",
       "      <td>75.0</td>\n",
       "      <td>0.0</td>\n",
       "      <td>1.0</td>\n",
       "      <td>Yes</td>\n",
       "      <td>Self-employed</td>\n",
       "      <td>Rural</td>\n",
       "      <td>243.53</td>\n",
       "      <td>27.0</td>\n",
       "      <td>never smoked</td>\n",
       "      <td>0.0</td>\n",
       "    </tr>\n",
       "    <tr>\n",
       "      <th>4</th>\n",
       "      <td>4</td>\n",
       "      <td>Female</td>\n",
       "      <td>32.0</td>\n",
       "      <td>0.0</td>\n",
       "      <td>0.0</td>\n",
       "      <td>Yes</td>\n",
       "      <td>Private</td>\n",
       "      <td>Rural</td>\n",
       "      <td>77.67</td>\n",
       "      <td>32.3</td>\n",
       "      <td>smokes</td>\n",
       "      <td>0.0</td>\n",
       "    </tr>\n",
       "    <tr>\n",
       "      <th>...</th>\n",
       "      <td>...</td>\n",
       "      <td>...</td>\n",
       "      <td>...</td>\n",
       "      <td>...</td>\n",
       "      <td>...</td>\n",
       "      <td>...</td>\n",
       "      <td>...</td>\n",
       "      <td>...</td>\n",
       "      <td>...</td>\n",
       "      <td>...</td>\n",
       "      <td>...</td>\n",
       "      <td>...</td>\n",
       "    </tr>\n",
       "    <tr>\n",
       "      <th>28911</th>\n",
       "      <td>29060</td>\n",
       "      <td>Female</td>\n",
       "      <td>10.0</td>\n",
       "      <td>0.0</td>\n",
       "      <td>0.0</td>\n",
       "      <td>No</td>\n",
       "      <td>children</td>\n",
       "      <td>Urban</td>\n",
       "      <td>58.64</td>\n",
       "      <td>20.4</td>\n",
       "      <td>never smoked</td>\n",
       "      <td>0.0</td>\n",
       "    </tr>\n",
       "    <tr>\n",
       "      <th>28912</th>\n",
       "      <td>29061</td>\n",
       "      <td>Female</td>\n",
       "      <td>56.0</td>\n",
       "      <td>0.0</td>\n",
       "      <td>0.0</td>\n",
       "      <td>Yes</td>\n",
       "      <td>Govt_job</td>\n",
       "      <td>Urban</td>\n",
       "      <td>213.61</td>\n",
       "      <td>55.4</td>\n",
       "      <td>formerly smoked</td>\n",
       "      <td>0.0</td>\n",
       "    </tr>\n",
       "    <tr>\n",
       "      <th>28913</th>\n",
       "      <td>29062</td>\n",
       "      <td>Female</td>\n",
       "      <td>82.0</td>\n",
       "      <td>1.0</td>\n",
       "      <td>0.0</td>\n",
       "      <td>Yes</td>\n",
       "      <td>Private</td>\n",
       "      <td>Urban</td>\n",
       "      <td>91.94</td>\n",
       "      <td>28.9</td>\n",
       "      <td>formerly smoked</td>\n",
       "      <td>0.0</td>\n",
       "    </tr>\n",
       "    <tr>\n",
       "      <th>28914</th>\n",
       "      <td>29063</td>\n",
       "      <td>Male</td>\n",
       "      <td>40.0</td>\n",
       "      <td>0.0</td>\n",
       "      <td>0.0</td>\n",
       "      <td>Yes</td>\n",
       "      <td>Private</td>\n",
       "      <td>Urban</td>\n",
       "      <td>99.16</td>\n",
       "      <td>33.2</td>\n",
       "      <td>never smoked</td>\n",
       "      <td>0.0</td>\n",
       "    </tr>\n",
       "    <tr>\n",
       "      <th>28915</th>\n",
       "      <td>29064</td>\n",
       "      <td>Female</td>\n",
       "      <td>82.0</td>\n",
       "      <td>0.0</td>\n",
       "      <td>0.0</td>\n",
       "      <td>Yes</td>\n",
       "      <td>Private</td>\n",
       "      <td>Urban</td>\n",
       "      <td>79.48</td>\n",
       "      <td>20.6</td>\n",
       "      <td>never smoked</td>\n",
       "      <td>0.0</td>\n",
       "    </tr>\n",
       "  </tbody>\n",
       "</table>\n",
       "<p>28916 rows × 12 columns</p>\n",
       "</div>"
      ],
      "text/plain": [
       "       Unnamed: 0  gender   age  hypertension  heart_disease ever_married  \\\n",
       "0               0    Male  58.0           1.0            0.0          Yes   \n",
       "1               1  Female  70.0           0.0            0.0          Yes   \n",
       "2               2  Female  52.0           0.0            0.0          Yes   \n",
       "3               3  Female  75.0           0.0            1.0          Yes   \n",
       "4               4  Female  32.0           0.0            0.0          Yes   \n",
       "...           ...     ...   ...           ...            ...          ...   \n",
       "28911       29060  Female  10.0           0.0            0.0           No   \n",
       "28912       29061  Female  56.0           0.0            0.0          Yes   \n",
       "28913       29062  Female  82.0           1.0            0.0          Yes   \n",
       "28914       29063    Male  40.0           0.0            0.0          Yes   \n",
       "28915       29064  Female  82.0           0.0            0.0          Yes   \n",
       "\n",
       "           work_type Residence_type  avg_glucose_level   bmi   smoking_status  \\\n",
       "0            Private          Urban              87.96  39.2     never smoked   \n",
       "1            Private          Rural              69.04  35.9  formerly smoked   \n",
       "2            Private          Urban              77.59  17.7  formerly smoked   \n",
       "3      Self-employed          Rural             243.53  27.0     never smoked   \n",
       "4            Private          Rural              77.67  32.3           smokes   \n",
       "...              ...            ...                ...   ...              ...   \n",
       "28911       children          Urban              58.64  20.4     never smoked   \n",
       "28912       Govt_job          Urban             213.61  55.4  formerly smoked   \n",
       "28913        Private          Urban              91.94  28.9  formerly smoked   \n",
       "28914        Private          Urban              99.16  33.2     never smoked   \n",
       "28915        Private          Urban              79.48  20.6     never smoked   \n",
       "\n",
       "       stroke  \n",
       "0         0.0  \n",
       "1         0.0  \n",
       "2         0.0  \n",
       "3         0.0  \n",
       "4         0.0  \n",
       "...       ...  \n",
       "28911     0.0  \n",
       "28912     0.0  \n",
       "28913     0.0  \n",
       "28914     0.0  \n",
       "28915     0.0  \n",
       "\n",
       "[28916 rows x 12 columns]"
      ]
     },
     "execution_count": 303,
     "metadata": {},
     "output_type": "execute_result"
    }
   ],
   "source": [
    "df = pd.read_csv('Stroke_data_cleaned.csv')\n",
    "df"
   ]
  },
  {
   "cell_type": "code",
   "execution_count": 220,
   "metadata": {},
   "outputs": [],
   "source": [
    "#removing outliers of df and making a dataset only for people with stroke \n",
    "Q1_bmi = df['bmi'].quantile(0.25)\n",
    "Q3_bmi = df['bmi'].quantile(0.75)\n",
    "IQR_bmi = Q3_bmi - Q1_bmi   #IQR is interquartile range. \n",
    "Q1_avg = df['avg_glucose_level'].quantile(0.25)\n",
    "Q3_avg = df['avg_glucose_level'].quantile(0.75)\n",
    "IQR_avg = Q3_avg - Q1_avg   #IQR is interquartile range. \n",
    "\n",
    "filter_bmi = (df['bmi'] >= Q1_bmi - 1.5 * IQR_bmi) & (df['bmi'] <= Q3_bmi + 1.5 *IQR_bmi)\n",
    "filter_avg = (df['avg_glucose_level'] >= Q1_avg - 1.5 * IQR_avg) & (df['avg_glucose_level'] <= Q3_avg + 1.5 *IQR_avg)\n",
    "df = df.loc[filter_bmi & filter_avg]"
   ]
  },
  {
   "cell_type": "code",
   "execution_count": 248,
   "metadata": {},
   "outputs": [
    {
     "name": "stderr",
     "output_type": "stream",
     "text": [
      "<ipython-input-248-79d6014568c4>:2: FutureWarning: The frame.append method is deprecated and will be removed from pandas in a future version. Use pandas.concat instead.\n",
      "  df_smp = df1.append(df.loc[df['stroke'] == 0.0].sample(365))\n"
     ]
    }
   ],
   "source": [
    "df1 = df.loc[(df['stroke'] == 1) & (df['age'] > 25)] \n",
    "df_smp = df1.append(df.loc[df['stroke'] == 0.0].sample(365))"
   ]
  },
  {
   "cell_type": "code",
   "execution_count": null,
   "metadata": {},
   "outputs": [],
   "source": [
    "# we work on the data after removing the outlers!\n",
    "\n",
    "# we would like to know the effect of work_type on the average glucose levels for people with a stroke\n",
    "# we would like to know the effect of having a heart disease on the avergage glucose levels for people who suffer from a stroke \n",
    "# for people that suffer a stroke, is bmi same for males and females? \n",
    "# for people that suffer a stroke, does the marital status affect the bmi levels?\n",
    "# for people that suffer a stroke, does smoking affect a person's BMI?\n",
    "# for people that suffer a stroke, does the residence type affect the person's avg glucose levels?\n",
    "# the bmi average is the same for people that suffer and don't suffer a stroke?\n",
    "# the avg glucose level is the same for people that suffer and don't suffer a stroke?\n",
    "\n",
    "# =================== \n",
    "# correlation analysis: \n",
    "# 1. between metric data .. (age, bmi), (avg_glucose_levels, bmi), (avg_glucose_levels, age)\n",
    "# 2. between nominal data .. (stroke, hypertension), (stroke, heart_disease), (stroke, marital status), (stroke, work_type)\n",
    "# ========================== \n",
    "#regression \n",
    "# for all correlations! "
   ]
  },
  {
   "cell_type": "code",
   "execution_count": 151,
   "metadata": {},
   "outputs": [
    {
     "data": {
      "text/plain": [
       "KruskalResult(statistic=0.344286526484418, pvalue=0.8418585571424071)"
      ]
     },
     "execution_count": 151,
     "metadata": {},
     "output_type": "execute_result"
    }
   ],
   "source": [
    "# we would like to know the effect of work_type on the average glucose levels for people with a stroke>> can try when u remove the ourliers \n",
    "\n",
    "df_private = df.loc[(df['work_type'] == 'Private') & (df['stroke'] == 1.0)].avg_glucose_level\n",
    "df_self = df.loc[(df['work_type'] == 'Self-employed') & (df['stroke'] == 1.0)].avg_glucose_level\n",
    "df_govt = df.loc[(df['work_type'] == 'Govt_job') & (df['stroke'] == 1.0)].avg_glucose_level\n",
    "\n",
    "stats.kruskal(df_private, df_self, df_govt)"
   ]
  },
  {
   "cell_type": "code",
   "execution_count": null,
   "metadata": {},
   "outputs": [],
   "source": [
    "df_private = df.loc[(df['work_type'] == 'Private') & (df['stroke'] == 1.0)]\n",
    "df_self = df.loc[(df['work_type'] == 'Self-employed') & (df['stroke'] == 1.0)]\n",
    "df_govt = df.loc[(df['work_type'] == 'Govt_job') & (df['stroke'] == 1.0)]"
   ]
  },
  {
   "cell_type": "code",
   "execution_count": 13,
   "metadata": {},
   "outputs": [
    {
     "data": {
      "text/plain": [
       "KruskalResult(statistic=2.48559991913869, pvalue=0.2885750871242154)"
      ]
     },
     "execution_count": 13,
     "metadata": {},
     "output_type": "execute_result"
    }
   ],
   "source": [
    "# we would like to know the effect of work_type on heart disease for people with a stroke \n",
    "# heart disease is a nominal variable .. Cannot use kruskal test!! \n",
    "\n",
    "df_private = df.loc[(df['work_type'] == 'Private') & (df['stroke'] == 1.0)].heart_disease\n",
    "df_self = df.loc[(df['work_type'] == 'Self-employed') & (df['stroke'] == 1.0)].heart_disease\n",
    "df_govt = df.loc[(df['work_type'] == 'Govt_job') & (df['stroke'] == 1.0)].heart_disease\n",
    "stats.kruskal(df_private, df_self, df_govt)"
   ]
  },
  {
   "cell_type": "code",
   "execution_count": 17,
   "metadata": {},
   "outputs": [
    {
     "data": {
      "text/plain": [
       "MannwhitneyuResult(statistic=21989935.0, pvalue=2.249436093836269e-05)"
      ]
     },
     "execution_count": 17,
     "metadata": {},
     "output_type": "execute_result"
    }
   ],
   "source": [
    "# we would like to know the effect of having a heart disease on the probability of having a stroke\n",
    "# stroke is not an ordinal data!\n",
    "# heart disease is also not an ordinal data???\n",
    "# this test should be using Mann Whitney U test\n",
    "df_heart =  df.loc[(df['heart_disease'] == 1.0)].stroke\n",
    "df_noheart = df.loc[(df['heart_disease'] == 0.0)].stroke\n",
    "stats.mannwhitneyu(df_heart, df_noheart)"
   ]
  },
  {
   "cell_type": "code",
   "execution_count": 153,
   "metadata": {},
   "outputs": [
    {
     "data": {
      "text/plain": [
       "MannwhitneyuResult(statistic=107568.5, pvalue=3.152805966012023e-61)"
      ]
     },
     "execution_count": 153,
     "metadata": {},
     "output_type": "execute_result"
    }
   ],
   "source": [
    "# correlation between age when having stroke and age when not having stroke >>  meaningless question actually! xD\n",
    "df_stroke =  df.loc[(df['stroke'] == 1.0)].age\n",
    "df_nostroke = df.loc[(df['stroke'] == 0.0)].age.sample(df_stroke.shape[0])\n",
    "stats.mannwhitneyu(df_stroke, df_nostroke)"
   ]
  },
  {
   "cell_type": "code",
   "execution_count": 154,
   "metadata": {},
   "outputs": [
    {
     "name": "stdout",
     "output_type": "stream",
     "text": [
      "(0.05279473247985542, 0.3219275078525776)\n",
      "SpearmanrResult(correlation=0.049096626800939666, pvalue=0.3570316614820461)\n"
     ]
    }
   ],
   "source": [
    "print(stats.pearsonr(df_stroke,df_nostroke))\n",
    "print(stats.spearmanr(df_stroke,df_nostroke))"
   ]
  },
  {
   "cell_type": "code",
   "execution_count": 155,
   "metadata": {},
   "outputs": [
    {
     "data": {
      "text/plain": [
       "[<matplotlib.lines.Line2D at 0x23c66e08>]"
      ]
     },
     "execution_count": 155,
     "metadata": {},
     "output_type": "execute_result"
    },
    {
     "data": {
      "image/png": "[encoded data removed]",
      "text/plain": [
       "<Figure size 432x288 with 1 Axes>"
      ]
     },
     "metadata": {
      "needs_background": "light"
     },
     "output_type": "display_data"
    }
   ],
   "source": [
    "plt.plot(df_stroke.sort_values(), df_nostroke.sort_values())"
   ]
  },
  {
   "cell_type": "code",
   "execution_count": 87,
   "metadata": {},
   "outputs": [
    {
     "data": {
      "text/plain": [
       "SpearmanrResult(correlation=0.11507083585706132, pvalue=8.264772747080916e-86)"
      ]
     },
     "execution_count": 87,
     "metadata": {},
     "output_type": "execute_result"
    }
   ],
   "source": [
    "#for people with a stroke, is there a correlation between the BMI and the avg glucose levels?\n",
    "# people with higher bmi tend to have higher glucose levels?\n",
    "# not a causality relationship for sure\n",
    "\n",
    "stats.spearmanr(df['bmi'], df['avg_glucose_level'])"
   ]
  },
  {
   "cell_type": "code",
   "execution_count": 344,
   "metadata": {},
   "outputs": [
    {
     "data": {
      "text/plain": [
       "130.91965265082266"
      ]
     },
     "execution_count": 344,
     "metadata": {},
     "output_type": "execute_result"
    }
   ],
   "source": [
    "df.loc[df['stroke'] == 1.0].avg_glucose_level.mean()"
   ]
  },
  {
   "cell_type": "code",
   "execution_count": 345,
   "metadata": {},
   "outputs": [
    {
     "data": {
      "text/plain": [
       "105.91525996686454"
      ]
     },
     "execution_count": 345,
     "metadata": {},
     "output_type": "execute_result"
    }
   ],
   "source": [
    "df.loc[df['stroke'] == 0.0].avg_glucose_level.mean()"
   ]
  },
  {
   "cell_type": "code",
   "execution_count": 346,
   "metadata": {},
   "outputs": [
    {
     "data": {
      "text/plain": [
       "29.833455210237645"
      ]
     },
     "execution_count": 346,
     "metadata": {},
     "output_type": "execute_result"
    }
   ],
   "source": [
    "df.loc[df['stroke'] == 1.0].bmi.mean()"
   ]
  },
  {
   "cell_type": "code",
   "execution_count": 347,
   "metadata": {},
   "outputs": [
    {
     "data": {
      "text/plain": [
       "30.053826359758848"
      ]
     },
     "execution_count": 347,
     "metadata": {},
     "output_type": "execute_result"
    }
   ],
   "source": [
    "df.loc[df['stroke'] == 0.0].bmi.mean()"
   ]
  },
  {
   "cell_type": "code",
   "execution_count": 356,
   "metadata": {},
   "outputs": [
    {
     "data": {
      "text/plain": [
       "SpearmanrResult(correlation=-0.08579817145923241, pvalue=0.020425269169629126)"
      ]
     },
     "execution_count": 356,
     "metadata": {},
     "output_type": "execute_result"
    }
   ],
   "source": [
    "# correlation between age and bmi\n",
    "\n",
    "stats.spearmanr(df_smp['bmi'], df_smp['age'])"
   ]
  },
  {
   "cell_type": "code",
   "execution_count": 357,
   "metadata": {},
   "outputs": [
    {
     "data": {
      "text/plain": [
       "(-0.05830381206603859, 0.11550553380117025)"
      ]
     },
     "execution_count": 357,
     "metadata": {},
     "output_type": "execute_result"
    }
   ],
   "source": [
    "stats.pearsonr(df_smp['avg_glucose_level'], df_smp['age'])"
   ]
  },
  {
   "cell_type": "code",
   "execution_count": 358,
   "metadata": {},
   "outputs": [
    {
     "data": {
      "text/plain": [
       "(-0.013088502982140196, 0.7240577126854468)"
      ]
     },
     "execution_count": 358,
     "metadata": {},
     "output_type": "execute_result"
    }
   ],
   "source": [
    "stats.pearsonr(df_smp['bmi'], df_smp['avg_glucose_level'])"
   ]
  },
  {
   "cell_type": "code",
   "execution_count": 348,
   "metadata": {},
   "outputs": [
    {
     "data": {
      "text/plain": [
       "SpearmanrResult(correlation=0.13331370506729873, pvalue=9.02762129184754e-115)"
      ]
     },
     "execution_count": 348,
     "metadata": {},
     "output_type": "execute_result"
    }
   ],
   "source": [
    "# correlation between having hypertension/heart-disease with bmi\n",
    "stats.spearmanr(df['bmi'], df['hypertension'])"
   ]
  },
  {
   "cell_type": "code",
   "execution_count": 156,
   "metadata": {},
   "outputs": [],
   "source": [
    "def cramers_V(var1,var2) :\n",
    "    confusion_matrix =np.array(pd.crosstab(var1,var2, rownames=None, colnames=None)) # Cross table building\n",
    "    chi2 = stats.chi2_contingency(confusion_matrix)[0]\n",
    "    n = confusion_matrix.sum()\n",
    "    return np.sqrt(chi2 / (n*(min(confusion_matrix.shape)-1)))"
   ]
  },
  {
   "cell_type": "code",
   "execution_count": 304,
   "metadata": {},
   "outputs": [
    {
     "data": {
      "text/plain": [
       "0.10506806602165308"
      ]
     },
     "execution_count": 304,
     "metadata": {},
     "output_type": "execute_result"
    }
   ],
   "source": [
    "# correlation between having stroke and having heart disease \n",
    "cramers_V(df['stroke'], df['heart_disease'])"
   ]
  },
  {
   "cell_type": "code",
   "execution_count": 305,
   "metadata": {},
   "outputs": [
    {
     "data": {
      "text/plain": [
       "0.07869925116325828"
      ]
     },
     "execution_count": 305,
     "metadata": {},
     "output_type": "execute_result"
    }
   ],
   "source": [
    "cramers_V(df['stroke'], df['hypertension'])"
   ]
  },
  {
   "cell_type": "code",
   "execution_count": 306,
   "metadata": {},
   "outputs": [
    {
     "data": {
      "text/plain": [
       "0.047495503251048975"
      ]
     },
     "execution_count": 306,
     "metadata": {},
     "output_type": "execute_result"
    }
   ],
   "source": [
    "cramers_V(df['stroke'], df['ever_married'])"
   ]
  },
  {
   "cell_type": "code",
   "execution_count": 307,
   "metadata": {},
   "outputs": [
    {
     "data": {
      "text/plain": [
       "0.051203143756644746"
      ]
     },
     "execution_count": 307,
     "metadata": {},
     "output_type": "execute_result"
    }
   ],
   "source": [
    "cramers_V(df['stroke'], df['work_type'])"
   ]
  },
  {
   "cell_type": "code",
   "execution_count": 309,
   "metadata": {},
   "outputs": [
    {
     "data": {
      "text/plain": [
       "0.027549301298782376"
      ]
     },
     "execution_count": 309,
     "metadata": {},
     "output_type": "execute_result"
    }
   ],
   "source": [
    "#correclation between worktype and having a stroke\n",
    "cramers_V(df['smoking_status'], df['stroke'])"
   ]
  },
  {
   "cell_type": "code",
   "execution_count": 159,
   "metadata": {},
   "outputs": [
    {
     "data": {
      "text/plain": [
       "PointbiserialrResult(correlation=0.14949216527716586, pvalue=4.8154982729054083e-119)"
      ]
     },
     "execution_count": 159,
     "metadata": {},
     "output_type": "execute_result"
    }
   ],
   "source": [
    "#one nominal and one continous variable \n",
    "# correlation between age and having stroke \n",
    "# assumes age is normal >> is a good approximation \n",
    "stats.pointbiserialr(df['age'], df['stroke'])"
   ]
  },
  {
   "cell_type": "code",
   "execution_count": 160,
   "metadata": {},
   "outputs": [
    {
     "data": {
      "text/plain": [
       "LeveneResult(statistic=119.82108787537771, pvalue=1.562329863039877e-26)"
      ]
     },
     "execution_count": 160,
     "metadata": {},
     "output_type": "execute_result"
    }
   ],
   "source": [
    "stats.levene(df1,df2, center='median')"
   ]
  },
  {
   "cell_type": "code",
   "execution_count": 163,
   "metadata": {},
   "outputs": [
    {
     "data": {
      "text/plain": [
       "{'whiskers': [<matplotlib.lines.Line2D at 0x23f22100>,\n",
       "  <matplotlib.lines.Line2D at 0x23f222b0>],\n",
       " 'caps': [<matplotlib.lines.Line2D at 0x23f22460>,\n",
       "  <matplotlib.lines.Line2D at 0x23f22610>],\n",
       " 'boxes': [<matplotlib.lines.Line2D at 0x23f12e80>],\n",
       " 'medians': [<matplotlib.lines.Line2D at 0x23f227c0>],\n",
       " 'fliers': [<matplotlib.lines.Line2D at 0x23f22970>],\n",
       " 'means': []}"
      ]
     },
     "execution_count": 163,
     "metadata": {},
     "output_type": "execute_result"
    },
    {
     "data": {
      "image/png": "[encoded data removed]",
      "text/plain": [
       "<Figure size 432x288 with 1 Axes>"
      ]
     },
     "metadata": {
      "needs_background": "light"
     },
     "output_type": "display_data"
    }
   ],
   "source": [
    "df1 = df.loc[df['stroke'] == 1.0].age\n",
    "df2 = df.loc[df['stroke'] == 0.0].age.sample(df1.shape[0])\n",
    "\n",
    "plt.boxplot(df1)"
   ]
  },
  {
   "cell_type": "code",
   "execution_count": 96,
   "metadata": {},
   "outputs": [
    {
     "data": {
      "text/plain": [
       "{'whiskers': [<matplotlib.lines.Line2D at 0x12fd9cb8>,\n",
       "  <matplotlib.lines.Line2D at 0x12fd9b08>],\n",
       " 'caps': [<matplotlib.lines.Line2D at 0x12fd9958>,\n",
       "  <matplotlib.lines.Line2D at 0x12fd97a8>],\n",
       " 'boxes': [<matplotlib.lines.Line2D at 0x12fd9e68>],\n",
       " 'medians': [<matplotlib.lines.Line2D at 0x12fd95f8>],\n",
       " 'fliers': [<matplotlib.lines.Line2D at 0x12fd9448>],\n",
       " 'means': []}"
      ]
     },
     "execution_count": 96,
     "metadata": {},
     "output_type": "execute_result"
    },
    {
     "data": {
      "image/png": "[encoded data removed]",
      "text/plain": [
       "<Figure size 432x288 with 1 Axes>"
      ]
     },
     "metadata": {
      "needs_background": "light"
     },
     "output_type": "display_data"
    }
   ],
   "source": [
    "plt.boxplot(df2)"
   ]
  },
  {
   "cell_type": "code",
   "execution_count": 314,
   "metadata": {},
   "outputs": [
    {
     "name": "stdout",
     "output_type": "stream",
     "text": [
      "                            OLS Regression Results                            \n",
      "==============================================================================\n",
      "Dep. Variable:                    bmi   R-squared:                       0.073\n",
      "Model:                            OLS   Adj. R-squared:                  0.070\n",
      "Method:                 Least Squares   F-statistic:                     28.57\n",
      "Date:                Fri, 03 Feb 2023   Prob (F-statistic):           1.60e-07\n",
      "Time:                        15:54:16   Log-Likelihood:                -1125.0\n",
      "No. Observations:                 365   AIC:                             2254.\n",
      "Df Residuals:                     363   BIC:                             2262.\n",
      "Df Model:                           1                                         \n",
      "Covariance Type:            nonrobust                                         \n",
      "==============================================================================\n",
      "                 coef    std err          t      P>|t|      [0.025      0.975]\n",
      "------------------------------------------------------------------------------\n",
      "const         37.0946      1.622     22.875      0.000      33.906      40.284\n",
      "age           -0.1242      0.023     -5.345      0.000      -0.170      -0.079\n",
      "==============================================================================\n",
      "Omnibus:                       22.941   Durbin-Watson:                   2.034\n",
      "Prob(Omnibus):                  0.000   Jarque-Bera (JB):               26.768\n",
      "Skew:                           0.561   Prob(JB):                     1.54e-06\n",
      "Kurtosis:                       3.709   Cond. No.                         409.\n",
      "==============================================================================\n",
      "\n",
      "Notes:\n",
      "[1] Standard Errors assume that the covariance matrix of the errors is correctly specified.\n"
     ]
    }
   ],
   "source": [
    "# linear regression between age and bmi for people with a stroke 365 entries\n",
    "df_age = sm.add_constant(df1.age)\n",
    "model = sm.OLS(df1.bmi, df_age)\n",
    "results = model.fit()\n",
    "print(results.summary())"
   ]
  },
  {
   "cell_type": "code",
   "execution_count": 313,
   "metadata": {},
   "outputs": [
    {
     "data": {
      "text/html": [
       "<div>\n",
       "<style scoped>\n",
       "    .dataframe tbody tr th:only-of-type {\n",
       "        vertical-align: middle;\n",
       "    }\n",
       "\n",
       "    .dataframe tbody tr th {\n",
       "        vertical-align: top;\n",
       "    }\n",
       "\n",
       "    .dataframe thead th {\n",
       "        text-align: right;\n",
       "    }\n",
       "</style>\n",
       "<table border=\"1\" class=\"dataframe\">\n",
       "  <thead>\n",
       "    <tr style=\"text-align: right;\">\n",
       "      <th></th>\n",
       "      <th>Unnamed: 0</th>\n",
       "      <th>gender</th>\n",
       "      <th>age</th>\n",
       "      <th>hypertension</th>\n",
       "      <th>heart_disease</th>\n",
       "      <th>ever_married</th>\n",
       "      <th>work_type</th>\n",
       "      <th>Residence_type</th>\n",
       "      <th>avg_glucose_level</th>\n",
       "      <th>bmi</th>\n",
       "      <th>smoking_status</th>\n",
       "      <th>stroke</th>\n",
       "    </tr>\n",
       "  </thead>\n",
       "  <tbody>\n",
       "    <tr>\n",
       "      <th>88</th>\n",
       "      <td>97</td>\n",
       "      <td>Male</td>\n",
       "      <td>80.0</td>\n",
       "      <td>0.0</td>\n",
       "      <td>1.0</td>\n",
       "      <td>Yes</td>\n",
       "      <td>Private</td>\n",
       "      <td>Rural</td>\n",
       "      <td>105.92</td>\n",
       "      <td>32.5</td>\n",
       "      <td>never smoked</td>\n",
       "      <td>1.0</td>\n",
       "    </tr>\n",
       "    <tr>\n",
       "      <th>190</th>\n",
       "      <td>199</td>\n",
       "      <td>Male</td>\n",
       "      <td>74.0</td>\n",
       "      <td>1.0</td>\n",
       "      <td>1.0</td>\n",
       "      <td>Yes</td>\n",
       "      <td>Private</td>\n",
       "      <td>Rural</td>\n",
       "      <td>70.09</td>\n",
       "      <td>27.4</td>\n",
       "      <td>never smoked</td>\n",
       "      <td>1.0</td>\n",
       "    </tr>\n",
       "    <tr>\n",
       "      <th>206</th>\n",
       "      <td>215</td>\n",
       "      <td>Female</td>\n",
       "      <td>69.0</td>\n",
       "      <td>0.0</td>\n",
       "      <td>0.0</td>\n",
       "      <td>No</td>\n",
       "      <td>Private</td>\n",
       "      <td>Urban</td>\n",
       "      <td>94.39</td>\n",
       "      <td>22.8</td>\n",
       "      <td>never smoked</td>\n",
       "      <td>1.0</td>\n",
       "    </tr>\n",
       "    <tr>\n",
       "      <th>396</th>\n",
       "      <td>405</td>\n",
       "      <td>Female</td>\n",
       "      <td>81.0</td>\n",
       "      <td>1.0</td>\n",
       "      <td>0.0</td>\n",
       "      <td>Yes</td>\n",
       "      <td>Private</td>\n",
       "      <td>Rural</td>\n",
       "      <td>80.43</td>\n",
       "      <td>29.7</td>\n",
       "      <td>never smoked</td>\n",
       "      <td>1.0</td>\n",
       "    </tr>\n",
       "    <tr>\n",
       "      <th>431</th>\n",
       "      <td>440</td>\n",
       "      <td>Female</td>\n",
       "      <td>61.0</td>\n",
       "      <td>0.0</td>\n",
       "      <td>1.0</td>\n",
       "      <td>Yes</td>\n",
       "      <td>Govt_job</td>\n",
       "      <td>Rural</td>\n",
       "      <td>120.46</td>\n",
       "      <td>36.8</td>\n",
       "      <td>smokes</td>\n",
       "      <td>1.0</td>\n",
       "    </tr>\n",
       "    <tr>\n",
       "      <th>...</th>\n",
       "      <td>...</td>\n",
       "      <td>...</td>\n",
       "      <td>...</td>\n",
       "      <td>...</td>\n",
       "      <td>...</td>\n",
       "      <td>...</td>\n",
       "      <td>...</td>\n",
       "      <td>...</td>\n",
       "      <td>...</td>\n",
       "      <td>...</td>\n",
       "      <td>...</td>\n",
       "      <td>...</td>\n",
       "    </tr>\n",
       "    <tr>\n",
       "      <th>28714</th>\n",
       "      <td>28863</td>\n",
       "      <td>Male</td>\n",
       "      <td>79.0</td>\n",
       "      <td>0.0</td>\n",
       "      <td>1.0</td>\n",
       "      <td>Yes</td>\n",
       "      <td>Self-employed</td>\n",
       "      <td>Urban</td>\n",
       "      <td>88.29</td>\n",
       "      <td>36.0</td>\n",
       "      <td>never smoked</td>\n",
       "      <td>1.0</td>\n",
       "    </tr>\n",
       "    <tr>\n",
       "      <th>28742</th>\n",
       "      <td>28891</td>\n",
       "      <td>Male</td>\n",
       "      <td>76.0</td>\n",
       "      <td>0.0</td>\n",
       "      <td>0.0</td>\n",
       "      <td>Yes</td>\n",
       "      <td>Self-employed</td>\n",
       "      <td>Rural</td>\n",
       "      <td>93.38</td>\n",
       "      <td>26.7</td>\n",
       "      <td>formerly smoked</td>\n",
       "      <td>1.0</td>\n",
       "    </tr>\n",
       "    <tr>\n",
       "      <th>28761</th>\n",
       "      <td>28910</td>\n",
       "      <td>Female</td>\n",
       "      <td>56.0</td>\n",
       "      <td>0.0</td>\n",
       "      <td>0.0</td>\n",
       "      <td>Yes</td>\n",
       "      <td>Private</td>\n",
       "      <td>Rural</td>\n",
       "      <td>83.27</td>\n",
       "      <td>32.9</td>\n",
       "      <td>smokes</td>\n",
       "      <td>1.0</td>\n",
       "    </tr>\n",
       "    <tr>\n",
       "      <th>28855</th>\n",
       "      <td>29004</td>\n",
       "      <td>Female</td>\n",
       "      <td>80.0</td>\n",
       "      <td>0.0</td>\n",
       "      <td>0.0</td>\n",
       "      <td>Yes</td>\n",
       "      <td>Self-employed</td>\n",
       "      <td>Urban</td>\n",
       "      <td>75.91</td>\n",
       "      <td>26.7</td>\n",
       "      <td>never smoked</td>\n",
       "      <td>1.0</td>\n",
       "    </tr>\n",
       "    <tr>\n",
       "      <th>28865</th>\n",
       "      <td>29014</td>\n",
       "      <td>Male</td>\n",
       "      <td>62.0</td>\n",
       "      <td>1.0</td>\n",
       "      <td>1.0</td>\n",
       "      <td>Yes</td>\n",
       "      <td>Private</td>\n",
       "      <td>Rural</td>\n",
       "      <td>77.97</td>\n",
       "      <td>31.5</td>\n",
       "      <td>formerly smoked</td>\n",
       "      <td>1.0</td>\n",
       "    </tr>\n",
       "  </tbody>\n",
       "</table>\n",
       "<p>365 rows × 12 columns</p>\n",
       "</div>"
      ],
      "text/plain": [
       "       Unnamed: 0  gender   age  hypertension  heart_disease ever_married  \\\n",
       "88             97    Male  80.0           0.0            1.0          Yes   \n",
       "190           199    Male  74.0           1.0            1.0          Yes   \n",
       "206           215  Female  69.0           0.0            0.0           No   \n",
       "396           405  Female  81.0           1.0            0.0          Yes   \n",
       "431           440  Female  61.0           0.0            1.0          Yes   \n",
       "...           ...     ...   ...           ...            ...          ...   \n",
       "28714       28863    Male  79.0           0.0            1.0          Yes   \n",
       "28742       28891    Male  76.0           0.0            0.0          Yes   \n",
       "28761       28910  Female  56.0           0.0            0.0          Yes   \n",
       "28855       29004  Female  80.0           0.0            0.0          Yes   \n",
       "28865       29014    Male  62.0           1.0            1.0          Yes   \n",
       "\n",
       "           work_type Residence_type  avg_glucose_level   bmi   smoking_status  \\\n",
       "88           Private          Rural             105.92  32.5     never smoked   \n",
       "190          Private          Rural              70.09  27.4     never smoked   \n",
       "206          Private          Urban              94.39  22.8     never smoked   \n",
       "396          Private          Rural              80.43  29.7     never smoked   \n",
       "431         Govt_job          Rural             120.46  36.8           smokes   \n",
       "...              ...            ...                ...   ...              ...   \n",
       "28714  Self-employed          Urban              88.29  36.0     never smoked   \n",
       "28742  Self-employed          Rural              93.38  26.7  formerly smoked   \n",
       "28761        Private          Rural              83.27  32.9           smokes   \n",
       "28855  Self-employed          Urban              75.91  26.7     never smoked   \n",
       "28865        Private          Rural              77.97  31.5  formerly smoked   \n",
       "\n",
       "       stroke  \n",
       "88        1.0  \n",
       "190       1.0  \n",
       "206       1.0  \n",
       "396       1.0  \n",
       "431       1.0  \n",
       "...       ...  \n",
       "28714     1.0  \n",
       "28742     1.0  \n",
       "28761     1.0  \n",
       "28855     1.0  \n",
       "28865     1.0  \n",
       "\n",
       "[365 rows x 12 columns]"
      ]
     },
     "execution_count": 313,
     "metadata": {},
     "output_type": "execute_result"
    }
   ],
   "source": []
  },
  {
   "cell_type": "code",
   "execution_count": 312,
   "metadata": {},
   "outputs": [
    {
     "data": {
      "image/png": "[encoded data removed]",
      "text/plain": [
       "<Figure size 432x288 with 2 Axes>"
      ]
     },
     "metadata": {
      "needs_background": "light"
     },
     "output_type": "display_data"
    }
   ],
   "source": [
    "y_predict = results.predict(df_age)\n",
    "fig, ax1 = plt.subplots()\n",
    "\n",
    "ax2 = ax1.twinx()\n",
    "ax1.scatter(df1['age'], df1['bmi'],color= 'r')\n",
    "ax2.scatter(df1['age'], y_predict, color='b')\n",
    "ax1.set_xlabel('age')\n",
    "ax1.set_ylabel('real bmi', color='r')\n",
    "ax2.set_ylabel('predicted bmi', color='b')\n",
    "\n",
    "plt.show()\n",
    "fig.savefig('age vs bmi.png')"
   ]
  },
  {
   "cell_type": "code",
   "execution_count": 315,
   "metadata": {},
   "outputs": [
    {
     "name": "stdout",
     "output_type": "stream",
     "text": [
      "                            OLS Regression Results                            \n",
      "==============================================================================\n",
      "Dep. Variable:      avg_glucose_level   R-squared:                       0.001\n",
      "Model:                            OLS   Adj. R-squared:                 -0.002\n",
      "Method:                 Least Squares   F-statistic:                    0.2331\n",
      "Date:                Fri, 03 Feb 2023   Prob (F-statistic):              0.630\n",
      "Time:                        16:09:03   Log-Likelihood:                -1666.3\n",
      "No. Observations:                 365   AIC:                             3337.\n",
      "Df Residuals:                     363   BIC:                             3344.\n",
      "Df Model:                           1                                         \n",
      "Covariance Type:            nonrobust                                         \n",
      "==============================================================================\n",
      "                 coef    std err          t      P>|t|      [0.025      0.975]\n",
      "------------------------------------------------------------------------------\n",
      "const         88.7933      6.475     13.713      0.000      76.060     101.527\n",
      "bmi            0.1075      0.223      0.483      0.630      -0.330       0.545\n",
      "==============================================================================\n",
      "Omnibus:                       41.455   Durbin-Watson:                   1.796\n",
      "Prob(Omnibus):                  0.000   Jarque-Bera (JB):               52.219\n",
      "Skew:                           0.896   Prob(JB):                     4.58e-12\n",
      "Kurtosis:                       3.470   Cond. No.                         154.\n",
      "==============================================================================\n",
      "\n",
      "Notes:\n",
      "[1] Standard Errors assume that the covariance matrix of the errors is correctly specified.\n"
     ]
    }
   ],
   "source": [
    "# linear regression between avg_glucose_levels and bmi for people with a stroke\n",
    "df_bmi = sm.add_constant(df1['bmi'])\n",
    "model = sm.OLS(df1['avg_glucose_level'], df_bmi)\n",
    "results = model.fit()\n",
    "print(results.summary())"
   ]
  },
  {
   "cell_type": "code",
   "execution_count": 316,
   "metadata": {},
   "outputs": [
    {
     "data": {
      "image/png": "[encoded data removed]",
      "text/plain": [
       "<Figure size 432x288 with 2 Axes>"
      ]
     },
     "metadata": {
      "needs_background": "light"
     },
     "output_type": "display_data"
    }
   ],
   "source": [
    "y_predict = results.predict(df_bmi)\n",
    "fig, ax1 = plt.subplots()\n",
    "\n",
    "ax2 = ax1.twinx()\n",
    "ax1.scatter(df1['bmi'], df1['avg_glucose_level'],color= 'r')\n",
    "ax2.scatter(df1['bmi'], y_predict, color='b')\n",
    "ax1.set_xlabel('bmi')\n",
    "ax1.set_ylabel('real avg glucose level', color='r')\n",
    "ax2.set_ylabel('predicted avg glucose level', color='b')\n",
    "\n",
    "plt.show()\n",
    "fig.savefig('avg_glucose vs bmi.png')"
   ]
  },
  {
   "cell_type": "code",
   "execution_count": 317,
   "metadata": {},
   "outputs": [
    {
     "name": "stdout",
     "output_type": "stream",
     "text": [
      "                            OLS Regression Results                            \n",
      "==============================================================================\n",
      "Dep. Variable:      avg_glucose_level   R-squared:                       0.006\n",
      "Model:                            OLS   Adj. R-squared:                  0.003\n",
      "Method:                 Least Squares   F-statistic:                     2.189\n",
      "Date:                Fri, 03 Feb 2023   Prob (F-statistic):              0.140\n",
      "Time:                        16:18:23   Log-Likelihood:                -1665.4\n",
      "No. Observations:                 365   AIC:                             3335.\n",
      "Df Residuals:                     363   BIC:                             3343.\n",
      "Df Model:                           1                                         \n",
      "Covariance Type:            nonrobust                                         \n",
      "==============================================================================\n",
      "                 coef    std err          t      P>|t|      [0.025      0.975]\n",
      "------------------------------------------------------------------------------\n",
      "const         81.4737      7.127     11.431      0.000      67.458      95.490\n",
      "age            0.1511      0.102      1.479      0.140      -0.050       0.352\n",
      "==============================================================================\n",
      "Omnibus:                       41.794   Durbin-Watson:                   1.797\n",
      "Prob(Omnibus):                  0.000   Jarque-Bera (JB):               52.741\n",
      "Skew:                           0.895   Prob(JB):                     3.53e-12\n",
      "Kurtosis:                       3.512   Cond. No.                         409.\n",
      "==============================================================================\n",
      "\n",
      "Notes:\n",
      "[1] Standard Errors assume that the covariance matrix of the errors is correctly specified.\n"
     ]
    }
   ],
   "source": [
    "# linear regression between age and avg glucose levels for people with a stroke\n",
    "df_age = sm.add_constant(df1['age'])\n",
    "model = sm.OLS(df1['avg_glucose_level'], df_age)\n",
    "results = model.fit()\n",
    "print(results.summary())"
   ]
  },
  {
   "cell_type": "code",
   "execution_count": 318,
   "metadata": {},
   "outputs": [
    {
     "data": {
      "image/png": "[encoded data removed]",
      "text/plain": [
       "<Figure size 432x288 with 2 Axes>"
      ]
     },
     "metadata": {
      "needs_background": "light"
     },
     "output_type": "display_data"
    }
   ],
   "source": [
    "y_predict = results.predict(df_age)\n",
    "fig, ax1 = plt.subplots()\n",
    "\n",
    "ax2 = ax1.twinx()\n",
    "ax1.scatter(df1['age'], df1['avg_glucose_level'],color= 'r')\n",
    "ax2.scatter(df1['age'], y_predict, color='b')\n",
    "ax1.set_xlabel('age')\n",
    "ax1.set_ylabel('real avg glucose level', color='r')\n",
    "ax2.set_ylabel('predicted avg glucose level', color='b')\n",
    "\n",
    "plt.show()\n",
    "fig.savefig('avg_glucose vs age.png')"
   ]
  },
  {
   "cell_type": "code",
   "execution_count": 319,
   "metadata": {},
   "outputs": [
    {
     "name": "stdout",
     "output_type": "stream",
     "text": [
      "                            OLS Regression Results                            \n",
      "==============================================================================\n",
      "Dep. Variable:      avg_glucose_level   R-squared:                       0.008\n",
      "Model:                            OLS   Adj. R-squared:                  0.003\n",
      "Method:                 Least Squares   F-statistic:                     1.515\n",
      "Date:                Fri, 03 Feb 2023   Prob (F-statistic):              0.221\n",
      "Time:                        16:33:47   Log-Likelihood:                -1664.9\n",
      "No. Observations:                 365   AIC:                             3336.\n",
      "Df Residuals:                     362   BIC:                             3348.\n",
      "Df Model:                           2                                         \n",
      "Covariance Type:            nonrobust                                         \n",
      "==============================================================================\n",
      "                 coef    std err          t      P>|t|      [0.025      0.975]\n",
      "------------------------------------------------------------------------------\n",
      "const         73.6192     11.139      6.609      0.000      51.714      95.525\n",
      "age            0.1774      0.106      1.672      0.095      -0.031       0.386\n",
      "bmi            0.2117      0.231      0.918      0.359      -0.242       0.665\n",
      "==============================================================================\n",
      "Omnibus:                       40.878   Durbin-Watson:                   1.794\n",
      "Prob(Omnibus):                  0.000   Jarque-Bera (JB):               51.277\n",
      "Skew:                           0.885   Prob(JB):                     7.33e-12\n",
      "Kurtosis:                       3.490   Cond. No.                         688.\n",
      "==============================================================================\n",
      "\n",
      "Notes:\n",
      "[1] Standard Errors assume that the covariance matrix of the errors is correctly specified.\n"
     ]
    }
   ],
   "source": [
    "# age and bmi affecting the avg_glucose level\n",
    "x = df1[['age','bmi']]\n",
    "x1 = sm.add_constant(x)\n",
    "model = sm.OLS(df1['avg_glucose_level'], x1)\n",
    "results = model.fit()\n",
    "print(results.summary())"
   ]
  },
  {
   "cell_type": "code",
   "execution_count": 320,
   "metadata": {},
   "outputs": [
    {
     "name": "stdout",
     "output_type": "stream",
     "text": [
      "Optimization terminated successfully.\n",
      "         Current function value: 0.663471\n",
      "         Iterations 6\n"
     ]
    },
    {
     "data": {
      "text/html": [
       "<table class=\"simpletable\">\n",
       "<tr>\n",
       "        <td>Model:</td>              <td>Logit</td>      <td>Pseudo R-squared:</td>   <td>0.043</td> \n",
       "</tr>\n",
       "<tr>\n",
       "  <td>Dependent Variable:</td>      <td>stroke</td>            <td>AIC:</td>        <td>970.6670</td>\n",
       "</tr>\n",
       "<tr>\n",
       "         <td>Date:</td>        <td>2023-02-03 16:47</td>       <td>BIC:</td>        <td>975.2600</td>\n",
       "</tr>\n",
       "<tr>\n",
       "   <td>No. Observations:</td>         <td>730</td>        <td>Log-Likelihood:</td>   <td>-484.33</td>\n",
       "</tr>\n",
       "<tr>\n",
       "       <td>Df Model:</td>              <td>0</td>            <td>LL-Null:</td>       <td>-506.00</td>\n",
       "</tr>\n",
       "<tr>\n",
       "     <td>Df Residuals:</td>           <td>729</td>         <td>LLR p-value:</td>       <td>nan</td>  \n",
       "</tr>\n",
       "<tr>\n",
       "      <td>Converged:</td>           <td>1.0000</td>           <td>Scale:</td>        <td>1.0000</td> \n",
       "</tr>\n",
       "<tr>\n",
       "    <td>No. Iterations:</td>        <td>6.0000</td>              <td></td>              <td></td>    \n",
       "</tr>\n",
       "</table>\n",
       "<table class=\"simpletable\">\n",
       "<tr>\n",
       "        <td></td>         <th>Coef.</th> <th>Std.Err.</th>    <th>z</th>    <th>P>|z|</th> <th>[0.025</th> <th>0.975]</th>\n",
       "</tr>\n",
       "<tr>\n",
       "  <th>heart_disease</th> <td>1.9136</td>  <td>0.3571</td>  <td>5.3592</td> <td>0.0000</td> <td>1.2138</td> <td>2.6135</td>\n",
       "</tr>\n",
       "</table>"
      ],
      "text/plain": [
       "<class 'statsmodels.iolib.summary2.Summary'>\n",
       "\"\"\"\n",
       "                        Results: Logit\n",
       "===============================================================\n",
       "Model:              Logit            Pseudo R-squared: 0.043   \n",
       "Dependent Variable: stroke           AIC:              970.6670\n",
       "Date:               2023-02-03 16:47 BIC:              975.2600\n",
       "No. Observations:   730              Log-Likelihood:   -484.33 \n",
       "Df Model:           0                LL-Null:          -506.00 \n",
       "Df Residuals:       729              LLR p-value:      nan     \n",
       "Converged:          1.0000           Scale:            1.0000  \n",
       "No. Iterations:     6.0000                                     \n",
       "----------------------------------------------------------------\n",
       "                Coef.   Std.Err.    z     P>|z|   [0.025  0.975]\n",
       "----------------------------------------------------------------\n",
       "heart_disease   1.9136    0.3571  5.3592  0.0000  1.2138  2.6135\n",
       "===============================================================\n",
       "\n",
       "\"\"\""
      ]
     },
     "execution_count": 320,
     "metadata": {},
     "output_type": "execute_result"
    }
   ],
   "source": [
    "#logistic regression between heart disease and stroke \n",
    "x = df_smp['heart_disease']\n",
    "y = df_smp['stroke']\n",
    "model = sm.Logit(y,x)\n",
    "results = model.fit(method='newton')\n",
    "results.summary2()"
   ]
  },
  {
   "cell_type": "code",
   "execution_count": 325,
   "metadata": {},
   "outputs": [
    {
     "data": {
      "image/png": "[encoded data removed]",
      "text/plain": [
       "<Figure size 576x576 with 1 Axes>"
      ]
     },
     "metadata": {
      "needs_background": "light"
     },
     "output_type": "display_data"
    }
   ],
   "source": [
    "cm = results.pred_table()\n",
    "\n",
    "fig, ax = plt.subplots(figsize=(8, 8))\n",
    "ax.imshow(cm)\n",
    "#ax.grid(False)\n",
    "ax.xaxis.set(ticks=(0, 1), ticklabels=('Predicted 0s', 'Predicted 1s'))\n",
    "ax.yaxis.set(ticks=(0, 1), ticklabels=('Actual 0s', 'Actual 1s'))\n",
    "ax.set_ylim(1.5, -0.5)\n",
    "for i in range(2):\n",
    "    for j in range(2):\n",
    "        ax.text(j, i, cm[i, j], ha='center', va='center', color='red')\n",
    "plt.show()\n",
    "fig.savefig('heart disease vs stroke')"
   ]
  },
  {
   "cell_type": "code",
   "execution_count": 331,
   "metadata": {},
   "outputs": [
    {
     "name": "stdout",
     "output_type": "stream",
     "text": [
      "Optimization terminated successfully.\n",
      "         Current function value: 0.693095\n",
      "         Iterations 2\n"
     ]
    },
    {
     "data": {
      "text/html": [
       "<table class=\"simpletable\">\n",
       "<tr>\n",
       "        <td>Model:</td>              <td>Logit</td>      <td>Pseudo R-squared:</td>   <td>0.000</td>  \n",
       "</tr>\n",
       "<tr>\n",
       "  <td>Dependent Variable:</td>      <td>stroke</td>            <td>AIC:</td>        <td>1013.9181</td>\n",
       "</tr>\n",
       "<tr>\n",
       "         <td>Date:</td>        <td>2023-02-03 17:16</td>       <td>BIC:</td>        <td>1018.5111</td>\n",
       "</tr>\n",
       "<tr>\n",
       "   <td>No. Observations:</td>         <td>730</td>        <td>Log-Likelihood:</td>   <td>-505.96</td> \n",
       "</tr>\n",
       "<tr>\n",
       "       <td>Df Model:</td>              <td>0</td>            <td>LL-Null:</td>       <td>-506.00</td> \n",
       "</tr>\n",
       "<tr>\n",
       "     <td>Df Residuals:</td>           <td>729</td>         <td>LLR p-value:</td>       <td>nan</td>   \n",
       "</tr>\n",
       "<tr>\n",
       "      <td>Converged:</td>           <td>1.0000</td>           <td>Scale:</td>        <td>1.0000</td>  \n",
       "</tr>\n",
       "<tr>\n",
       "    <td>No. Iterations:</td>        <td>2.0000</td>              <td></td>              <td></td>     \n",
       "</tr>\n",
       "</table>\n",
       "<table class=\"simpletable\">\n",
       "<tr>\n",
       "          <td></td>           <th>Coef.</th>  <th>Std.Err.</th>    <th>z</th>     <th>P>|z|</th> <th>[0.025</th>  <th>0.975]</th>\n",
       "</tr>\n",
       "<tr>\n",
       "  <th>avg_glucose_level</th> <td>-0.0002</td>  <td>0.0008</td>  <td>-0.2772</td> <td>0.7817</td> <td>-0.0017</td> <td>0.0013</td>\n",
       "</tr>\n",
       "</table>"
      ],
      "text/plain": [
       "<class 'statsmodels.iolib.summary2.Summary'>\n",
       "\"\"\"\n",
       "                         Results: Logit\n",
       "================================================================\n",
       "Model:              Logit            Pseudo R-squared: 0.000    \n",
       "Dependent Variable: stroke           AIC:              1013.9181\n",
       "Date:               2023-02-03 17:16 BIC:              1018.5111\n",
       "No. Observations:   730              Log-Likelihood:   -505.96  \n",
       "Df Model:           0                LL-Null:          -506.00  \n",
       "Df Residuals:       729              LLR p-value:      nan      \n",
       "Converged:          1.0000           Scale:            1.0000   \n",
       "No. Iterations:     2.0000                                      \n",
       "----------------------------------------------------------------\n",
       "                   Coef.  Std.Err.    z    P>|z|   [0.025 0.975]\n",
       "----------------------------------------------------------------\n",
       "avg_glucose_level -0.0002   0.0008 -0.2772 0.7817 -0.0017 0.0013\n",
       "================================================================\n",
       "\n",
       "\"\"\""
      ]
     },
     "execution_count": 331,
     "metadata": {},
     "output_type": "execute_result"
    }
   ],
   "source": [
    "#logistic regression between avg glucose level and bmi and stroke\n",
    "x = df_smp['avg_glucose_level']\n",
    "y = df_smp['stroke']\n",
    "model = sm.Logit(y,x)\n",
    "results = model.fit(method='newton')\n",
    "results.summary2()"
   ]
  },
  {
   "cell_type": "code",
   "execution_count": 333,
   "metadata": {},
   "outputs": [
    {
     "data": {
      "image/png": "[encoded data removed]",
      "text/plain": [
       "<Figure size 576x576 with 1 Axes>"
      ]
     },
     "metadata": {
      "needs_background": "light"
     },
     "output_type": "display_data"
    }
   ],
   "source": [
    "cm = results.pred_table()\n",
    "\n",
    "fig, ax = plt.subplots(figsize=(8, 8))\n",
    "ax.imshow(cm)\n",
    "#ax.grid(False)\n",
    "ax.xaxis.set(ticks=(0, 1), ticklabels=('Predicted 0s', 'Predicted 1s'))\n",
    "ax.yaxis.set(ticks=(0, 1), ticklabels=('Actual 0s', 'Actual 1s'))\n",
    "ax.set_ylim(1.5, -0.5)\n",
    "for i in range(2):\n",
    "    for j in range(2):\n",
    "        ax.text(j, i, cm[i, j], ha='center', va='center', color='red')\n",
    "plt.show()\n",
    "fig.savefig('1')"
   ]
  },
  {
   "cell_type": "code",
   "execution_count": 337,
   "metadata": {},
   "outputs": [
    {
     "data": {
      "image/png": "[encoded data removed]",
      "text/plain": [
       "<Figure size 432x288 with 2 Axes>"
      ]
     },
     "metadata": {
      "needs_background": "light"
     },
     "output_type": "display_data"
    }
   ],
   "source": [
    "y_predict = (results.predict(x) >= 0.5).astype(int)\n",
    "\n",
    "fig, ax1 = plt.subplots()\n",
    "\n",
    "ax2 = ax1.twinx()\n",
    "ax1.scatter(df_smp['avg_glucose_level'], df_smp['stroke'],color= 'r')\n",
    "ax2.scatter(df_smp['avg_glucose_level'], y_predict, color='b')\n",
    "ax1.set_xlabel('avg_glucose_level')\n",
    "ax1.set_ylabel('real stroke', color='r')\n",
    "ax2.set_ylabel('predicted stroke', color='b')\n",
    "\n",
    "plt.show()\n",
    "fig.savefig('2.pdf')"
   ]
  },
  {
   "cell_type": "code",
   "execution_count": 294,
   "metadata": {},
   "outputs": [
    {
     "name": "stdout",
     "output_type": "stream",
     "text": [
      "Optimization terminated successfully.\n",
      "         Current function value: 0.659648\n",
      "         Iterations 6\n"
     ]
    },
    {
     "data": {
      "text/html": [
       "<table class=\"simpletable\">\n",
       "<tr>\n",
       "        <td>Model:</td>              <td>Logit</td>      <td>Pseudo R-squared:</td>    <td>0.048</td>  \n",
       "</tr>\n",
       "<tr>\n",
       "  <td>Dependent Variable:</td>      <td>stroke</td>            <td>AIC:</td>         <td>967.0860</td> \n",
       "</tr>\n",
       "<tr>\n",
       "         <td>Date:</td>        <td>2023-02-02 15:50</td>       <td>BIC:</td>         <td>976.2720</td> \n",
       "</tr>\n",
       "<tr>\n",
       "   <td>No. Observations:</td>         <td>730</td>        <td>Log-Likelihood:</td>    <td>-481.54</td> \n",
       "</tr>\n",
       "<tr>\n",
       "       <td>Df Model:</td>              <td>1</td>            <td>LL-Null:</td>        <td>-506.00</td> \n",
       "</tr>\n",
       "<tr>\n",
       "     <td>Df Residuals:</td>           <td>728</td>         <td>LLR p-value:</td>    <td>2.6813e-12</td>\n",
       "</tr>\n",
       "<tr>\n",
       "      <td>Converged:</td>           <td>1.0000</td>           <td>Scale:</td>         <td>1.0000</td>  \n",
       "</tr>\n",
       "<tr>\n",
       "    <td>No. Iterations:</td>        <td>6.0000</td>              <td></td>               <td></td>     \n",
       "</tr>\n",
       "</table>\n",
       "<table class=\"simpletable\">\n",
       "<tr>\n",
       "          <td></td>           <th>Coef.</th>  <th>Std.Err.</th>    <th>z</th>     <th>P>|z|</th> <th>[0.025</th>  <th>0.975]</th> \n",
       "</tr>\n",
       "<tr>\n",
       "  <th>avg_glucose_level</th> <td>-0.0019</td>  <td>0.0008</td>  <td>-2.3561</td> <td>0.0185</td> <td>-0.0035</td> <td>-0.0003</td>\n",
       "</tr>\n",
       "<tr>\n",
       "  <th>heart_disease</th>     <td>2.1031</td>   <td>0.3662</td>  <td>5.7434</td>  <td>0.0000</td> <td>1.3854</td>  <td>2.8207</td> \n",
       "</tr>\n",
       "</table>"
      ],
      "text/plain": [
       "<class 'statsmodels.iolib.summary2.Summary'>\n",
       "\"\"\"\n",
       "                         Results: Logit\n",
       "=================================================================\n",
       "Model:              Logit            Pseudo R-squared: 0.048     \n",
       "Dependent Variable: stroke           AIC:              967.0860  \n",
       "Date:               2023-02-02 15:50 BIC:              976.2720  \n",
       "No. Observations:   730              Log-Likelihood:   -481.54   \n",
       "Df Model:           1                LL-Null:          -506.00   \n",
       "Df Residuals:       728              LLR p-value:      2.6813e-12\n",
       "Converged:          1.0000           Scale:            1.0000    \n",
       "No. Iterations:     6.0000                                       \n",
       "-----------------------------------------------------------------\n",
       "                   Coef.  Std.Err.    z    P>|z|   [0.025  0.975]\n",
       "-----------------------------------------------------------------\n",
       "avg_glucose_level -0.0019   0.0008 -2.3561 0.0185 -0.0035 -0.0003\n",
       "heart_disease      2.1031   0.3662  5.7434 0.0000  1.3854  2.8207\n",
       "=================================================================\n",
       "\n",
       "\"\"\""
      ]
     },
     "execution_count": 294,
     "metadata": {},
     "output_type": "execute_result"
    }
   ],
   "source": [
    "#logistic regression between avg glucose level + heart disease and stroke\n",
    "x = df_smp[['avg_glucose_level', 'heart_disease']]\n",
    "y = df_smp['stroke']\n",
    "model = sm.Logit(y,x)\n",
    "results = model.fit(method='newton')\n",
    "results.summary2()"
   ]
  },
  {
   "cell_type": "code",
   "execution_count": 295,
   "metadata": {},
   "outputs": [
    {
     "data": {
      "image/png": "[encoded data removed]",
      "text/plain": [
       "<Figure size 576x576 with 1 Axes>"
      ]
     },
     "metadata": {
      "needs_background": "light"
     },
     "output_type": "display_data"
    }
   ],
   "source": [
    "cm = results.pred_table()\n",
    "\n",
    "fig, ax = plt.subplots(figsize=(8, 8))\n",
    "ax.imshow(cm)\n",
    "#ax.grid(False)\n",
    "ax.xaxis.set(ticks=(0, 1), ticklabels=('Predicted 0s', 'Predicted 1s'))\n",
    "ax.yaxis.set(ticks=(0, 1), ticklabels=('Actual 0s', 'Actual 1s'))\n",
    "ax.set_ylim(1.5, -0.5)\n",
    "for i in range(2):\n",
    "    for j in range(2):\n",
    "        ax.text(j, i, cm[i, j], ha='center', va='center', color='blue')\n",
    "plt.show()"
   ]
  },
  {
   "cell_type": "code",
   "execution_count": 296,
   "metadata": {},
   "outputs": [
    {
     "name": "stdout",
     "output_type": "stream",
     "text": [
      "Optimization terminated successfully.\n",
      "         Current function value: 0.642068\n",
      "         Iterations 6\n"
     ]
    },
    {
     "data": {
      "text/html": [
       "<table class=\"simpletable\">\n",
       "<tr>\n",
       "        <td>Model:</td>              <td>Logit</td>      <td>Pseudo R-squared:</td>    <td>0.074</td>  \n",
       "</tr>\n",
       "<tr>\n",
       "  <td>Dependent Variable:</td>      <td>stroke</td>            <td>AIC:</td>         <td>941.4191</td> \n",
       "</tr>\n",
       "<tr>\n",
       "         <td>Date:</td>        <td>2023-02-02 15:51</td>       <td>BIC:</td>         <td>950.6052</td> \n",
       "</tr>\n",
       "<tr>\n",
       "   <td>No. Observations:</td>         <td>730</td>        <td>Log-Likelihood:</td>    <td>-468.71</td> \n",
       "</tr>\n",
       "<tr>\n",
       "       <td>Df Model:</td>              <td>1</td>            <td>LL-Null:</td>        <td>-506.00</td> \n",
       "</tr>\n",
       "<tr>\n",
       "     <td>Df Residuals:</td>           <td>728</td>         <td>LLR p-value:</td>    <td>5.8355e-18</td>\n",
       "</tr>\n",
       "<tr>\n",
       "      <td>Converged:</td>           <td>1.0000</td>           <td>Scale:</td>         <td>1.0000</td>  \n",
       "</tr>\n",
       "<tr>\n",
       "    <td>No. Iterations:</td>        <td>6.0000</td>              <td></td>               <td></td>     \n",
       "</tr>\n",
       "</table>\n",
       "<table class=\"simpletable\">\n",
       "<tr>\n",
       "        <td></td>         <th>Coef.</th> <th>Std.Err.</th>    <th>z</th>    <th>P>|z|</th> <th>[0.025</th> <th>0.975]</th>\n",
       "</tr>\n",
       "<tr>\n",
       "  <th>hypertension</th>  <td>1.1565</td>  <td>0.2245</td>  <td>5.1513</td> <td>0.0000</td> <td>0.7165</td> <td>1.5966</td>\n",
       "</tr>\n",
       "<tr>\n",
       "  <th>heart_disease</th> <td>1.6751</td>  <td>0.3618</td>  <td>4.6297</td> <td>0.0000</td> <td>0.9660</td> <td>2.3843</td>\n",
       "</tr>\n",
       "</table>"
      ],
      "text/plain": [
       "<class 'statsmodels.iolib.summary2.Summary'>\n",
       "\"\"\"\n",
       "                         Results: Logit\n",
       "=================================================================\n",
       "Model:              Logit            Pseudo R-squared: 0.074     \n",
       "Dependent Variable: stroke           AIC:              941.4191  \n",
       "Date:               2023-02-02 15:51 BIC:              950.6052  \n",
       "No. Observations:   730              Log-Likelihood:   -468.71   \n",
       "Df Model:           1                LL-Null:          -506.00   \n",
       "Df Residuals:       728              LLR p-value:      5.8355e-18\n",
       "Converged:          1.0000           Scale:            1.0000    \n",
       "No. Iterations:     6.0000                                       \n",
       "------------------------------------------------------------------\n",
       "                  Coef.   Std.Err.    z     P>|z|   [0.025  0.975]\n",
       "------------------------------------------------------------------\n",
       "hypertension      1.1565    0.2245  5.1513  0.0000  0.7165  1.5966\n",
       "heart_disease     1.6751    0.3618  4.6297  0.0000  0.9660  2.3843\n",
       "=================================================================\n",
       "\n",
       "\"\"\""
      ]
     },
     "execution_count": 296,
     "metadata": {},
     "output_type": "execute_result"
    }
   ],
   "source": [
    "# hypertension + heart disease and stroke \n",
    "x = df_smp[['hypertension', 'heart_disease']]\n",
    "y = df_smp['stroke']\n",
    "model = sm.Logit(y,x)\n",
    "results = model.fit(method='newton')\n",
    "results.summary2()"
   ]
  },
  {
   "cell_type": "code",
   "execution_count": 297,
   "metadata": {},
   "outputs": [
    {
     "data": {
      "image/png": "[encoded data removed]",
      "text/plain": [
       "<Figure size 576x576 with 1 Axes>"
      ]
     },
     "metadata": {
      "needs_background": "light"
     },
     "output_type": "display_data"
    }
   ],
   "source": [
    "cm = results.pred_table()\n",
    "\n",
    "fig, ax = plt.subplots(figsize=(8, 8))\n",
    "ax.imshow(cm)\n",
    "#ax.grid(False)\n",
    "ax.xaxis.set(ticks=(0, 1), ticklabels=('Predicted 0s', 'Predicted 1s'))\n",
    "ax.yaxis.set(ticks=(0, 1), ticklabels=('Actual 0s', 'Actual 1s'))\n",
    "ax.set_ylim(1.5, -0.5)\n",
    "for i in range(2):\n",
    "    for j in range(2):\n",
    "        ax.text(j, i, cm[i, j], ha='center', va='center', color='blue')\n",
    "plt.show()"
   ]
  },
  {
   "cell_type": "code",
   "execution_count": 341,
   "metadata": {},
   "outputs": [
    {
     "name": "stdout",
     "output_type": "stream",
     "text": [
      "Optimization terminated successfully.\n",
      "         Current function value: 0.626831\n",
      "         Iterations 6\n"
     ]
    },
    {
     "data": {
      "text/html": [
       "<table class=\"simpletable\">\n",
       "<tr>\n",
       "        <td>Model:</td>              <td>Logit</td>      <td>Pseudo R-squared:</td>    <td>0.096</td>  \n",
       "</tr>\n",
       "<tr>\n",
       "  <td>Dependent Variable:</td>      <td>stroke</td>            <td>AIC:</td>         <td>923.1729</td> \n",
       "</tr>\n",
       "<tr>\n",
       "         <td>Date:</td>        <td>2023-02-03 17:28</td>       <td>BIC:</td>         <td>941.5451</td> \n",
       "</tr>\n",
       "<tr>\n",
       "   <td>No. Observations:</td>         <td>730</td>        <td>Log-Likelihood:</td>    <td>-457.59</td> \n",
       "</tr>\n",
       "<tr>\n",
       "       <td>Df Model:</td>              <td>3</td>            <td>LL-Null:</td>        <td>-506.00</td> \n",
       "</tr>\n",
       "<tr>\n",
       "     <td>Df Residuals:</td>           <td>726</td>         <td>LLR p-value:</td>    <td>7.4941e-21</td>\n",
       "</tr>\n",
       "<tr>\n",
       "      <td>Converged:</td>           <td>1.0000</td>           <td>Scale:</td>         <td>1.0000</td>  \n",
       "</tr>\n",
       "<tr>\n",
       "    <td>No. Iterations:</td>        <td>6.0000</td>              <td></td>               <td></td>     \n",
       "</tr>\n",
       "</table>\n",
       "<table class=\"simpletable\">\n",
       "<tr>\n",
       "          <td></td>           <th>Coef.</th>  <th>Std.Err.</th>    <th>z</th>     <th>P>|z|</th> <th>[0.025</th>  <th>0.975]</th>\n",
       "</tr>\n",
       "<tr>\n",
       "  <th>hypertension</th>      <td>1.5372</td>   <td>0.2406</td>  <td>6.3877</td>  <td>0.0000</td> <td>1.0655</td>  <td>2.0088</td>\n",
       "</tr>\n",
       "<tr>\n",
       "  <th>heart_disease</th>     <td>2.0352</td>   <td>0.3719</td>  <td>5.4725</td>  <td>0.0000</td> <td>1.3063</td>  <td>2.7641</td>\n",
       "</tr>\n",
       "<tr>\n",
       "  <th>avg_glucose_level</th> <td>-0.0019</td>  <td>0.0027</td>  <td>-0.7153</td> <td>0.4744</td> <td>-0.0071</td> <td>0.0033</td>\n",
       "</tr>\n",
       "<tr>\n",
       "  <th>bmi</th>               <td>-0.0077</td>  <td>0.0088</td>  <td>-0.8796</td> <td>0.3791</td> <td>-0.0249</td> <td>0.0095</td>\n",
       "</tr>\n",
       "</table>"
      ],
      "text/plain": [
       "<class 'statsmodels.iolib.summary2.Summary'>\n",
       "\"\"\"\n",
       "                         Results: Logit\n",
       "=================================================================\n",
       "Model:              Logit            Pseudo R-squared: 0.096     \n",
       "Dependent Variable: stroke           AIC:              923.1729  \n",
       "Date:               2023-02-03 17:28 BIC:              941.5451  \n",
       "No. Observations:   730              Log-Likelihood:   -457.59   \n",
       "Df Model:           3                LL-Null:          -506.00   \n",
       "Df Residuals:       726              LLR p-value:      7.4941e-21\n",
       "Converged:          1.0000           Scale:            1.0000    \n",
       "No. Iterations:     6.0000                                       \n",
       "-----------------------------------------------------------------\n",
       "                    Coef.  Std.Err.    z    P>|z|   [0.025 0.975]\n",
       "-----------------------------------------------------------------\n",
       "hypertension        1.5372   0.2406  6.3877 0.0000  1.0655 2.0088\n",
       "heart_disease       2.0352   0.3719  5.4725 0.0000  1.3063 2.7641\n",
       "avg_glucose_level  -0.0019   0.0027 -0.7153 0.4744 -0.0071 0.0033\n",
       "bmi                -0.0077   0.0088 -0.8796 0.3791 -0.0249 0.0095\n",
       "=================================================================\n",
       "\n",
       "\"\"\""
      ]
     },
     "execution_count": 341,
     "metadata": {},
     "output_type": "execute_result"
    }
   ],
   "source": [
    "# hypertension + heart disease + avg glucose + bmi and stroke \n",
    "x = df_smp[['hypertension', 'heart_disease', 'avg_glucose_level', 'bmi']]\n",
    "y = df_smp['stroke']\n",
    "model = sm.Logit(y,x)\n",
    "results = model.fit(method='newton')\n",
    "results.summary2()"
   ]
  },
  {
   "cell_type": "code",
   "execution_count": 343,
   "metadata": {},
   "outputs": [
    {
     "data": {
      "image/png": "[encoded data removed]",
      "text/plain": [
       "<Figure size 576x576 with 1 Axes>"
      ]
     },
     "metadata": {
      "needs_background": "light"
     },
     "output_type": "display_data"
    }
   ],
   "source": [
    "cm = results.pred_table()\n",
    "\n",
    "fig, ax = plt.subplots(figsize=(8, 8))\n",
    "ax.imshow(cm)\n",
    "#ax.grid(False)\n",
    "ax.xaxis.set(ticks=(0, 1), ticklabels=('Predicted 0s', 'Predicted 1s'))\n",
    "ax.yaxis.set(ticks=(0, 1), ticklabels=('Actual 0s', 'Actual 1s'))\n",
    "ax.set_ylim(1.5, -0.5)\n",
    "for i in range(2):\n",
    "    for j in range(2):\n",
    "        ax.text(j, i, cm[i, j], ha='center', va='center', color='red')\n",
    "plt.show()\n",
    "fig.savefig('all in one')\n"
   ]
  },
  {
   "cell_type": "code",
   "execution_count": null,
   "metadata": {},
   "outputs": [],
   "source": []
  }
 ],
 "metadata": {
  "kernelspec": {
   "display_name": "Python 3",
   "language": "python",
   "name": "python3"
  },
  "language_info": {
   "codemirror_mode": {
    "name": "ipython",
    "version": 3
   },
   "file_extension": ".py",
   "mimetype": "text/x-python",
   "name": "python",
   "nbconvert_exporter": "python",
   "pygments_lexer": "ipython3",
   "version": "3.8.3"
  }
 },
 "nbformat": 4,
 "nbformat_minor": 4
}
