{
 "cells": [
  {
   "cell_type": "code",
   "execution_count": 2,
   "metadata": {},
   "outputs": [],
   "source": [
    "# In this project we attempt to check the normality of our variables using graphical and statistical methods \n",
    "\n",
    "import numpy as np \n",
    "import pandas as pd\n",
    "import matplotlib.pyplot as plt\n",
    "\n",
    "import scipy.stats as stats \n",
    "import pylab\n",
    "import seaborn as sns\n",
    "import random\n"
   ]
  },
  {
   "cell_type": "code",
   "execution_count": 3,
   "metadata": {},
   "outputs": [],
   "source": [
    "df = pd.read_csv('Stroke_data_cleaned.csv')"
   ]
  },
  {
   "cell_type": "code",
   "execution_count": 4,
   "metadata": {},
   "outputs": [
    {
     "data": {
      "text/html": [
       "<div>\n",
       "<style scoped>\n",
       "    .dataframe tbody tr th:only-of-type {\n",
       "        vertical-align: middle;\n",
       "    }\n",
       "\n",
       "    .dataframe tbody tr th {\n",
       "        vertical-align: top;\n",
       "    }\n",
       "\n",
       "    .dataframe thead th {\n",
       "        text-align: right;\n",
       "    }\n",
       "</style>\n",
       "<table border=\"1\" class=\"dataframe\">\n",
       "  <thead>\n",
       "    <tr style=\"text-align: right;\">\n",
       "      <th></th>\n",
       "      <th>Unnamed: 0</th>\n",
       "      <th>gender</th>\n",
       "      <th>age</th>\n",
       "      <th>hypertension</th>\n",
       "      <th>heart_disease</th>\n",
       "      <th>ever_married</th>\n",
       "      <th>work_type</th>\n",
       "      <th>Residence_type</th>\n",
       "      <th>avg_glucose_level</th>\n",
       "      <th>bmi</th>\n",
       "      <th>smoking_status</th>\n",
       "      <th>stroke</th>\n",
       "    </tr>\n",
       "  </thead>\n",
       "  <tbody>\n",
       "    <tr>\n",
       "      <th>0</th>\n",
       "      <td>0</td>\n",
       "      <td>Male</td>\n",
       "      <td>58.0</td>\n",
       "      <td>1.0</td>\n",
       "      <td>0.0</td>\n",
       "      <td>Yes</td>\n",
       "      <td>Private</td>\n",
       "      <td>Urban</td>\n",
       "      <td>87.96</td>\n",
       "      <td>39.2</td>\n",
       "      <td>never smoked</td>\n",
       "      <td>0.0</td>\n",
       "    </tr>\n",
       "    <tr>\n",
       "      <th>1</th>\n",
       "      <td>1</td>\n",
       "      <td>Female</td>\n",
       "      <td>70.0</td>\n",
       "      <td>0.0</td>\n",
       "      <td>0.0</td>\n",
       "      <td>Yes</td>\n",
       "      <td>Private</td>\n",
       "      <td>Rural</td>\n",
       "      <td>69.04</td>\n",
       "      <td>35.9</td>\n",
       "      <td>formerly smoked</td>\n",
       "      <td>0.0</td>\n",
       "    </tr>\n",
       "    <tr>\n",
       "      <th>2</th>\n",
       "      <td>2</td>\n",
       "      <td>Female</td>\n",
       "      <td>52.0</td>\n",
       "      <td>0.0</td>\n",
       "      <td>0.0</td>\n",
       "      <td>Yes</td>\n",
       "      <td>Private</td>\n",
       "      <td>Urban</td>\n",
       "      <td>77.59</td>\n",
       "      <td>17.7</td>\n",
       "      <td>formerly smoked</td>\n",
       "      <td>0.0</td>\n",
       "    </tr>\n",
       "    <tr>\n",
       "      <th>3</th>\n",
       "      <td>3</td>\n",
       "      <td>Female</td>\n",
       "      <td>75.0</td>\n",
       "      <td>0.0</td>\n",
       "      <td>1.0</td>\n",
       "      <td>Yes</td>\n",
       "      <td>Self-employed</td>\n",
       "      <td>Rural</td>\n",
       "      <td>243.53</td>\n",
       "      <td>27.0</td>\n",
       "      <td>never smoked</td>\n",
       "      <td>0.0</td>\n",
       "    </tr>\n",
       "    <tr>\n",
       "      <th>4</th>\n",
       "      <td>4</td>\n",
       "      <td>Female</td>\n",
       "      <td>32.0</td>\n",
       "      <td>0.0</td>\n",
       "      <td>0.0</td>\n",
       "      <td>Yes</td>\n",
       "      <td>Private</td>\n",
       "      <td>Rural</td>\n",
       "      <td>77.67</td>\n",
       "      <td>32.3</td>\n",
       "      <td>smokes</td>\n",
       "      <td>0.0</td>\n",
       "    </tr>\n",
       "    <tr>\n",
       "      <th>...</th>\n",
       "      <td>...</td>\n",
       "      <td>...</td>\n",
       "      <td>...</td>\n",
       "      <td>...</td>\n",
       "      <td>...</td>\n",
       "      <td>...</td>\n",
       "      <td>...</td>\n",
       "      <td>...</td>\n",
       "      <td>...</td>\n",
       "      <td>...</td>\n",
       "      <td>...</td>\n",
       "      <td>...</td>\n",
       "    </tr>\n",
       "    <tr>\n",
       "      <th>28911</th>\n",
       "      <td>29060</td>\n",
       "      <td>Female</td>\n",
       "      <td>10.0</td>\n",
       "      <td>0.0</td>\n",
       "      <td>0.0</td>\n",
       "      <td>No</td>\n",
       "      <td>children</td>\n",
       "      <td>Urban</td>\n",
       "      <td>58.64</td>\n",
       "      <td>20.4</td>\n",
       "      <td>never smoked</td>\n",
       "      <td>0.0</td>\n",
       "    </tr>\n",
       "    <tr>\n",
       "      <th>28912</th>\n",
       "      <td>29061</td>\n",
       "      <td>Female</td>\n",
       "      <td>56.0</td>\n",
       "      <td>0.0</td>\n",
       "      <td>0.0</td>\n",
       "      <td>Yes</td>\n",
       "      <td>Govt_job</td>\n",
       "      <td>Urban</td>\n",
       "      <td>213.61</td>\n",
       "      <td>55.4</td>\n",
       "      <td>formerly smoked</td>\n",
       "      <td>0.0</td>\n",
       "    </tr>\n",
       "    <tr>\n",
       "      <th>28913</th>\n",
       "      <td>29062</td>\n",
       "      <td>Female</td>\n",
       "      <td>82.0</td>\n",
       "      <td>1.0</td>\n",
       "      <td>0.0</td>\n",
       "      <td>Yes</td>\n",
       "      <td>Private</td>\n",
       "      <td>Urban</td>\n",
       "      <td>91.94</td>\n",
       "      <td>28.9</td>\n",
       "      <td>formerly smoked</td>\n",
       "      <td>0.0</td>\n",
       "    </tr>\n",
       "    <tr>\n",
       "      <th>28914</th>\n",
       "      <td>29063</td>\n",
       "      <td>Male</td>\n",
       "      <td>40.0</td>\n",
       "      <td>0.0</td>\n",
       "      <td>0.0</td>\n",
       "      <td>Yes</td>\n",
       "      <td>Private</td>\n",
       "      <td>Urban</td>\n",
       "      <td>99.16</td>\n",
       "      <td>33.2</td>\n",
       "      <td>never smoked</td>\n",
       "      <td>0.0</td>\n",
       "    </tr>\n",
       "    <tr>\n",
       "      <th>28915</th>\n",
       "      <td>29064</td>\n",
       "      <td>Female</td>\n",
       "      <td>82.0</td>\n",
       "      <td>0.0</td>\n",
       "      <td>0.0</td>\n",
       "      <td>Yes</td>\n",
       "      <td>Private</td>\n",
       "      <td>Urban</td>\n",
       "      <td>79.48</td>\n",
       "      <td>20.6</td>\n",
       "      <td>never smoked</td>\n",
       "      <td>0.0</td>\n",
       "    </tr>\n",
       "  </tbody>\n",
       "</table>\n",
       "<p>28916 rows × 12 columns</p>\n",
       "</div>"
      ],
      "text/plain": [
       "       Unnamed: 0  gender   age  hypertension  heart_disease ever_married  \\\n",
       "0               0    Male  58.0           1.0            0.0          Yes   \n",
       "1               1  Female  70.0           0.0            0.0          Yes   \n",
       "2               2  Female  52.0           0.0            0.0          Yes   \n",
       "3               3  Female  75.0           0.0            1.0          Yes   \n",
       "4               4  Female  32.0           0.0            0.0          Yes   \n",
       "...           ...     ...   ...           ...            ...          ...   \n",
       "28911       29060  Female  10.0           0.0            0.0           No   \n",
       "28912       29061  Female  56.0           0.0            0.0          Yes   \n",
       "28913       29062  Female  82.0           1.0            0.0          Yes   \n",
       "28914       29063    Male  40.0           0.0            0.0          Yes   \n",
       "28915       29064  Female  82.0           0.0            0.0          Yes   \n",
       "\n",
       "           work_type Residence_type  avg_glucose_level   bmi   smoking_status  \\\n",
       "0            Private          Urban              87.96  39.2     never smoked   \n",
       "1            Private          Rural              69.04  35.9  formerly smoked   \n",
       "2            Private          Urban              77.59  17.7  formerly smoked   \n",
       "3      Self-employed          Rural             243.53  27.0     never smoked   \n",
       "4            Private          Rural              77.67  32.3           smokes   \n",
       "...              ...            ...                ...   ...              ...   \n",
       "28911       children          Urban              58.64  20.4     never smoked   \n",
       "28912       Govt_job          Urban             213.61  55.4  formerly smoked   \n",
       "28913        Private          Urban              91.94  28.9  formerly smoked   \n",
       "28914        Private          Urban              99.16  33.2     never smoked   \n",
       "28915        Private          Urban              79.48  20.6     never smoked   \n",
       "\n",
       "       stroke  \n",
       "0         0.0  \n",
       "1         0.0  \n",
       "2         0.0  \n",
       "3         0.0  \n",
       "4         0.0  \n",
       "...       ...  \n",
       "28911     0.0  \n",
       "28912     0.0  \n",
       "28913     0.0  \n",
       "28914     0.0  \n",
       "28915     0.0  \n",
       "\n",
       "[28916 rows x 12 columns]"
      ]
     },
     "execution_count": 4,
     "metadata": {},
     "output_type": "execute_result"
    }
   ],
   "source": [
    "df"
   ]
  },
  {
   "cell_type": "code",
   "execution_count": 8,
   "metadata": {},
   "outputs": [
    {
     "name": "stdout",
     "output_type": "stream",
     "text": [
      "avg glucose level male z=0.878, p = 0.000\n",
      "\n"
     ]
    },
    {
     "data": {
      "image/png": "[encoded data removed]",
      "text/plain": [
       "<Figure size 360x360 with 1 Axes>"
      ]
     },
     "metadata": {
      "needs_background": "light"
     },
     "output_type": "display_data"
    }
   ],
   "source": [
    "df_glu_male_stroke = df.loc[(df['gender']=='Male') & (df['stroke']==1.0)].avg_glucose_level\n",
    "#print(df_glu_male_stroke)\n",
    "sns.displot(df_glu_male_stroke) \n",
    "from scipy.stats import shapiro\n",
    "result, p = shapiro(df_glu_male_stroke)\n",
    "print('avg glucose level male','z=%0.3f, p = %0.3f\\n' % (result, p))"
   ]
  },
  {
   "cell_type": "code",
   "execution_count": 10,
   "metadata": {},
   "outputs": [
    {
     "name": "stdout",
     "output_type": "stream",
     "text": [
      "female 104.58679027629216 91.57 0    73.0\n",
      "Name: avg_glucose_level, dtype: float64\n",
      "male 109.26076357110837 92.95 0    83.1\n",
      "Name: avg_glucose_level, dtype: float64\n"
     ]
    }
   ],
   "source": [
    "# checking if mean = median = mode\n",
    "\n",
    "print('female',df_female_glucose.mean(), df_female_glucose.median(), df_female_glucose.mode())\n",
    "print('male',df_male_glucose.mean(), df_male_glucose.median(), df_male_glucose.mode())"
   ]
  },
  {
   "cell_type": "code",
   "execution_count": 11,
   "metadata": {},
   "outputs": [
    {
     "name": "stdout",
     "output_type": "stream",
     "text": [
      "<class 'pandas.core.series.Series'>\n",
      "Int64Index: 11145 entries, 0 to 28914\n",
      "dtypes: float64(1)\n",
      "memory usage: 174.1 KB\n",
      "<class 'pandas.core.series.Series'>\n",
      "Int64Index: 17771 entries, 1 to 28915\n",
      "dtypes: float64(1)\n",
      "memory usage: 277.7 KB\n",
      "None None\n"
     ]
    }
   ],
   "source": [
    "print(df_male_glucose.info(0), df_female_glucose.info(0))"
   ]
  },
  {
   "cell_type": "code",
   "execution_count": 12,
   "metadata": {},
   "outputs": [],
   "source": [
    "df_male_glucose.name = 'avg glucose level - male'\n",
    "df_female_glucose.name = 'avg glucose level - female'"
   ]
  },
  {
   "cell_type": "code",
   "execution_count": 7,
   "metadata": {},
   "outputs": [
    {
     "name": "stderr",
     "output_type": "stream",
     "text": [
      "C:\\Users\\Aya\\.julia\\conda\\3\\lib\\site-packages\\seaborn\\_decorators.py:36: FutureWarning: Pass the following variable as a keyword arg: x. From version 0.12, the only valid positional argument will be `data`, and passing other arguments without an explicit keyword will result in an error or misinterpretation.\n",
      "  warnings.warn(\n",
      "C:\\Users\\Aya\\.julia\\conda\\3\\lib\\site-packages\\seaborn\\_decorators.py:36: FutureWarning: Pass the following variable as a keyword arg: x. From version 0.12, the only valid positional argument will be `data`, and passing other arguments without an explicit keyword will result in an error or misinterpretation.\n",
      "  warnings.warn(\n"
     ]
    },
    {
     "data": {
      "text/plain": [
       "<AxesSubplot:xlabel='avg glucose level - male'>"
      ]
     },
     "execution_count": 7,
     "metadata": {},
     "output_type": "execute_result"
    },
    {
     "data": {
      "image/png": "[encoded data removed]",
      "text/plain": [
       "<Figure size 1152x576 with 2 Axes>"
      ]
     },
     "metadata": {
      "needs_background": "light"
     },
     "output_type": "display_data"
    }
   ],
   "source": [
    "# checking using boxplot\n",
    "\n",
    "fig, axes = plt.subplots(1,2, figsize=(16,8))\n",
    "\n",
    "sns.boxplot(df_female_glucose, ax=axes[0])\n",
    "sns.boxplot(df_male_glucose,  ax=axes[1])"
   ]
  },
  {
   "cell_type": "code",
   "execution_count": 14,
   "metadata": {},
   "outputs": [
    {
     "data": {
      "text/plain": [
       "<seaborn.axisgrid.FacetGrid at 0x1435e388>"
      ]
     },
     "execution_count": 14,
     "metadata": {},
     "output_type": "execute_result"
    },
    {
     "data": {
      "image/png": "[encoded data removed]",
      "text/plain": [
       "<Figure size 360x360 with 1 Axes>"
      ]
     },
     "metadata": {
      "needs_background": "light"
     },
     "output_type": "display_data"
    }
   ],
   "source": [
    "# checking using histograms \n",
    "sns.displot(df_male_glucose) "
   ]
  },
  {
   "cell_type": "code",
   "execution_count": 15,
   "metadata": {},
   "outputs": [
    {
     "data": {
      "text/plain": [
       "<seaborn.axisgrid.FacetGrid at 0x1a1d4c0>"
      ]
     },
     "execution_count": 15,
     "metadata": {},
     "output_type": "execute_result"
    },
    {
     "data": {
      "image/png": "[encoded data removed]",
      "text/plain": [
       "<Figure size 360x360 with 1 Axes>"
      ]
     },
     "metadata": {
      "needs_background": "light"
     },
     "output_type": "display_data"
    }
   ],
   "source": [
    "sns.displot(df_female_glucose)"
   ]
  },
  {
   "cell_type": "code",
   "execution_count": 8,
   "metadata": {},
   "outputs": [
    {
     "data": {
      "text/plain": [
       "Text(0.5, 1.0, 'Q-Q plot for avg glucose level - male')"
      ]
     },
     "execution_count": 8,
     "metadata": {},
     "output_type": "execute_result"
    },
    {
     "data": {
      "image/png": "[encoded data removed]",
      "text/plain": [
       "<Figure size 432x288 with 1 Axes>"
      ]
     },
     "metadata": {
      "needs_background": "light"
     },
     "output_type": "display_data"
    }
   ],
   "source": [
    "#using Q-Q plot\n",
    "fig, ax = plt.subplots(figsize=(6, 4))\n",
    "fig = stats.probplot(df_male_glucose, dist=\"norm\", plot=plt)\n",
    "ax.set_title(\"Q-Q plot for avg glucose level - male\")"
   ]
  },
  {
   "cell_type": "code",
   "execution_count": 9,
   "metadata": {},
   "outputs": [
    {
     "data": {
      "text/plain": [
       "Text(0.5, 1.0, 'Q-Q plot for avg glucose level - female')"
      ]
     },
     "execution_count": 9,
     "metadata": {},
     "output_type": "execute_result"
    },
    {
     "data": {
      "image/png": "[encoded data removed]",
      "text/plain": [
       "<Figure size 432x288 with 1 Axes>"
      ]
     },
     "metadata": {
      "needs_background": "light"
     },
     "output_type": "display_data"
    }
   ],
   "source": [
    "fig, ax = plt.subplots(figsize=(6, 4))\n",
    "fig = stats.probplot(df_female_glucose, dist=\"norm\", plot=plt)\n",
    "ax.set_title(\"Q-Q plot for avg glucose level - female\")"
   ]
  },
  {
   "cell_type": "code",
   "execution_count": 31,
   "metadata": {},
   "outputs": [
    {
     "name": "stdout",
     "output_type": "stream",
     "text": [
      "avg glucose level female z=0.801, p = 0.000\n",
      "\n"
     ]
    }
   ],
   "source": [
    "## Statistical tests - Shapiro-Wilk \n",
    "from scipy.stats import shapiro\n",
    "result, p = shapiro(df_female_glucose)\n",
    "print('avg glucose level female','z=%0.3f, p = %0.3f\\n' % (result, p))"
   ]
  },
  {
   "cell_type": "code",
   "execution_count": 34,
   "metadata": {},
   "outputs": [
    {
     "name": "stdout",
     "output_type": "stream",
     "text": [
      "avg glucose level male z=0.811, p = 0.000\n",
      "\n"
     ]
    }
   ],
   "source": [
    "## Statistical tests - Shapiro-Wilk \n",
    "from scipy.stats import shapiro\n",
    "result, p = shapiro(df_male_glucose)\n",
    "print('avg glucose level male','z=%0.3f, p = %0.3f\\n' % (result, p))"
   ]
  },
  {
   "cell_type": "code",
   "execution_count": 35,
   "metadata": {},
   "outputs": [
    {
     "name": "stdout",
     "output_type": "stream",
     "text": [
      "avg glucose level female z=64.964, p = 0.000\n",
      "\n"
     ]
    }
   ],
   "source": [
    "## Statistical tests -  Skewness\n",
    "from scipy.stats import skewtest\n",
    "result, p = skewtest(df_female_glucose)\n",
    "print('avg glucose level female','z=%0.3f, p = %0.3f\\n' % (result, p))"
   ]
  },
  {
   "cell_type": "code",
   "execution_count": 36,
   "metadata": {},
   "outputs": [
    {
     "name": "stdout",
     "output_type": "stream",
     "text": [
      "avg glucose level male z=46.652, p = 0.000\n",
      "\n"
     ]
    }
   ],
   "source": [
    "## Statistical tests -  Skewness\n",
    "from scipy.stats import skewtest\n",
    "result, p = skewtest(df_male_glucose)\n",
    "print('avg glucose level male','z=%0.3f, p = %0.3f\\n' % (result, p))"
   ]
  },
  {
   "cell_type": "code",
   "execution_count": 37,
   "metadata": {},
   "outputs": [
    {
     "name": "stdout",
     "output_type": "stream",
     "text": [
      "avg glucose level female z=29.728, p = 0.000\n",
      "\n"
     ]
    }
   ],
   "source": [
    "## Statistical tests -  Skewness\n",
    "from scipy.stats import kurtosistest\n",
    "result, p = kurtosistest(df_female_glucose)\n",
    "print('avg glucose level female','z=%0.3f, p = %0.3f\\n' % (result, p))"
   ]
  },
  {
   "cell_type": "code",
   "execution_count": 38,
   "metadata": {},
   "outputs": [
    {
     "name": "stdout",
     "output_type": "stream",
     "text": [
      "avg glucose level male z=14.917, p = 0.000\n",
      "\n"
     ]
    }
   ],
   "source": [
    "## Statistical tests -  Skewness\n",
    "from scipy.stats import kurtosistest\n",
    "result, p = kurtosistest(df_male_glucose)\n",
    "print('avg glucose level male','z=%0.3f, p = %0.3f\\n' % (result, p))"
   ]
  },
  {
   "cell_type": "code",
   "execution_count": 55,
   "metadata": {},
   "outputs": [
    {
     "name": "stdout",
     "output_type": "stream",
     "text": [
      "avg glucose level male z=1.000, p = 0.000\n",
      "\n"
     ]
    }
   ],
   "source": [
    "##Statistical tests - Kolmogorov-Smirnov\n",
    "from scipy.stats import kstest\n",
    "result, p = kstest(df_male_glucose, \"norm\")\n",
    "print('avg glucose level male','z=%0.3f, p = %0.3f\\n' % (result, p))"
   ]
  },
  {
   "cell_type": "code",
   "execution_count": 39,
   "metadata": {},
   "outputs": [
    {
     "name": "stdout",
     "output_type": "stream",
     "text": [
      "avg glucose level female z=1.000, p = 0.000\n",
      "\n"
     ]
    }
   ],
   "source": [
    "##Statistical tests - Kolmogorov-Smirnov\n",
    "from scipy.stats import kstest\n",
    "result, p = kstest(df_female_glucose, \"norm\")\n",
    "print('avg glucose level female','z=%0.3f, p = %0.3f\\n' % (result, p))"
   ]
  },
  {
   "cell_type": "code",
   "execution_count": 73,
   "metadata": {},
   "outputs": [
    {
     "name": "stdout",
     "output_type": "stream",
     "text": [
      "avg glucose level male z=797.411\n",
      "\n",
      "[0.576 0.656 0.787 0.918 1.092]\n",
      "[15.  10.   5.   2.5  1. ]\n"
     ]
    }
   ],
   "source": [
    "## Statistical tests - Anderson-Darling\n",
    "from scipy.stats import anderson \n",
    "result = anderson(df_male_glucose)\n",
    "print('avg glucose level male','z=%0.3f\\n' % (result.statistic))\n",
    "print(result.critical_values)\n",
    "print(result.significance_level)"
   ]
  },
  {
   "cell_type": "code",
   "execution_count": 74,
   "metadata": {},
   "outputs": [
    {
     "name": "stdout",
     "output_type": "stream",
     "text": [
      "avg glucose level female z=1223.294\n",
      "\n",
      "[0.576 0.656 0.787 0.918 1.092]\n",
      "[15.  10.   5.   2.5  1. ]\n"
     ]
    }
   ],
   "source": [
    "## Statistical tests - Anderson-Darling\n",
    "from scipy.stats import anderson \n",
    "result = anderson(df_female_glucose)\n",
    "print('avg glucose level female','z=%0.3f\\n' % (result.statistic))\n",
    "print(result.critical_values)\n",
    "print(result.significance_level)"
   ]
  },
  {
   "cell_type": "code",
   "execution_count": 43,
   "metadata": {},
   "outputs": [],
   "source": [
    "##  removing outliers\n",
    "Q1 = df_male_glucose.quantile(0.25)\n",
    "Q3 = df_male_glucose.quantile(0.75)\n",
    "IQR = Q3 - Q1    #IQR is interquartile range. \n",
    "\n",
    "filter = (df_male_glucose >= Q1 - 1.5 * IQR) & (df_male_glucose <= Q3 + 1.5 *IQR)\n",
    "df_male_glucose_clean = df_male_glucose.loc[filter]\n",
    "\n",
    "Q1 = df_female_glucose.quantile(0.25)\n",
    "Q3 = df_female_glucose.quantile(0.75)\n",
    "IQR = Q3 - Q1    #IQR is interquartile range. \n",
    "\n",
    "filter = (df_female_glucose >= Q1 - 1.5 * IQR) & (df_female_glucose <= Q3 + 1.5 *IQR)\n",
    "df_female_glucose_clean = df_female_glucose.loc[filter]"
   ]
  },
  {
   "cell_type": "code",
   "execution_count": 48,
   "metadata": {},
   "outputs": [
    {
     "name": "stdout",
     "output_type": "stream",
     "text": [
      "female 90.98086679819215 88.11 0    73.0\n",
      "Name: avg glucose level - female, dtype: float64\n",
      "male 92.1464247621039 88.33 0    83.1\n",
      "Name: avg glucose level - male, dtype: float64\n"
     ]
    }
   ],
   "source": [
    "print('female',df_female_glucose_clean.mean(), df_female_glucose_clean.median(), df_female_glucose_clean.mode())\n",
    "print('male',df_male_glucose_clean.mean(), df_male_glucose_clean.median(), df_male_glucose_clean.mode())"
   ]
  },
  {
   "cell_type": "code",
   "execution_count": 44,
   "metadata": {},
   "outputs": [
    {
     "name": "stderr",
     "output_type": "stream",
     "text": [
      "C:\\Users\\Aya\\.julia\\conda\\3\\lib\\site-packages\\seaborn\\_decorators.py:36: FutureWarning: Pass the following variable as a keyword arg: x. From version 0.12, the only valid positional argument will be `data`, and passing other arguments without an explicit keyword will result in an error or misinterpretation.\n",
      "  warnings.warn(\n",
      "C:\\Users\\Aya\\.julia\\conda\\3\\lib\\site-packages\\seaborn\\_decorators.py:36: FutureWarning: Pass the following variable as a keyword arg: x. From version 0.12, the only valid positional argument will be `data`, and passing other arguments without an explicit keyword will result in an error or misinterpretation.\n",
      "  warnings.warn(\n"
     ]
    },
    {
     "data": {
      "text/plain": [
       "<AxesSubplot:xlabel='avg glucose level - male'>"
      ]
     },
     "execution_count": 44,
     "metadata": {},
     "output_type": "execute_result"
    },
    {
     "data": {
      "image/png": "[encoded data removed]",
      "text/plain": [
       "<Figure size 1152x576 with 2 Axes>"
      ]
     },
     "metadata": {
      "needs_background": "light"
     },
     "output_type": "display_data"
    }
   ],
   "source": [
    "fig, axes = plt.subplots(1,2, figsize=(16,8))\n",
    "\n",
    "sns.boxplot(df_female_glucose_clean, ax=axes[0])\n",
    "sns.boxplot(df_male_glucose_clean,  ax=axes[1])"
   ]
  },
  {
   "cell_type": "code",
   "execution_count": 45,
   "metadata": {},
   "outputs": [
    {
     "data": {
      "text/plain": [
       "<seaborn.axisgrid.FacetGrid at 0x14343e20>"
      ]
     },
     "execution_count": 45,
     "metadata": {},
     "output_type": "execute_result"
    },
    {
     "data": {
      "image/png": "[encoded data removed]",
      "text/plain": [
       "<Figure size 360x360 with 1 Axes>"
      ]
     },
     "metadata": {
      "needs_background": "light"
     },
     "output_type": "display_data"
    }
   ],
   "source": [
    "sns.displot(df_male_glucose_clean)"
   ]
  },
  {
   "cell_type": "code",
   "execution_count": 46,
   "metadata": {},
   "outputs": [
    {
     "data": {
      "text/plain": [
       "<seaborn.axisgrid.FacetGrid at 0x1a3fb50>"
      ]
     },
     "execution_count": 46,
     "metadata": {},
     "output_type": "execute_result"
    },
    {
     "data": {
      "image/png": "[encoded data removed]",
      "text/plain": [
       "<Figure size 360x360 with 1 Axes>"
      ]
     },
     "metadata": {
      "needs_background": "light"
     },
     "output_type": "display_data"
    }
   ],
   "source": [
    "sns.displot(df_female_glucose_clean)"
   ]
  },
  {
   "cell_type": "code",
   "execution_count": 49,
   "metadata": {},
   "outputs": [
    {
     "data": {
      "text/plain": [
       "Text(0.5, 1.0, 'Q-Q plot for avg glucose level - male')"
      ]
     },
     "execution_count": 49,
     "metadata": {},
     "output_type": "execute_result"
    },
    {
     "data": {
      "image/png": "[encoded data removed]",
      "text/plain": [
       "<Figure size 432x288 with 1 Axes>"
      ]
     },
     "metadata": {
      "needs_background": "light"
     },
     "output_type": "display_data"
    }
   ],
   "source": [
    "#using Q-Q plot\n",
    "fig, ax = plt.subplots(figsize=(6, 4))\n",
    "fig = stats.probplot(df_male_glucose_clean, dist=\"norm\", plot=plt)\n",
    "ax.set_title(\"Q-Q plot for avg glucose level - male\")"
   ]
  },
  {
   "cell_type": "code",
   "execution_count": 50,
   "metadata": {},
   "outputs": [
    {
     "data": {
      "text/plain": [
       "Text(0.5, 1.0, 'Q-Q plot for avg glucose level - female')"
      ]
     },
     "execution_count": 50,
     "metadata": {},
     "output_type": "execute_result"
    },
    {
     "data": {
      "image/png": "[encoded data removed]",
      "text/plain": [
       "<Figure size 432x288 with 1 Axes>"
      ]
     },
     "metadata": {
      "needs_background": "light"
     },
     "output_type": "display_data"
    }
   ],
   "source": [
    "#using Q-Q plot\n",
    "fig, ax = plt.subplots(figsize=(6, 4))\n",
    "fig = stats.probplot(df_female_glucose_clean, dist=\"norm\", plot=plt)\n",
    "ax.set_title(\"Q-Q plot for avg glucose level - female\")"
   ]
  },
  {
   "cell_type": "code",
   "execution_count": 53,
   "metadata": {},
   "outputs": [
    {
     "name": "stdout",
     "output_type": "stream",
     "text": [
      "avg glucose level male z=0.935, p = 0.000\n",
      "\n"
     ]
    }
   ],
   "source": [
    "## Statistical tests - Shapiro Wilk \n",
    "from scipy.stats import shapiro\n",
    "result, p = shapiro(df_male_glucose_clean)\n",
    "print('avg glucose level male','z=%0.3f, p = %0.3f\\n' % (result, p))"
   ]
  },
  {
   "cell_type": "code",
   "execution_count": 98,
   "metadata": {},
   "outputs": [
    {
     "name": "stdout",
     "output_type": "stream",
     "text": [
      "avg glucose level female z=0.960, p = 0.000\n",
      "\n"
     ]
    },
    {
     "name": "stderr",
     "output_type": "stream",
     "text": [
      "C:\\Users\\Aya\\.julia\\conda\\3\\lib\\site-packages\\scipy\\stats\\morestats.py:1760: UserWarning: p-value may not be accurate for N > 5000.\n",
      "  warnings.warn(\"p-value may not be accurate for N > 5000.\")\n"
     ]
    }
   ],
   "source": [
    "## Statistical tests - Shapiro Wilk \n",
    "from scipy.stats import shapiro\n",
    "result, p = shapiro(df_female_glucose_clean)\n",
    "print('avg glucose level female','z=%0.3f, p = %0.3f\\n' % (result, p))"
   ]
  },
  {
   "cell_type": "code",
   "execution_count": 56,
   "metadata": {},
   "outputs": [
    {
     "name": "stdout",
     "output_type": "stream",
     "text": [
      "avg glucose level female z=34.954, p = 0.000\n",
      "\n"
     ]
    }
   ],
   "source": [
    "## Statistical tests -  Skewness-Kurtosis\n",
    "from scipy.stats import skewtest\n",
    "result, p = skewtest(df_female_glucose_clean)\n",
    "print('avg glucose level female','z=%0.3f, p = %0.3f\\n' % (result, p))"
   ]
  },
  {
   "cell_type": "code",
   "execution_count": 55,
   "metadata": {},
   "outputs": [
    {
     "name": "stdout",
     "output_type": "stream",
     "text": [
      "avg glucose level male z=34.807, p = 0.000\n",
      "\n"
     ]
    }
   ],
   "source": [
    "## Statistical tests -  Skewness-Kurtosis\n",
    "from scipy.stats import skewtest\n",
    "result, p = skewtest(df_male_glucose_clean)\n",
    "print('avg glucose level male','z=%0.3f, p = %0.3f\\n' % (result, p))"
   ]
  },
  {
   "cell_type": "code",
   "execution_count": 57,
   "metadata": {},
   "outputs": [
    {
     "name": "stdout",
     "output_type": "stream",
     "text": [
      "avg glucose level female z=10.273, p = 0.000\n",
      "\n"
     ]
    }
   ],
   "source": [
    "## Statistical tests -  Skewness-Kurtosis\n",
    "from scipy.stats import kurtosistest\n",
    "result, p = kurtosistest(df_female_glucose_clean)\n",
    "print('avg glucose level female','z=%0.3f, p = %0.3f\\n' % (result, p))"
   ]
  },
  {
   "cell_type": "code",
   "execution_count": 59,
   "metadata": {},
   "outputs": [
    {
     "name": "stdout",
     "output_type": "stream",
     "text": [
      "avg glucose level male z=15.840, p = 0.000\n",
      "\n"
     ]
    }
   ],
   "source": [
    "## Statistical tests -  Skewness-Kurtosis\n",
    "from scipy.stats import kurtosistest\n",
    "result, p = kurtosistest(df_male_glucose_clean)\n",
    "print('avg glucose level male','z=%0.3f, p = %0.3f\\n' % (result, p))"
   ]
  },
  {
   "cell_type": "code",
   "execution_count": 60,
   "metadata": {},
   "outputs": [
    {
     "name": "stdout",
     "output_type": "stream",
     "text": [
      "avg glucose level female stats=1.000, p = 0.000\n",
      "\n"
     ]
    }
   ],
   "source": [
    "##Statistical tests - Kolmogorov-Smirnov\n",
    "from scipy.stats import kstest\n",
    "result, p = kstest(df_female_glucose_clean, \"norm\")\n",
    "print('avg glucose level female','stats=%0.3f, p = %0.3f\\n' % (result, p))"
   ]
  },
  {
   "cell_type": "code",
   "execution_count": 54,
   "metadata": {},
   "outputs": [
    {
     "ename": "NameError",
     "evalue": "name 'df_male_glucose_clean' is not defined",
     "output_type": "error",
     "traceback": [
      "\u001b[1;31m---------------------------------------------------------------------------\u001b[0m",
      "\u001b[1;31mNameError\u001b[0m                                 Traceback (most recent call last)",
      "\u001b[1;32m<ipython-input-54-b90f2ff08faa>\u001b[0m in \u001b[0;36m<module>\u001b[1;34m\u001b[0m\n\u001b[0;32m      1\u001b[0m \u001b[1;31m##Statistical tests - Kolmogorov-Smirnov\u001b[0m\u001b[1;33m\u001b[0m\u001b[1;33m\u001b[0m\u001b[1;33m\u001b[0m\u001b[0m\n\u001b[0;32m      2\u001b[0m \u001b[1;32mfrom\u001b[0m \u001b[0mscipy\u001b[0m\u001b[1;33m.\u001b[0m\u001b[0mstats\u001b[0m \u001b[1;32mimport\u001b[0m \u001b[0mkstest\u001b[0m\u001b[1;33m\u001b[0m\u001b[1;33m\u001b[0m\u001b[0m\n\u001b[1;32m----> 3\u001b[1;33m \u001b[0mresult\u001b[0m\u001b[1;33m,\u001b[0m \u001b[0mp\u001b[0m \u001b[1;33m=\u001b[0m \u001b[0mkstest\u001b[0m\u001b[1;33m(\u001b[0m\u001b[0mdf_male_glucose_clean\u001b[0m\u001b[1;33m,\u001b[0m \u001b[1;34m\"norm\"\u001b[0m\u001b[1;33m)\u001b[0m\u001b[1;33m\u001b[0m\u001b[1;33m\u001b[0m\u001b[0m\n\u001b[0m\u001b[0;32m      4\u001b[0m \u001b[0mprint\u001b[0m\u001b[1;33m(\u001b[0m\u001b[1;34m'avg glucose level male'\u001b[0m\u001b[1;33m,\u001b[0m\u001b[1;34m'z=%0.3f, p = %0.3f\\n'\u001b[0m \u001b[1;33m%\u001b[0m \u001b[1;33m(\u001b[0m\u001b[0mresult\u001b[0m\u001b[1;33m,\u001b[0m \u001b[0mp\u001b[0m\u001b[1;33m)\u001b[0m\u001b[1;33m)\u001b[0m\u001b[1;33m\u001b[0m\u001b[1;33m\u001b[0m\u001b[0m\n",
      "\u001b[1;31mNameError\u001b[0m: name 'df_male_glucose_clean' is not defined"
     ]
    }
   ],
   "source": [
    "##Statistical tests - Kolmogorov-Smirnov\n",
    "from scipy.stats import kstest\n",
    "result, p = kstest(df_male_glucose_clean, \"norm\")\n",
    "print('avg glucose level male','z=%0.3f, p = %0.3f\\n' % (result, p))"
   ]
  },
  {
   "cell_type": "code",
   "execution_count": 72,
   "metadata": {},
   "outputs": [
    {
     "name": "stdout",
     "output_type": "stream",
     "text": [
      "avg glucose level male z=134.843\n",
      "\n",
      "[0.576 0.656 0.787 0.918 1.092]\n",
      "[15.  10.   5.   2.5  1. ]\n"
     ]
    }
   ],
   "source": [
    "## Statistical tests - Anderson-Darling\n",
    "from scipy.stats import anderson \n",
    "result = anderson(df_male_glucose_clean)\n",
    "print('avg glucose level male','z=%0.3f\\n' % (result.statistic))\n",
    "print(result.critical_values)\n",
    "print(result.significance_level)"
   ]
  },
  {
   "cell_type": "code",
   "execution_count": 70,
   "metadata": {},
   "outputs": [
    {
     "name": "stdout",
     "output_type": "stream",
     "text": [
      "avg glucose level female z=125.964\n",
      "\n",
      "[0.576 0.656 0.787 0.918 1.092]\n",
      "[15.  10.   5.   2.5  1. ]\n"
     ]
    }
   ],
   "source": [
    "## Statistical tests - Anderson-Darling\n",
    "from scipy.stats import anderson \n",
    "result = anderson(df_female_glucose_clean)\n",
    "print('avg glucose level female','z=%0.3f\\n' % (result.statistic))\n",
    "print(result.critical_values)\n",
    "print(result.significance_level)"
   ]
  },
  {
   "cell_type": "code",
   "execution_count": 67,
   "metadata": {},
   "outputs": [
    {
     "data": {
      "text/plain": [
       "94.00617826780041"
      ]
     },
     "execution_count": 67,
     "metadata": {},
     "output_type": "execute_result"
    }
   ],
   "source": [
    "# checking for fasting glucose levels  \n",
    "df_male_glucose_fasting = df_male_glucose_clean.loc[(df_male_glucose_clean >= 70) & (df_male_glucose_clean <= 140)]\n",
    "df_male_glucose_fasting.mean()"
   ]
  },
  {
   "cell_type": "code",
   "execution_count": 71,
   "metadata": {},
   "outputs": [],
   "source": [
    "df_male_glucose_clean2 = df_male_glucose_clean.loc[(df_male_glucose_clean >= 70)]\n"
   ]
  },
  {
   "cell_type": "code",
   "execution_count": 68,
   "metadata": {},
   "outputs": [
    {
     "name": "stderr",
     "output_type": "stream",
     "text": [
      "C:\\Users\\Aya\\.julia\\conda\\3\\lib\\site-packages\\seaborn\\distributions.py:2619: FutureWarning: `distplot` is a deprecated function and will be removed in a future version. Please adapt your code to use either `displot` (a figure-level function with similar flexibility) or `histplot` (an axes-level function for histograms).\n",
      "  warnings.warn(msg, FutureWarning)\n"
     ]
    },
    {
     "data": {
      "text/plain": [
       "<AxesSubplot:xlabel='avg glucose level - male', ylabel='Density'>"
      ]
     },
     "execution_count": 68,
     "metadata": {},
     "output_type": "execute_result"
    },
    {
     "data": {
      "image/png": "[encoded data removed]",
      "text/plain": [
       "<Figure size 432x288 with 1 Axes>"
      ]
     },
     "metadata": {
      "needs_background": "light"
     },
     "output_type": "display_data"
    }
   ],
   "source": [
    "sns.distplot(df_male_glucose_fasting)"
   ]
  },
  {
   "cell_type": "code",
   "execution_count": 69,
   "metadata": {},
   "outputs": [
    {
     "name": "stderr",
     "output_type": "stream",
     "text": [
      "C:\\Users\\Aya\\.julia\\conda\\3\\lib\\site-packages\\seaborn\\distributions.py:2619: FutureWarning: `distplot` is a deprecated function and will be removed in a future version. Please adapt your code to use either `displot` (a figure-level function with similar flexibility) or `histplot` (an axes-level function for histograms).\n",
      "  warnings.warn(msg, FutureWarning)\n"
     ]
    },
    {
     "data": {
      "text/plain": [
       "<AxesSubplot:xlabel='avg glucose level - male', ylabel='Density'>"
      ]
     },
     "execution_count": 69,
     "metadata": {},
     "output_type": "execute_result"
    },
    {
     "data": {
      "image/png": "[encoded data removed]",
      "text/plain": [
       "<Figure size 432x288 with 1 Axes>"
      ]
     },
     "metadata": {
      "needs_background": "light"
     },
     "output_type": "display_data"
    }
   ],
   "source": [
    "sns.distplot(np.log(df_male_glucose_fasting))"
   ]
  },
  {
   "cell_type": "code",
   "execution_count": 72,
   "metadata": {},
   "outputs": [
    {
     "name": "stderr",
     "output_type": "stream",
     "text": [
      "C:\\Users\\Aya\\.julia\\conda\\3\\lib\\site-packages\\seaborn\\distributions.py:2619: FutureWarning: `distplot` is a deprecated function and will be removed in a future version. Please adapt your code to use either `displot` (a figure-level function with similar flexibility) or `histplot` (an axes-level function for histograms).\n",
      "  warnings.warn(msg, FutureWarning)\n"
     ]
    },
    {
     "data": {
      "text/plain": [
       "<AxesSubplot:xlabel='avg glucose level - male', ylabel='Density'>"
      ]
     },
     "execution_count": 72,
     "metadata": {},
     "output_type": "execute_result"
    },
    {
     "data": {
      "image/png": "[encoded data removed]",
      "text/plain": [
       "<Figure size 432x288 with 1 Axes>"
      ]
     },
     "metadata": {
      "needs_background": "light"
     },
     "output_type": "display_data"
    }
   ],
   "source": [
    "sns.distplot(np.log(df_male_glucose_clean2))"
   ]
  },
  {
   "cell_type": "code",
   "execution_count": 17,
   "metadata": {},
   "outputs": [],
   "source": [
    "df_male_bmi = df.loc[df['gender'] == 'Male'].bmi\n",
    "df_female_bmi = df.loc[df['gender'] == 'Female'].bmi"
   ]
  },
  {
   "cell_type": "code",
   "execution_count": 25,
   "metadata": {},
   "outputs": [
    {
     "name": "stdout",
     "output_type": "stream",
     "text": [
      "avg glucose level female stats=1.000, p = 0.000\n",
      "\n"
     ]
    }
   ],
   "source": [
    "from scipy.stats import kstest\n",
    "result, p = kstest(df_female_bmi, \"norm\")\n",
    "print('avg glucose level female','stats=%0.3f, p = %0.3f\\n' % (result, p))"
   ]
  },
  {
   "cell_type": "code",
   "execution_count": 86,
   "metadata": {},
   "outputs": [
    {
     "data": {
      "text/plain": [
       "47.5818752803948"
      ]
     },
     "execution_count": 86,
     "metadata": {},
     "output_type": "execute_result"
    }
   ],
   "source": [
    "df_male_glucose.loc[(df_male_glucose >= 80) & (df_male_glucose <= 120)].size/df_male_glucose.size * 100"
   ]
  },
  {
   "cell_type": "code",
   "execution_count": 84,
   "metadata": {},
   "outputs": [
    {
     "data": {
      "text/plain": [
       "11145"
      ]
     },
     "execution_count": 84,
     "metadata": {},
     "output_type": "execute_result"
    }
   ],
   "source": [
    "df_male_glucose.size"
   ]
  },
  {
   "cell_type": "code",
   "execution_count": 95,
   "metadata": {},
   "outputs": [],
   "source": [
    "df_male_glucose_sample = df_male_glucose_clean.sample(1000)"
   ]
  },
  {
   "cell_type": "code",
   "execution_count": 97,
   "metadata": {},
   "outputs": [
    {
     "name": "stderr",
     "output_type": "stream",
     "text": [
      "C:\\Users\\Aya\\.julia\\conda\\3\\lib\\site-packages\\seaborn\\distributions.py:2619: FutureWarning: `distplot` is a deprecated function and will be removed in a future version. Please adapt your code to use either `displot` (a figure-level function with similar flexibility) or `histplot` (an axes-level function for histograms).\n",
      "  warnings.warn(msg, FutureWarning)\n"
     ]
    },
    {
     "data": {
      "text/plain": [
       "<AxesSubplot:xlabel='avg glucose level - male', ylabel='Density'>"
      ]
     },
     "execution_count": 97,
     "metadata": {},
     "output_type": "execute_result"
    },
    {
     "data": {
      "image/png": "[encoded data removed]",
      "text/plain": [
       "<Figure size 432x288 with 1 Axes>"
      ]
     },
     "metadata": {
      "needs_background": "light"
     },
     "output_type": "display_data"
    }
   ],
   "source": [
    "sns.distplot(df_male_glucose_sample)"
   ]
  },
  {
   "cell_type": "code",
   "execution_count": 99,
   "metadata": {},
   "outputs": [
    {
     "name": "stdout",
     "output_type": "stream",
     "text": [
      "avg glucose level male z=0.941, p = 0.000\n",
      "\n"
     ]
    }
   ],
   "source": [
    "## Statistical tests - Shapiro Wilk \n",
    "from scipy.stats import shapiro\n",
    "result, p = shapiro(df_male_glucose_sample)\n",
    "print('avg glucose level male','z=%0.3f, p = %0.3f\\n' % (result, p))"
   ]
  },
  {
   "cell_type": "code",
   "execution_count": 36,
   "metadata": {},
   "outputs": [],
   "source": [
    "## Stratified Sampling \n",
    "df_male_glucose.size\n",
    "#df_male_glucose_fasting = df_male_glucose.loc[(df_male_glucose >= 80)]\n",
    "\n",
    "df_male_glucose1 = df_male_glucose.loc[(df_male_glucose <= 100)]\n",
    "df_male_glucose2 = df_male_glucose.loc[(df_male_glucose > 100) & (df_male_glucose <= 140) ]\n",
    "df_male_glucose3 = df_male_glucose.loc[(df_male_glucose > 140) ]"
   ]
  },
  {
   "cell_type": "code",
   "execution_count": 37,
   "metadata": {},
   "outputs": [],
   "source": [
    "#sns.histplot(df_male_glucose_fasting)"
   ]
  },
  {
   "cell_type": "code",
   "execution_count": 39,
   "metadata": {},
   "outputs": [
    {
     "data": {
      "text/plain": [
       "11145"
      ]
     },
     "execution_count": 39,
     "metadata": {},
     "output_type": "execute_result"
    }
   ],
   "source": [
    "df_male_glucose.size"
   ]
  },
  {
   "cell_type": "code",
   "execution_count": 45,
   "metadata": {},
   "outputs": [
    {
     "data": {
      "text/plain": [
       "0.5977568416330193"
      ]
     },
     "execution_count": 45,
     "metadata": {},
     "output_type": "execute_result"
    }
   ],
   "source": [
    "df_male_glucose1.size/df_male_glucose.size"
   ]
  },
  {
   "cell_type": "code",
   "execution_count": 44,
   "metadata": {},
   "outputs": [
    {
     "data": {
      "text/plain": [
       "0.21713772992373262"
      ]
     },
     "execution_count": 44,
     "metadata": {},
     "output_type": "execute_result"
    }
   ],
   "source": [
    "df_male_glucose2.size/df_male_glucose.size"
   ]
  },
  {
   "cell_type": "code",
   "execution_count": 43,
   "metadata": {},
   "outputs": [
    {
     "data": {
      "text/plain": [
       "0.1851054284432481"
      ]
     },
     "execution_count": 43,
     "metadata": {},
     "output_type": "execute_result"
    }
   ],
   "source": [
    "df_male_glucose3.size/df_male_glucose.size"
   ]
  },
  {
   "cell_type": "code",
   "execution_count": 48,
   "metadata": {},
   "outputs": [],
   "source": [
    "df_male_glucose1_sample = df_male_glucose1.sample(60)\n",
    "df_male_glucose2_sample = df_male_glucose2.sample(22)\n",
    "df_male_glucose3_sample = df_male_glucose3.sample(18)"
   ]
  },
  {
   "cell_type": "code",
   "execution_count": 49,
   "metadata": {},
   "outputs": [
    {
     "name": "stderr",
     "output_type": "stream",
     "text": [
      "<ipython-input-49-6cd003871ab0>:1: FutureWarning: The series.append method is deprecated and will be removed from pandas in a future version. Use pandas.concat instead.\n",
      "  df3 = df_male_glucose1_sample.append(df_male_glucose2_sample)\n",
      "<ipython-input-49-6cd003871ab0>:2: FutureWarning: The series.append method is deprecated and will be removed from pandas in a future version. Use pandas.concat instead.\n",
      "  df4 = df3.append(df_male_glucose3_sample)\n"
     ]
    }
   ],
   "source": [
    "df3 = df_male_glucose1_sample.append(df_male_glucose2_sample)\n",
    "df4 = df3.append(df_male_glucose3_sample)"
   ]
  },
  {
   "cell_type": "code",
   "execution_count": 51,
   "metadata": {},
   "outputs": [
    {
     "data": {
      "text/plain": [
       "<AxesSubplot:xlabel='avg glucose level - male', ylabel='Count'>"
      ]
     },
     "execution_count": 51,
     "metadata": {},
     "output_type": "execute_result"
    },
    {
     "data": {
      "image/png": "[encoded data removed]",
      "text/plain": [
       "<Figure size 432x288 with 1 Axes>"
      ]
     },
     "metadata": {
      "needs_background": "light"
     },
     "output_type": "display_data"
    }
   ],
   "source": [
    "sns.histplot(df4)"
   ]
  },
  {
   "cell_type": "code",
   "execution_count": 52,
   "metadata": {},
   "outputs": [
    {
     "data": {
      "text/plain": [
       "ShapiroResult(statistic=0.8200778961181641, pvalue=1.0757815749329325e-09)"
      ]
     },
     "execution_count": 52,
     "metadata": {},
     "output_type": "execute_result"
    }
   ],
   "source": [
    "shapiro(df4)"
   ]
  },
  {
   "cell_type": "code",
   "execution_count": 58,
   "metadata": {},
   "outputs": [
    {
     "data": {
      "text/plain": [
       "KstestResult(statistic=1.0, pvalue=0.0)"
      ]
     },
     "execution_count": 58,
     "metadata": {},
     "output_type": "execute_result"
    }
   ],
   "source": [
    "kstest(df4,\"norm\")"
   ]
  },
  {
   "cell_type": "code",
   "execution_count": null,
   "metadata": {},
   "outputs": [],
   "source": []
  }
 ],
 "metadata": {
  "kernelspec": {
   "display_name": "Python 3",
   "language": "python",
   "name": "python3"
  },
  "language_info": {
   "codemirror_mode": {
    "name": "ipython",
    "version": 3
   },
   "file_extension": ".py",
   "mimetype": "text/x-python",
   "name": "python",
   "nbconvert_exporter": "python",
   "pygments_lexer": "ipython3",
   "version": "3.7.7"
  }
 },
 "nbformat": 4,
 "nbformat_minor": 4
}
