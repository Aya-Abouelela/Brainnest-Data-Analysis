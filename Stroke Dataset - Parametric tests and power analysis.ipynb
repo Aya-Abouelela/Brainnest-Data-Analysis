{
 "cells": [
  {
   "cell_type": "code",
   "execution_count": 1,
   "metadata": {},
   "outputs": [],
   "source": [
    "import numpy as np \n",
    "import pandas as pd\n",
    "import matplotlib.pyplot as plt\n",
    "import scipy.stats as stats \n",
    "import pylab\n",
    "import seaborn as sns\n",
    "import random\n",
    "import statsmodels.stats.power as smp\n",
    "from statsmodels.stats.power import TTestIndPower\n",
    "from scipy.stats import ttest_1samp\n",
    "from scipy.stats import ttest_ind\n",
    "import statsmodels.api as sm\n",
    "from statsmodels.formula.api import ols\n",
    "import statsmodels.api as sm\n",
    "import pingouin as pg"
   ]
  },
  {
   "cell_type": "code",
   "execution_count": 2,
   "metadata": {},
   "outputs": [
    {
     "data": {
      "text/html": [
       "<div>\n",
       "<style scoped>\n",
       "    .dataframe tbody tr th:only-of-type {\n",
       "        vertical-align: middle;\n",
       "    }\n",
       "\n",
       "    .dataframe tbody tr th {\n",
       "        vertical-align: top;\n",
       "    }\n",
       "\n",
       "    .dataframe thead th {\n",
       "        text-align: right;\n",
       "    }\n",
       "</style>\n",
       "<table border=\"1\" class=\"dataframe\">\n",
       "  <thead>\n",
       "    <tr style=\"text-align: right;\">\n",
       "      <th></th>\n",
       "      <th>Unnamed: 0</th>\n",
       "      <th>gender</th>\n",
       "      <th>age</th>\n",
       "      <th>hypertension</th>\n",
       "      <th>heart_disease</th>\n",
       "      <th>ever_married</th>\n",
       "      <th>work_type</th>\n",
       "      <th>Residence_type</th>\n",
       "      <th>avg_glucose_level</th>\n",
       "      <th>bmi</th>\n",
       "      <th>smoking_status</th>\n",
       "      <th>stroke</th>\n",
       "    </tr>\n",
       "  </thead>\n",
       "  <tbody>\n",
       "    <tr>\n",
       "      <th>0</th>\n",
       "      <td>0</td>\n",
       "      <td>Male</td>\n",
       "      <td>58.0</td>\n",
       "      <td>1.0</td>\n",
       "      <td>0.0</td>\n",
       "      <td>Yes</td>\n",
       "      <td>Private</td>\n",
       "      <td>Urban</td>\n",
       "      <td>87.96</td>\n",
       "      <td>39.2</td>\n",
       "      <td>never smoked</td>\n",
       "      <td>0.0</td>\n",
       "    </tr>\n",
       "    <tr>\n",
       "      <th>1</th>\n",
       "      <td>1</td>\n",
       "      <td>Female</td>\n",
       "      <td>70.0</td>\n",
       "      <td>0.0</td>\n",
       "      <td>0.0</td>\n",
       "      <td>Yes</td>\n",
       "      <td>Private</td>\n",
       "      <td>Rural</td>\n",
       "      <td>69.04</td>\n",
       "      <td>35.9</td>\n",
       "      <td>formerly smoked</td>\n",
       "      <td>0.0</td>\n",
       "    </tr>\n",
       "    <tr>\n",
       "      <th>2</th>\n",
       "      <td>2</td>\n",
       "      <td>Female</td>\n",
       "      <td>52.0</td>\n",
       "      <td>0.0</td>\n",
       "      <td>0.0</td>\n",
       "      <td>Yes</td>\n",
       "      <td>Private</td>\n",
       "      <td>Urban</td>\n",
       "      <td>77.59</td>\n",
       "      <td>17.7</td>\n",
       "      <td>formerly smoked</td>\n",
       "      <td>0.0</td>\n",
       "    </tr>\n",
       "    <tr>\n",
       "      <th>3</th>\n",
       "      <td>3</td>\n",
       "      <td>Female</td>\n",
       "      <td>75.0</td>\n",
       "      <td>0.0</td>\n",
       "      <td>1.0</td>\n",
       "      <td>Yes</td>\n",
       "      <td>Self-employed</td>\n",
       "      <td>Rural</td>\n",
       "      <td>243.53</td>\n",
       "      <td>27.0</td>\n",
       "      <td>never smoked</td>\n",
       "      <td>0.0</td>\n",
       "    </tr>\n",
       "    <tr>\n",
       "      <th>4</th>\n",
       "      <td>4</td>\n",
       "      <td>Female</td>\n",
       "      <td>32.0</td>\n",
       "      <td>0.0</td>\n",
       "      <td>0.0</td>\n",
       "      <td>Yes</td>\n",
       "      <td>Private</td>\n",
       "      <td>Rural</td>\n",
       "      <td>77.67</td>\n",
       "      <td>32.3</td>\n",
       "      <td>smokes</td>\n",
       "      <td>0.0</td>\n",
       "    </tr>\n",
       "    <tr>\n",
       "      <th>...</th>\n",
       "      <td>...</td>\n",
       "      <td>...</td>\n",
       "      <td>...</td>\n",
       "      <td>...</td>\n",
       "      <td>...</td>\n",
       "      <td>...</td>\n",
       "      <td>...</td>\n",
       "      <td>...</td>\n",
       "      <td>...</td>\n",
       "      <td>...</td>\n",
       "      <td>...</td>\n",
       "      <td>...</td>\n",
       "    </tr>\n",
       "    <tr>\n",
       "      <th>28911</th>\n",
       "      <td>29060</td>\n",
       "      <td>Female</td>\n",
       "      <td>10.0</td>\n",
       "      <td>0.0</td>\n",
       "      <td>0.0</td>\n",
       "      <td>No</td>\n",
       "      <td>children</td>\n",
       "      <td>Urban</td>\n",
       "      <td>58.64</td>\n",
       "      <td>20.4</td>\n",
       "      <td>never smoked</td>\n",
       "      <td>0.0</td>\n",
       "    </tr>\n",
       "    <tr>\n",
       "      <th>28912</th>\n",
       "      <td>29061</td>\n",
       "      <td>Female</td>\n",
       "      <td>56.0</td>\n",
       "      <td>0.0</td>\n",
       "      <td>0.0</td>\n",
       "      <td>Yes</td>\n",
       "      <td>Govt_job</td>\n",
       "      <td>Urban</td>\n",
       "      <td>213.61</td>\n",
       "      <td>55.4</td>\n",
       "      <td>formerly smoked</td>\n",
       "      <td>0.0</td>\n",
       "    </tr>\n",
       "    <tr>\n",
       "      <th>28913</th>\n",
       "      <td>29062</td>\n",
       "      <td>Female</td>\n",
       "      <td>82.0</td>\n",
       "      <td>1.0</td>\n",
       "      <td>0.0</td>\n",
       "      <td>Yes</td>\n",
       "      <td>Private</td>\n",
       "      <td>Urban</td>\n",
       "      <td>91.94</td>\n",
       "      <td>28.9</td>\n",
       "      <td>formerly smoked</td>\n",
       "      <td>0.0</td>\n",
       "    </tr>\n",
       "    <tr>\n",
       "      <th>28914</th>\n",
       "      <td>29063</td>\n",
       "      <td>Male</td>\n",
       "      <td>40.0</td>\n",
       "      <td>0.0</td>\n",
       "      <td>0.0</td>\n",
       "      <td>Yes</td>\n",
       "      <td>Private</td>\n",
       "      <td>Urban</td>\n",
       "      <td>99.16</td>\n",
       "      <td>33.2</td>\n",
       "      <td>never smoked</td>\n",
       "      <td>0.0</td>\n",
       "    </tr>\n",
       "    <tr>\n",
       "      <th>28915</th>\n",
       "      <td>29064</td>\n",
       "      <td>Female</td>\n",
       "      <td>82.0</td>\n",
       "      <td>0.0</td>\n",
       "      <td>0.0</td>\n",
       "      <td>Yes</td>\n",
       "      <td>Private</td>\n",
       "      <td>Urban</td>\n",
       "      <td>79.48</td>\n",
       "      <td>20.6</td>\n",
       "      <td>never smoked</td>\n",
       "      <td>0.0</td>\n",
       "    </tr>\n",
       "  </tbody>\n",
       "</table>\n",
       "<p>28916 rows × 12 columns</p>\n",
       "</div>"
      ],
      "text/plain": [
       "       Unnamed: 0  gender   age  hypertension  heart_disease ever_married  \\\n",
       "0               0    Male  58.0           1.0            0.0          Yes   \n",
       "1               1  Female  70.0           0.0            0.0          Yes   \n",
       "2               2  Female  52.0           0.0            0.0          Yes   \n",
       "3               3  Female  75.0           0.0            1.0          Yes   \n",
       "4               4  Female  32.0           0.0            0.0          Yes   \n",
       "...           ...     ...   ...           ...            ...          ...   \n",
       "28911       29060  Female  10.0           0.0            0.0           No   \n",
       "28912       29061  Female  56.0           0.0            0.0          Yes   \n",
       "28913       29062  Female  82.0           1.0            0.0          Yes   \n",
       "28914       29063    Male  40.0           0.0            0.0          Yes   \n",
       "28915       29064  Female  82.0           0.0            0.0          Yes   \n",
       "\n",
       "           work_type Residence_type  avg_glucose_level   bmi   smoking_status  \\\n",
       "0            Private          Urban              87.96  39.2     never smoked   \n",
       "1            Private          Rural              69.04  35.9  formerly smoked   \n",
       "2            Private          Urban              77.59  17.7  formerly smoked   \n",
       "3      Self-employed          Rural             243.53  27.0     never smoked   \n",
       "4            Private          Rural              77.67  32.3           smokes   \n",
       "...              ...            ...                ...   ...              ...   \n",
       "28911       children          Urban              58.64  20.4     never smoked   \n",
       "28912       Govt_job          Urban             213.61  55.4  formerly smoked   \n",
       "28913        Private          Urban              91.94  28.9  formerly smoked   \n",
       "28914        Private          Urban              99.16  33.2     never smoked   \n",
       "28915        Private          Urban              79.48  20.6     never smoked   \n",
       "\n",
       "       stroke  \n",
       "0         0.0  \n",
       "1         0.0  \n",
       "2         0.0  \n",
       "3         0.0  \n",
       "4         0.0  \n",
       "...       ...  \n",
       "28911     0.0  \n",
       "28912     0.0  \n",
       "28913     0.0  \n",
       "28914     0.0  \n",
       "28915     0.0  \n",
       "\n",
       "[28916 rows x 12 columns]"
      ]
     },
     "execution_count": 2,
     "metadata": {},
     "output_type": "execute_result"
    }
   ],
   "source": [
    "df = pd.read_csv('Stroke_data_cleaned.csv')"
   ]
  },
  {
   "cell_type": "code",
   "execution_count": 67,
   "metadata": {},
   "outputs": [
    {
     "data": {
      "text/plain": [
       "Text(0.5, 0, 'chart of the average glucose levels in our sample')"
      ]
     },
     "execution_count": 67,
     "metadata": {},
     "output_type": "execute_result"
    },
    {
     "data": {
      "image/png": "[encoded data removed]",
      "text/plain": [
       "<Figure size 432x288 with 1 Axes>"
      ]
     },
     "metadata": {},
     "output_type": "display_data"
    }
   ],
   "source": [
    "x1 = df.loc[df['avg_glucose_level'] < 117] #normal\n",
    "x2 = df.loc[(df['avg_glucose_level'] >= 117) & (df['avg_glucose_level'] <= 137)] #prediabetic\n",
    "x3 = df.loc[df['avg_glucose_level'] > 137] #diabetic\n",
    "\n",
    "x = [x1.shape[0], x2.shape[0], x3.shape[0]]\n",
    "mylabels = [\"normal(<117 mg/dl)\", \"prediabetic(117-137 mg/dl)\", \"diabetic(>137 mg/dl)\"]\n",
    "plt.pie(x, labels = mylabels, autopct='%1.2f%%')\n",
    "plt.xlabel('chart of the average glucose levels in our sample' )"
   ]
  },
  {
   "cell_type": "code",
   "execution_count": 79,
   "metadata": {},
   "outputs": [
    {
     "name": "stdout",
     "output_type": "stream",
     "text": [
      "<class 'pandas.core.series.Series'>\n",
      "RangeIndex: 28916 entries, 0 to 28915\n",
      "Series name: avg_glucose_level\n",
      "Non-Null Count  Dtype  \n",
      "--------------  -----  \n",
      "28916 non-null  float64\n",
      "dtypes: float64(1)\n",
      "memory usage: 226.0 KB\n"
     ]
    }
   ],
   "source": [
    "df['avg_glucose_level'].info()"
   ]
  },
  {
   "cell_type": "code",
   "execution_count": 121,
   "metadata": {},
   "outputs": [
    {
     "name": "stdout",
     "output_type": "stream",
     "text": [
      "one sample t test statistic=-72.803, p-value = 0.000\n",
      "\n"
     ]
    }
   ],
   "source": [
    "df_sample = df['avg_glucose_level'].sample(28000)\n",
    "statistic, p = ttest_1samp(df_sample, 126)\n",
    "print('one sample t test','statistic=%0.3f, p-value = %0.3f\\n' % (statistic, p))"
   ]
  },
  {
   "cell_type": "code",
   "execution_count": 122,
   "metadata": {},
   "outputs": [
    {
     "data": {
      "text/plain": [
       "0.4350814160324605"
      ]
     },
     "execution_count": 122,
     "metadata": {},
     "output_type": "execute_result"
    }
   ],
   "source": [
    "m1 = df_sample.mean()\n",
    "m2 = 126\n",
    "s = df_sample.std()\n",
    "ef = abs(m1-m2)/s\n",
    "ef"
   ]
  },
  {
   "cell_type": "code",
   "execution_count": 123,
   "metadata": {},
   "outputs": [
    {
     "name": "stdout",
     "output_type": "stream",
     "text": [
      "one sample t test power = 0.269\n",
      "\n"
     ]
    }
   ],
   "source": [
    "power_analysis = smp.TTestIndPower()\n",
    "\n",
    "p = power_analysis.solve_power(effect_size = ef, nobs1 = 20, alpha = 0.05)\n",
    "print('one sample t test','power = %0.3f\\n' % (p))"
   ]
  },
  {
   "cell_type": "code",
   "execution_count": 316,
   "metadata": {},
   "outputs": [
    {
     "data": {
      "text/plain": [
       "Ttest_indResult(statistic=0.531557057391385, pvalue=0.5950369146264631)"
      ]
     },
     "execution_count": 316,
     "metadata": {},
     "output_type": "execute_result"
    }
   ],
   "source": [
    "df_rural = df.loc[df['Residence_type'] == 'Rural'].avg_glucose_level\n",
    "df_urban = df.loc[df['Residence_type'] == 'Urban'].avg_glucose_level.sample(df_rural.size)\n",
    "\n",
    "ttest_ind(df_rural, df_urban)"
   ]
  },
  {
   "cell_type": "code",
   "execution_count": 317,
   "metadata": {},
   "outputs": [
    {
     "name": "stdout",
     "output_type": "stream",
     "text": [
      "0.006265547860999544\n"
     ]
    }
   ],
   "source": [
    "n1, n2 = df_urban.size, df_rural.size\n",
    "s1, s2 = np.std(df_urban), np.std(df_rural)\n",
    "v1, v2 = s1**2, s2**2\n",
    "s = np.sqrt(((n1 - 1) * v1 + (n2 - 1) * v2) / (n1 + n2 - 2))\n",
    "m1, m2 =  df_urban.mean(),  df_rural.mean()\n",
    "d = print(np.abs((m1-m2)/s))"
   ]
  },
  {
   "cell_type": "code",
   "execution_count": 318,
   "metadata": {},
   "outputs": [
    {
     "data": {
      "text/plain": [
       "<matplotlib.legend.Legend at 0x1b1edf88>"
      ]
     },
     "execution_count": 318,
     "metadata": {},
     "output_type": "execute_result"
    },
    {
     "data": {
      "image/png": "[encoded data removed]",
      "text/plain": [
       "<Figure size 936x576 with 1 Axes>"
      ]
     },
     "metadata": {},
     "output_type": "display_data"
    }
   ],
   "source": [
    "sns.set()\n",
    "sns.histplot(data=df_urban, color=\"blue\", label=\"Urban\")\n",
    "sns.histplot(data=df_rural, color=\"red\", label=\"Rural\")\n",
    "plt.legend()"
   ]
  },
  {
   "cell_type": "code",
   "execution_count": 320,
   "metadata": {},
   "outputs": [
    {
     "data": {
      "text/plain": [
       "0.07492497590773514"
      ]
     },
     "execution_count": 320,
     "metadata": {},
     "output_type": "execute_result"
    }
   ],
   "source": [
    "power_analysis = smp.TTestIndPower()\n",
    "power_analysis.solve_power(effect_size = 0.005460307316093725, nobs1 = df_urban.size, alpha = 0.05)"
   ]
  },
  {
   "cell_type": "code",
   "execution_count": 322,
   "metadata": {},
   "outputs": [
    {
     "data": {
      "text/plain": [
       "0.3501092688961499"
      ]
     },
     "execution_count": 322,
     "metadata": {},
     "output_type": "execute_result"
    }
   ],
   "source": [
    "power_analysis = smp.TTestIndPower()\n",
    "power_analysis.solve_power(effect_size = 0.005460307316093725, nobs1 = df_urban.size, alpha = 0.3)"
   ]
  },
  {
   "cell_type": "code",
   "execution_count": 48,
   "metadata": {},
   "outputs": [
    {
     "data": {
      "text/plain": [
       "Ttest_indResult(statistic=2.9681133468152816, pvalue=0.0029995228273733687)"
      ]
     },
     "execution_count": 48,
     "metadata": {},
     "output_type": "execute_result"
    }
   ],
   "source": [
    "#independant t-test\n",
    "# there is a difference in mean bmi between men and women, H1 accepted\n",
    "df_male_bmi = df.loc[df['gender'] == 'Male'].bmi\n",
    "df_female_bmi = df.loc[df['gender'] == 'Female'].bmi.sample(11145)\n",
    "\n",
    "ttest_ind(df_male_bmi,df_female_bmi)"
   ]
  },
  {
   "cell_type": "code",
   "execution_count": 32,
   "metadata": {},
   "outputs": [
    {
     "data": {
      "text/plain": [
       "Ttest_indResult(statistic=0.3875381819800312, pvalue=0.6991982343470753)"
      ]
     },
     "execution_count": 32,
     "metadata": {},
     "output_type": "execute_result"
    }
   ],
   "source": [
    "#independant t-test\n",
    "#there is no statisitcal difference between mean bmi between men and women, H0 accepted\n",
    "df_male_bmi = df.loc[df['gender'] == 'Male'].bmi.sample(50)\n",
    "df_female_bmi = df.loc[df['gender'] == 'Female'].bmi.sample(50)\n",
    "\n",
    "ttest_ind(df_male_bmi,df_female_bmi)"
   ]
  },
  {
   "cell_type": "code",
   "execution_count": 134,
   "metadata": {},
   "outputs": [],
   "source": [
    "# calculating effect size using Cohen's d\n",
    "df_male_bmi = df.loc[df['gender'] == 'Male'].bmi.sample(445)\n",
    "df_female_bmi = df.loc[df['gender'] == 'Female'].bmi.sample(445)"
   ]
  },
  {
   "cell_type": "code",
   "execution_count": 135,
   "metadata": {},
   "outputs": [
    {
     "name": "stdout",
     "output_type": "stream",
     "text": [
      "0.15982128710067434\n"
     ]
    }
   ],
   "source": [
    "n1, n2 = df_male_bmi.size, df_female_bmi.size\n",
    "s1, s2 = np.std(df_male_bmi), np.std(df_female_bmi)\n",
    "v1, v2 = s1**2, s2**2\n",
    "s = np.sqrt(((n1 - 1) * v1 + (n2 - 1) * v2) / (n1 + n2 - 2))\n",
    "m1, m2 =  df_male_bmi.mean(),  df_female_bmi.mean()\n",
    "d = print(np.abs((m1-m2)/s))"
   ]
  },
  {
   "cell_type": "code",
   "execution_count": 20,
   "metadata": {},
   "outputs": [],
   "source": [
    "## calculating the power\n",
    "\n",
    "power_analysis = smp.TTestIndPower()\n",
    "\n",
    "p = power_analysis.solve_power(effect_size = 0.159, nobs1 = 445, alpha = 0.05)\n",
    "sample_size = power_analysis.solve_power(effect_size = 0.18, power = 0.8, alpha = 0.05)"
   ]
  },
  {
   "cell_type": "code",
   "execution_count": 242,
   "metadata": {},
   "outputs": [],
   "source": [
    "## Anova one way \n",
    "\n",
    "#the avergae glucose level for all job types is equal\n",
    "df_govt = df.loc[df['work_type'] == 'Govt_job']\n",
    "df_private = df.loc[df['work_type'] == 'Private'].sample(df_govt.shape[0])\n",
    "df_self = df.loc[df['work_type'] == 'Self-employed'].sample(df_govt.shape[0])"
   ]
  },
  {
   "cell_type": "code",
   "execution_count": 243,
   "metadata": {},
   "outputs": [
    {
     "name": "stderr",
     "output_type": "stream",
     "text": [
      "<ipython-input-243-52b70c6fe7d5>:1: FutureWarning: The frame.append method is deprecated and will be removed from pandas in a future version. Use pandas.concat instead.\n",
      "  df_sample1 = df_govt.append(df_private,ignore_index=True)\n",
      "<ipython-input-243-52b70c6fe7d5>:2: FutureWarning: The frame.append method is deprecated and will be removed from pandas in a future version. Use pandas.concat instead.\n",
      "  df_sample = df_sample1.append(df_self,ignore_index=True)\n"
     ]
    }
   ],
   "source": [
    "df_sample1 = df_govt.append(df_private,ignore_index=True)\n",
    "df_sample = df_sample1.append(df_self,ignore_index=True)"
   ]
  },
  {
   "cell_type": "code",
   "execution_count": 276,
   "metadata": {},
   "outputs": [
    {
     "name": "stdout",
     "output_type": "stream",
     "text": [
      "          A              B     mean(A)     mean(B)      diff        se  \\\n",
      "0  Govt_job        Private  107.060897  105.002986  2.057911  1.025068   \n",
      "1  Govt_job  Self-employed  107.060897  112.632405 -5.571508  1.025068   \n",
      "2   Private  Self-employed  105.002986  112.632405 -7.629419  1.025068   \n",
      "\n",
      "          T       p-tukey  eta-square  \n",
      "0  2.007586  1.103899e-01    0.000530  \n",
      "1 -5.435258  1.670064e-07    0.003281  \n",
      "2 -7.442844  0.000000e+00    0.006481  \n"
     ]
    }
   ],
   "source": [
    "model = ols('avg_glucose_level ~ (work_type)', data=df_sample).fit()\n",
    "sm.stats.anova_lm(model, typ=2)\n",
    "pt = print(pg.pairwise_tukey(dv='avg_glucose_level', between='work_type', effsize ='eta-square', data= df_sample))"
   ]
  },
  {
   "cell_type": "code",
   "execution_count": 306,
   "metadata": {},
   "outputs": [
    {
     "data": {
      "text/html": [
       "<div>\n",
       "<style scoped>\n",
       "    .dataframe tbody tr th:only-of-type {\n",
       "        vertical-align: middle;\n",
       "    }\n",
       "\n",
       "    .dataframe tbody tr th {\n",
       "        vertical-align: top;\n",
       "    }\n",
       "\n",
       "    .dataframe thead th {\n",
       "        text-align: right;\n",
       "    }\n",
       "</style>\n",
       "<table border=\"1\" class=\"dataframe\">\n",
       "  <thead>\n",
       "    <tr style=\"text-align: right;\">\n",
       "      <th></th>\n",
       "      <th>Source</th>\n",
       "      <th>SS</th>\n",
       "      <th>DF</th>\n",
       "      <th>MS</th>\n",
       "      <th>F</th>\n",
       "      <th>p-unc</th>\n",
       "      <th>np2</th>\n",
       "      <th>power</th>\n",
       "    </tr>\n",
       "  </thead>\n",
       "  <tbody>\n",
       "    <tr>\n",
       "      <th>0</th>\n",
       "      <td>work_type</td>\n",
       "      <td>1.302242e+05</td>\n",
       "      <td>2</td>\n",
       "      <td>65112.108058</td>\n",
       "      <td>29.656121</td>\n",
       "      <td>1.415429e-13</td>\n",
       "      <td>0.00471</td>\n",
       "      <td>0.057017</td>\n",
       "    </tr>\n",
       "    <tr>\n",
       "      <th>1</th>\n",
       "      <td>Within</td>\n",
       "      <td>2.751928e+07</td>\n",
       "      <td>12534</td>\n",
       "      <td>2195.570640</td>\n",
       "      <td>NaN</td>\n",
       "      <td>NaN</td>\n",
       "      <td>NaN</td>\n",
       "      <td>NaN</td>\n",
       "    </tr>\n",
       "  </tbody>\n",
       "</table>\n",
       "</div>"
      ],
      "text/plain": [
       "      Source            SS     DF            MS          F         p-unc  \\\n",
       "0  work_type  1.302242e+05      2  65112.108058  29.656121  1.415429e-13   \n",
       "1     Within  2.751928e+07  12534   2195.570640        NaN           NaN   \n",
       "\n",
       "       np2     power  \n",
       "0  0.00471  0.057017  \n",
       "1      NaN       NaN  "
      ]
     },
     "execution_count": 306,
     "metadata": {},
     "output_type": "execute_result"
    }
   ],
   "source": [
    "#calculating effect size for one way anova \n",
    "\n",
    "#effect size f = sqrt(eta^2/(1-eta^2))\n",
    "\n",
    "aov = pg.anova(dv = 'avg_glucose_level', between='work_type', data=df_sample, detailed =True)\n",
    "aov['power'] = [p, 'NaN']\n",
    "aov"
   ]
  },
  {
   "cell_type": "code",
   "execution_count": 250,
   "metadata": {},
   "outputs": [
    {
     "data": {
      "text/plain": [
       "F_onewayResult(statistic=29.65612076843996, pvalue=1.415429253578426e-13)"
      ]
     },
     "execution_count": 250,
     "metadata": {},
     "output_type": "execute_result"
    }
   ],
   "source": [
    "stats.f_oneway(df_private.avg_glucose_level, df_self.avg_glucose_level, df_govt.avg_glucose_level)\n"
   ]
  },
  {
   "cell_type": "code",
   "execution_count": 251,
   "metadata": {},
   "outputs": [],
   "source": [
    "# calculating  power for one way anova \n",
    "\n",
    "power_analysis = smp.FTestAnovaPower()\n",
    "p = power_analysis.solve_power(effect_size=0.2, nobs=10,  alpha=0.05, power=None, k_groups=3)"
   ]
  },
  {
   "cell_type": "code",
   "execution_count": 283,
   "metadata": {},
   "outputs": [
    {
     "data": {
      "image/png": "[encoded data removed]",
      "text/plain": [
       "<Figure size 864x576 with 1 Axes>"
      ]
     },
     "metadata": {},
     "output_type": "display_data"
    }
   ],
   "source": [
    "sns.set()\n",
    "sns.histplot(data=df_private.avg_glucose_level, color=\"blue\", label=\"Private\")\n",
    "sns.histplot(data=df_self.avg_glucose_level, color=\"red\", label=\"Self-employed\")\n",
    "sns.histplot(data=df_govt.avg_glucose_level, color=\"yellow\", label=\"Govt job\")\n",
    "plt.legend()\n",
    "sns.set(rc={'figure.figsize':(13,8)})"
   ]
  },
  {
   "cell_type": "code",
   "execution_count": 286,
   "metadata": {},
   "outputs": [
    {
     "data": {
      "text/plain": [
       "Text(0.5, 0, 'Gender distribution in our sample')"
      ]
     },
     "execution_count": 286,
     "metadata": {},
     "output_type": "execute_result"
    },
    {
     "data": {
      "image/png": "[encoded data removed]",
      "text/plain": [
       "<Figure size 936x576 with 1 Axes>"
      ]
     },
     "metadata": {},
     "output_type": "display_data"
    }
   ],
   "source": [
    "#Two way anova \n",
    "x = df_sample.gender.value_counts()\n",
    "mylabels = [\"female\", \"male\"]\n",
    "plt.pie(x, labels = mylabels, autopct='%1.2f%%')\n",
    "plt.xlabel('Gender distribution in our sample')\n"
   ]
  },
  {
   "cell_type": "code",
   "execution_count": 288,
   "metadata": {},
   "outputs": [],
   "source": [
    "df_sample_male = df_sample.loc[df_sample['gender'] == 'Male']\n",
    "df_sample_female = df_sample.loc[df_sample['gender'] == 'Female'].sample(df_sample_male.shape[0])"
   ]
  },
  {
   "cell_type": "code",
   "execution_count": 293,
   "metadata": {},
   "outputs": [
    {
     "name": "stderr",
     "output_type": "stream",
     "text": [
      "<ipython-input-293-0455db355a88>:3: FutureWarning: The frame.append method is deprecated and will be removed from pandas in a future version. Use pandas.concat instead.\n",
      "  df_sample2 = df_sample_male.append(df_sample_female, ignore_index=True)\n"
     ]
    },
    {
     "data": {
      "text/html": [
       "<div>\n",
       "<style scoped>\n",
       "    .dataframe tbody tr th:only-of-type {\n",
       "        vertical-align: middle;\n",
       "    }\n",
       "\n",
       "    .dataframe tbody tr th {\n",
       "        vertical-align: top;\n",
       "    }\n",
       "\n",
       "    .dataframe thead th {\n",
       "        text-align: right;\n",
       "    }\n",
       "</style>\n",
       "<table border=\"1\" class=\"dataframe\">\n",
       "  <thead>\n",
       "    <tr style=\"text-align: right;\">\n",
       "      <th></th>\n",
       "      <th>Unnamed: 0</th>\n",
       "      <th>gender</th>\n",
       "      <th>age</th>\n",
       "      <th>hypertension</th>\n",
       "      <th>heart_disease</th>\n",
       "      <th>ever_married</th>\n",
       "      <th>work_type</th>\n",
       "      <th>Residence_type</th>\n",
       "      <th>avg_glucose_level</th>\n",
       "      <th>bmi</th>\n",
       "      <th>smoking_status</th>\n",
       "      <th>stroke</th>\n",
       "    </tr>\n",
       "  </thead>\n",
       "  <tbody>\n",
       "    <tr>\n",
       "      <th>0</th>\n",
       "      <td>31</td>\n",
       "      <td>Male</td>\n",
       "      <td>58.0</td>\n",
       "      <td>1.0</td>\n",
       "      <td>0.0</td>\n",
       "      <td>Yes</td>\n",
       "      <td>Govt_job</td>\n",
       "      <td>Rural</td>\n",
       "      <td>56.96</td>\n",
       "      <td>26.8</td>\n",
       "      <td>smokes</td>\n",
       "      <td>0.0</td>\n",
       "    </tr>\n",
       "    <tr>\n",
       "      <th>1</th>\n",
       "      <td>48</td>\n",
       "      <td>Male</td>\n",
       "      <td>27.0</td>\n",
       "      <td>0.0</td>\n",
       "      <td>0.0</td>\n",
       "      <td>No</td>\n",
       "      <td>Govt_job</td>\n",
       "      <td>Urban</td>\n",
       "      <td>95.10</td>\n",
       "      <td>24.3</td>\n",
       "      <td>formerly smoked</td>\n",
       "      <td>0.0</td>\n",
       "    </tr>\n",
       "    <tr>\n",
       "      <th>2</th>\n",
       "      <td>62</td>\n",
       "      <td>Male</td>\n",
       "      <td>64.0</td>\n",
       "      <td>0.0</td>\n",
       "      <td>0.0</td>\n",
       "      <td>Yes</td>\n",
       "      <td>Govt_job</td>\n",
       "      <td>Urban</td>\n",
       "      <td>239.64</td>\n",
       "      <td>34.6</td>\n",
       "      <td>formerly smoked</td>\n",
       "      <td>0.0</td>\n",
       "    </tr>\n",
       "    <tr>\n",
       "      <th>3</th>\n",
       "      <td>90</td>\n",
       "      <td>Male</td>\n",
       "      <td>56.0</td>\n",
       "      <td>0.0</td>\n",
       "      <td>0.0</td>\n",
       "      <td>Yes</td>\n",
       "      <td>Govt_job</td>\n",
       "      <td>Rural</td>\n",
       "      <td>73.02</td>\n",
       "      <td>31.1</td>\n",
       "      <td>never smoked</td>\n",
       "      <td>0.0</td>\n",
       "    </tr>\n",
       "    <tr>\n",
       "      <th>4</th>\n",
       "      <td>93</td>\n",
       "      <td>Male</td>\n",
       "      <td>53.0</td>\n",
       "      <td>1.0</td>\n",
       "      <td>1.0</td>\n",
       "      <td>Yes</td>\n",
       "      <td>Govt_job</td>\n",
       "      <td>Rural</td>\n",
       "      <td>109.51</td>\n",
       "      <td>41.9</td>\n",
       "      <td>never smoked</td>\n",
       "      <td>0.0</td>\n",
       "    </tr>\n",
       "    <tr>\n",
       "      <th>...</th>\n",
       "      <td>...</td>\n",
       "      <td>...</td>\n",
       "      <td>...</td>\n",
       "      <td>...</td>\n",
       "      <td>...</td>\n",
       "      <td>...</td>\n",
       "      <td>...</td>\n",
       "      <td>...</td>\n",
       "      <td>...</td>\n",
       "      <td>...</td>\n",
       "      <td>...</td>\n",
       "      <td>...</td>\n",
       "    </tr>\n",
       "    <tr>\n",
       "      <th>9707</th>\n",
       "      <td>4477</td>\n",
       "      <td>Female</td>\n",
       "      <td>38.0</td>\n",
       "      <td>0.0</td>\n",
       "      <td>0.0</td>\n",
       "      <td>No</td>\n",
       "      <td>Govt_job</td>\n",
       "      <td>Rural</td>\n",
       "      <td>122.71</td>\n",
       "      <td>50.5</td>\n",
       "      <td>formerly smoked</td>\n",
       "      <td>0.0</td>\n",
       "    </tr>\n",
       "    <tr>\n",
       "      <th>9708</th>\n",
       "      <td>25500</td>\n",
       "      <td>Female</td>\n",
       "      <td>76.0</td>\n",
       "      <td>0.0</td>\n",
       "      <td>0.0</td>\n",
       "      <td>Yes</td>\n",
       "      <td>Private</td>\n",
       "      <td>Rural</td>\n",
       "      <td>143.22</td>\n",
       "      <td>24.4</td>\n",
       "      <td>smokes</td>\n",
       "      <td>0.0</td>\n",
       "    </tr>\n",
       "    <tr>\n",
       "      <th>9709</th>\n",
       "      <td>25998</td>\n",
       "      <td>Female</td>\n",
       "      <td>77.0</td>\n",
       "      <td>0.0</td>\n",
       "      <td>0.0</td>\n",
       "      <td>Yes</td>\n",
       "      <td>Self-employed</td>\n",
       "      <td>Rural</td>\n",
       "      <td>187.28</td>\n",
       "      <td>27.9</td>\n",
       "      <td>formerly smoked</td>\n",
       "      <td>0.0</td>\n",
       "    </tr>\n",
       "    <tr>\n",
       "      <th>9710</th>\n",
       "      <td>16450</td>\n",
       "      <td>Female</td>\n",
       "      <td>44.0</td>\n",
       "      <td>0.0</td>\n",
       "      <td>0.0</td>\n",
       "      <td>No</td>\n",
       "      <td>Govt_job</td>\n",
       "      <td>Urban</td>\n",
       "      <td>67.09</td>\n",
       "      <td>31.2</td>\n",
       "      <td>smokes</td>\n",
       "      <td>0.0</td>\n",
       "    </tr>\n",
       "    <tr>\n",
       "      <th>9711</th>\n",
       "      <td>18341</td>\n",
       "      <td>Female</td>\n",
       "      <td>57.0</td>\n",
       "      <td>0.0</td>\n",
       "      <td>0.0</td>\n",
       "      <td>Yes</td>\n",
       "      <td>Private</td>\n",
       "      <td>Rural</td>\n",
       "      <td>186.49</td>\n",
       "      <td>42.7</td>\n",
       "      <td>smokes</td>\n",
       "      <td>0.0</td>\n",
       "    </tr>\n",
       "  </tbody>\n",
       "</table>\n",
       "<p>9712 rows × 12 columns</p>\n",
       "</div>"
      ],
      "text/plain": [
       "      Unnamed: 0  gender   age  hypertension  heart_disease ever_married  \\\n",
       "0             31    Male  58.0           1.0            0.0          Yes   \n",
       "1             48    Male  27.0           0.0            0.0           No   \n",
       "2             62    Male  64.0           0.0            0.0          Yes   \n",
       "3             90    Male  56.0           0.0            0.0          Yes   \n",
       "4             93    Male  53.0           1.0            1.0          Yes   \n",
       "...          ...     ...   ...           ...            ...          ...   \n",
       "9707        4477  Female  38.0           0.0            0.0           No   \n",
       "9708       25500  Female  76.0           0.0            0.0          Yes   \n",
       "9709       25998  Female  77.0           0.0            0.0          Yes   \n",
       "9710       16450  Female  44.0           0.0            0.0           No   \n",
       "9711       18341  Female  57.0           0.0            0.0          Yes   \n",
       "\n",
       "          work_type Residence_type  avg_glucose_level   bmi   smoking_status  \\\n",
       "0          Govt_job          Rural              56.96  26.8           smokes   \n",
       "1          Govt_job          Urban              95.10  24.3  formerly smoked   \n",
       "2          Govt_job          Urban             239.64  34.6  formerly smoked   \n",
       "3          Govt_job          Rural              73.02  31.1     never smoked   \n",
       "4          Govt_job          Rural             109.51  41.9     never smoked   \n",
       "...             ...            ...                ...   ...              ...   \n",
       "9707       Govt_job          Rural             122.71  50.5  formerly smoked   \n",
       "9708        Private          Rural             143.22  24.4           smokes   \n",
       "9709  Self-employed          Rural             187.28  27.9  formerly smoked   \n",
       "9710       Govt_job          Urban              67.09  31.2           smokes   \n",
       "9711        Private          Rural             186.49  42.7           smokes   \n",
       "\n",
       "      stroke  \n",
       "0        0.0  \n",
       "1        0.0  \n",
       "2        0.0  \n",
       "3        0.0  \n",
       "4        0.0  \n",
       "...      ...  \n",
       "9707     0.0  \n",
       "9708     0.0  \n",
       "9709     0.0  \n",
       "9710     0.0  \n",
       "9711     0.0  \n",
       "\n",
       "[9712 rows x 12 columns]"
      ]
     },
     "execution_count": 293,
     "metadata": {},
     "output_type": "execute_result"
    }
   ],
   "source": [
    "df_sample_female\n",
    "df_sample_male\n",
    "df_sample2 = df_sample_male.append(df_sample_female, ignore_index=True)\n",
    "df_sample2"
   ]
  },
  {
   "cell_type": "code",
   "execution_count": 310,
   "metadata": {},
   "outputs": [
    {
     "data": {
      "text/html": [
       "<div>\n",
       "<style scoped>\n",
       "    .dataframe tbody tr th:only-of-type {\n",
       "        vertical-align: middle;\n",
       "    }\n",
       "\n",
       "    .dataframe tbody tr th {\n",
       "        vertical-align: top;\n",
       "    }\n",
       "\n",
       "    .dataframe thead th {\n",
       "        text-align: right;\n",
       "    }\n",
       "</style>\n",
       "<table border=\"1\" class=\"dataframe\">\n",
       "  <thead>\n",
       "    <tr style=\"text-align: right;\">\n",
       "      <th></th>\n",
       "      <th>Source</th>\n",
       "      <th>SS</th>\n",
       "      <th>DF</th>\n",
       "      <th>MS</th>\n",
       "      <th>F</th>\n",
       "      <th>p-unc</th>\n",
       "      <th>np2</th>\n",
       "      <th>power</th>\n",
       "    </tr>\n",
       "  </thead>\n",
       "  <tbody>\n",
       "    <tr>\n",
       "      <th>0</th>\n",
       "      <td>work_type</td>\n",
       "      <td>1.153083e+05</td>\n",
       "      <td>2.0</td>\n",
       "      <td>57654.131402</td>\n",
       "      <td>25.497339</td>\n",
       "      <td>9.028887e-12</td>\n",
       "      <td>0.005226</td>\n",
       "      <td>0.060089</td>\n",
       "    </tr>\n",
       "    <tr>\n",
       "      <th>1</th>\n",
       "      <td>gender</td>\n",
       "      <td>5.744784e+04</td>\n",
       "      <td>1.0</td>\n",
       "      <td>57447.838942</td>\n",
       "      <td>25.406107</td>\n",
       "      <td>4.728265e-07</td>\n",
       "      <td>0.002611</td>\n",
       "      <td>0.052488</td>\n",
       "    </tr>\n",
       "    <tr>\n",
       "      <th>2</th>\n",
       "      <td>work_type * gender</td>\n",
       "      <td>1.929925e+03</td>\n",
       "      <td>2.0</td>\n",
       "      <td>964.962360</td>\n",
       "      <td>0.426751</td>\n",
       "      <td>6.526381e-01</td>\n",
       "      <td>0.000088</td>\n",
       "      <td>0.050003</td>\n",
       "    </tr>\n",
       "    <tr>\n",
       "      <th>3</th>\n",
       "      <td>Residual</td>\n",
       "      <td>2.194704e+07</td>\n",
       "      <td>9706.0</td>\n",
       "      <td>2261.182296</td>\n",
       "      <td>NaN</td>\n",
       "      <td>NaN</td>\n",
       "      <td>NaN</td>\n",
       "      <td>NaN</td>\n",
       "    </tr>\n",
       "  </tbody>\n",
       "</table>\n",
       "</div>"
      ],
      "text/plain": [
       "               Source            SS      DF            MS          F  \\\n",
       "0           work_type  1.153083e+05     2.0  57654.131402  25.497339   \n",
       "1              gender  5.744784e+04     1.0  57447.838942  25.406107   \n",
       "2  work_type * gender  1.929925e+03     2.0    964.962360   0.426751   \n",
       "3            Residual  2.194704e+07  9706.0   2261.182296        NaN   \n",
       "\n",
       "          p-unc       np2     power  \n",
       "0  9.028887e-12  0.005226  0.060089  \n",
       "1  4.728265e-07  0.002611  0.052488  \n",
       "2  6.526381e-01  0.000088  0.050003  \n",
       "3           NaN       NaN       NaN  "
      ]
     },
     "execution_count": 310,
     "metadata": {},
     "output_type": "execute_result"
    }
   ],
   "source": [
    "#Two way anova >> can calculate effect size and power \n",
    "aov = pg.anova(dv = 'avg_glucose_level', between=['work_type','gender'], data=df_sample2, detailed =True)\n",
    "etaa = aov['np2'][0:3]\n",
    "f0 = np.sqrt(etaa[0]**2/(1-etaa[0]**2))\n",
    "f1 = np.sqrt(etaa[1]**2/(1-etaa[1]**2))\n",
    "f2 = np.sqrt(etaa[2]**2/(1-etaa[2]**2))\n",
    "\n",
    "power_analysis = smp.FTestAnovaPower()\n",
    "p0 = power_analysis.solve_power(effect_size=f0, nobs=df_sample_male.shape[0],  alpha=0.05, power=None, k_groups=3)\n",
    "p1 = power_analysis.solve_power(effect_size=f1, nobs=df_sample_male.shape[0],  alpha=0.05, power=None, k_groups=3)\n",
    "p2 = power_analysis.solve_power(effect_size=f2, nobs=df_sample_male.shape[0],  alpha=0.05, power=None, k_groups=3)\n",
    "aov['power'] = [p0,p1,p2,'NaN']\n",
    "aov"
   ]
  },
  {
   "cell_type": "code",
   "execution_count": 315,
   "metadata": {},
   "outputs": [
    {
     "name": "stdout",
     "output_type": "stream",
     "text": [
      "        A     B     mean(A)     mean(B)      diff        se         T  \\\n",
      "0  Female  Male  106.478812  111.406316 -4.927504  0.967411 -5.093498   \n",
      "\n",
      "        p-tukey  eta-square  \n",
      "0  3.581181e-07    0.002664  \n"
     ]
    }
   ],
   "source": [
    "print(pg.pairwise_tukey(dv='avg_glucose_level', between=['gender'], effsize ='eta-square', data= df_sample2))\n",
    "#print(pg.pairwise_tukey(dv='avg_glucose_level', between=['work_type'], effsize ='eta-square', data= df_sample2))\n"
   ]
  },
  {
   "cell_type": "code",
   "execution_count": null,
   "metadata": {},
   "outputs": [],
   "source": []
  }
 ],
 "metadata": {
  "kernelspec": {
   "display_name": "Python 3",
   "language": "python",
   "name": "python3"
  },
  "language_info": {
   "codemirror_mode": {
    "name": "ipython",
    "version": 3
   },
   "file_extension": ".py",
   "mimetype": "text/x-python",
   "name": "python",
   "nbconvert_exporter": "python",
   "pygments_lexer": "ipython3",
   "version": "3.8.3"
  }
 },
 "nbformat": 4,
 "nbformat_minor": 4
}
